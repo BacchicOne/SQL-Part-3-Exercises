{
    "metadata": {
        "kernelspec": {
            "name": "SQL",
            "display_name": "SQL",
            "language": "sql"
        },
        "language_info": {
            "name": "sql",
            "version": ""
        },
        "extensions": {
            "azuredatastudio": {
                "version": 1,
                "views": []
            }
        }
    },
    "nbformat_minor": 2,
    "nbformat": 4,
    "cells": [
        {
            "cell_type": "markdown",
            "source": [
                "# SQL Part 3 Exercises Joins\n",
                "\n",
                "This notebook works with the BooksDB dataset.  \n",
                "\n",
                "**Questions 1-4** focus on how joins work in a more general sense.  If you are not sure how to best answer the questions, try manipulating the queries by changing the order of joins, the length of the TOP, or how they are ordered.  \n",
                "\n",
                "> <span style=\"background-color: rgba(127, 127, 127, 0.1);\"><i>Note</i>: If some of the queries are not returning quickly, you can try closing and restarting azure data studio after a few minutes.</span>\n",
                "\n",
                "In **questions 5-8**, you will be asked to join tables to find results about titles, tags, and the books users want to read.\n",
                "\n",
                "As you go through the questions, you will see 'Minimum Desired Output'.  This will provide you with the bare minimum columns needed to answer the questions.  When you write the queries, add as many additional columns as you need to best find your answers."
            ],
            "metadata": {
                "azdata_cell_guid": "db9534a9-c8a7-4c09-8180-bcba0690bb02"
            },
            "attachments": {}
        },
        {
            "cell_type": "code",
            "source": [
                "SELECT TOP 100 *\r\n",
                "FROM BooksDB.dbo.books"
            ],
            "metadata": {
                "azdata_cell_guid": "7ffdd826-726e-4476-9ef3-eb71c82db42c",
                "language": "sql"
            },
            "outputs": [
                {
                    "output_type": "display_data",
                    "data": {
                        "text/html": "(100 rows affected)"
                    },
                    "metadata": {}
                },
                {
                    "output_type": "display_data",
                    "data": {
                        "text/html": "Total execution time: 00:00:00.118"
                    },
                    "metadata": {}
                },
                {
                    "output_type": "execute_result",
                    "metadata": {},
                    "execution_count": 2,
                    "data": {
                        "application/vnd.dataresource+json": {
                            "schema": {
                                "fields": [
                                    {
                                        "name": "id"
                                    },
                                    {
                                        "name": "book_id"
                                    },
                                    {
                                        "name": "best_book_id"
                                    },
                                    {
                                        "name": "work_id"
                                    },
                                    {
                                        "name": "books_count"
                                    },
                                    {
                                        "name": "isbn"
                                    },
                                    {
                                        "name": "isbn13"
                                    },
                                    {
                                        "name": "authors"
                                    },
                                    {
                                        "name": "original_publication_year"
                                    },
                                    {
                                        "name": "original_title"
                                    },
                                    {
                                        "name": "title"
                                    },
                                    {
                                        "name": "language_code"
                                    },
                                    {
                                        "name": "average_rating"
                                    },
                                    {
                                        "name": "ratings_count"
                                    },
                                    {
                                        "name": "work_ratings_count"
                                    },
                                    {
                                        "name": "work_text_reviews_count"
                                    },
                                    {
                                        "name": "ratings_1"
                                    },
                                    {
                                        "name": "ratings_2"
                                    },
                                    {
                                        "name": "ratings_3"
                                    },
                                    {
                                        "name": "ratings_4"
                                    },
                                    {
                                        "name": "ratings_5"
                                    },
                                    {
                                        "name": "image_url"
                                    },
                                    {
                                        "name": "small_image_url"
                                    }
                                ]
                            },
                            "data": [
                                {
                                    "0": "1",
                                    "1": "2767052",
                                    "2": "2767052",
                                    "3": "2792775",
                                    "4": "272",
                                    "5": "439023483",
                                    "6": "9780439023480",
                                    "7": "Suzanne Collins",
                                    "8": "2008",
                                    "9": "The Hunger Games",
                                    "10": "The Hunger Games (The Hunger Games, #1)",
                                    "11": "eng",
                                    "12": "4.34",
                                    "13": "4780653",
                                    "14": "4942365",
                                    "15": "155254",
                                    "16": "66715",
                                    "17": "127936",
                                    "18": "560092",
                                    "19": "1481305",
                                    "20": "2706317",
                                    "21": "https://images.gr-assets.com/books/1447303603m/2767052.jpg",
                                    "22": "https://images.gr-assets.com/books/1447303603s/2767052.jpg"
                                },
                                {
                                    "0": "2",
                                    "1": "3",
                                    "2": "3",
                                    "3": "4640799",
                                    "4": "491",
                                    "5": "439554934",
                                    "6": "9780439554930",
                                    "7": "J.K. Rowling, Mary GrandPré",
                                    "8": "1997",
                                    "9": "Harry Potter and the Philosopher's Stone",
                                    "10": "Harry Potter and the Sorcerer's Stone (Harry Potter, #1)",
                                    "11": "eng",
                                    "12": "4.44",
                                    "13": "4602479",
                                    "14": "4800065",
                                    "15": "75867",
                                    "16": "75504",
                                    "17": "101676",
                                    "18": "455024",
                                    "19": "1156318",
                                    "20": "3011543",
                                    "21": "https://images.gr-assets.com/books/1474154022m/3.jpg",
                                    "22": "https://images.gr-assets.com/books/1474154022s/3.jpg"
                                },
                                {
                                    "0": "3",
                                    "1": "41865",
                                    "2": "41865",
                                    "3": "3212258",
                                    "4": "226",
                                    "5": "316015849",
                                    "6": "9780316015840",
                                    "7": "Stephenie Meyer",
                                    "8": "2005",
                                    "9": "Twilight",
                                    "10": "Twilight (Twilight, #1)",
                                    "11": "en-US",
                                    "12": "3.57",
                                    "13": "3866839",
                                    "14": "3916824",
                                    "15": "95009",
                                    "16": "456191",
                                    "17": "436802",
                                    "18": "793319",
                                    "19": "875073",
                                    "20": "1355439",
                                    "21": "https://images.gr-assets.com/books/1361039443m/41865.jpg",
                                    "22": "https://images.gr-assets.com/books/1361039443s/41865.jpg"
                                },
                                {
                                    "0": "4",
                                    "1": "2657",
                                    "2": "2657",
                                    "3": "3275794",
                                    "4": "487",
                                    "5": "61120081",
                                    "6": "9780061120080",
                                    "7": "Harper Lee",
                                    "8": "1960",
                                    "9": "To Kill a Mockingbird",
                                    "10": "To Kill a Mockingbird",
                                    "11": "eng",
                                    "12": "4.25",
                                    "13": "3198671",
                                    "14": "3340896",
                                    "15": "72586",
                                    "16": "60427",
                                    "17": "117415",
                                    "18": "446835",
                                    "19": "1001952",
                                    "20": "1714267",
                                    "21": "https://images.gr-assets.com/books/1361975680m/2657.jpg",
                                    "22": "https://images.gr-assets.com/books/1361975680s/2657.jpg"
                                },
                                {
                                    "0": "5",
                                    "1": "4671",
                                    "2": "4671",
                                    "3": "245494",
                                    "4": "1356",
                                    "5": "743273567",
                                    "6": "9780743273560",
                                    "7": "F. Scott Fitzgerald",
                                    "8": "1925",
                                    "9": "The Great Gatsby",
                                    "10": "The Great Gatsby",
                                    "11": "eng",
                                    "12": "3.89",
                                    "13": "2683664",
                                    "14": "2773745",
                                    "15": "51992",
                                    "16": "86236",
                                    "17": "197621",
                                    "18": "606158",
                                    "19": "936012",
                                    "20": "947718",
                                    "21": "https://images.gr-assets.com/books/1490528560m/4671.jpg",
                                    "22": "https://images.gr-assets.com/books/1490528560s/4671.jpg"
                                },
                                {
                                    "0": "6",
                                    "1": "11870085",
                                    "2": "11870085",
                                    "3": "16827462",
                                    "4": "226",
                                    "5": "525478817",
                                    "6": "9780525478810",
                                    "7": "John Green",
                                    "8": "2012",
                                    "9": "The Fault in Our Stars",
                                    "10": "The Fault in Our Stars",
                                    "11": "eng",
                                    "12": "4.26",
                                    "13": "2346404",
                                    "14": "2478609",
                                    "15": "140739",
                                    "16": "47994",
                                    "17": "92723",
                                    "18": "327550",
                                    "19": "698471",
                                    "20": "1311871",
                                    "21": "https://images.gr-assets.com/books/1360206420m/11870085.jpg",
                                    "22": "https://images.gr-assets.com/books/1360206420s/11870085.jpg"
                                },
                                {
                                    "0": "7",
                                    "1": "5907",
                                    "2": "5907",
                                    "3": "1540236",
                                    "4": "969",
                                    "5": "618260307",
                                    "6": "9780618260300",
                                    "7": "J.R.R. Tolkien",
                                    "8": "1937",
                                    "9": "The Hobbit or There and Back Again",
                                    "10": "The Hobbit",
                                    "11": "en-US",
                                    "12": "4.25",
                                    "13": "2071616",
                                    "14": "2196809",
                                    "15": "37653",
                                    "16": "46023",
                                    "17": "76784",
                                    "18": "288649",
                                    "19": "665635",
                                    "20": "1119718",
                                    "21": "https://images.gr-assets.com/books/1372847500m/5907.jpg",
                                    "22": "https://images.gr-assets.com/books/1372847500s/5907.jpg"
                                },
                                {
                                    "0": "8",
                                    "1": "5107",
                                    "2": "5107",
                                    "3": "3036731",
                                    "4": "360",
                                    "5": "316769177",
                                    "6": "9780316769170",
                                    "7": "J.D. Salinger",
                                    "8": "1951",
                                    "9": "The Catcher in the Rye",
                                    "10": "The Catcher in the Rye",
                                    "11": "eng",
                                    "12": "3.79",
                                    "13": "2044241",
                                    "14": "2120637",
                                    "15": "44920",
                                    "16": "109383",
                                    "17": "185520",
                                    "18": "455042",
                                    "19": "661516",
                                    "20": "709176",
                                    "21": "https://images.gr-assets.com/books/1398034300m/5107.jpg",
                                    "22": "https://images.gr-assets.com/books/1398034300s/5107.jpg"
                                },
                                {
                                    "0": "9",
                                    "1": "960",
                                    "2": "960",
                                    "3": "3338963",
                                    "4": "311",
                                    "5": "1416524797",
                                    "6": "9781416524790",
                                    "7": "Dan Brown",
                                    "8": "2000",
                                    "9": "Angels & Demons ",
                                    "10": "Angels & Demons  (Robert Langdon, #1)",
                                    "11": "en-CA",
                                    "12": "3.85",
                                    "13": "2001311",
                                    "14": "2078754",
                                    "15": "25112",
                                    "16": "77841",
                                    "17": "145740",
                                    "18": "458429",
                                    "19": "716569",
                                    "20": "680175",
                                    "21": "https://images.gr-assets.com/books/1303390735m/960.jpg",
                                    "22": "https://images.gr-assets.com/books/1303390735s/960.jpg"
                                },
                                {
                                    "0": "10",
                                    "1": "1885",
                                    "2": "1885",
                                    "3": "3060926",
                                    "4": "3455",
                                    "5": "679783261",
                                    "6": "9780679783270",
                                    "7": "Jane Austen",
                                    "8": "1813",
                                    "9": "Pride and Prejudice",
                                    "10": "Pride and Prejudice",
                                    "11": "eng",
                                    "12": "4.24",
                                    "13": "2035490",
                                    "14": "2191465",
                                    "15": "49152",
                                    "16": "54700",
                                    "17": "86485",
                                    "18": "284852",
                                    "19": "609755",
                                    "20": "1155673",
                                    "21": "https://images.gr-assets.com/books/1320399351m/1885.jpg",
                                    "22": "https://images.gr-assets.com/books/1320399351s/1885.jpg"
                                },
                                {
                                    "0": "11",
                                    "1": "77203",
                                    "2": "77203",
                                    "3": "3295919",
                                    "4": "283",
                                    "5": "1594480001",
                                    "6": "9781594480000",
                                    "7": "Khaled Hosseini",
                                    "8": "2003",
                                    "9": "The Kite Runner ",
                                    "10": "The Kite Runner",
                                    "11": "eng",
                                    "12": "4.26",
                                    "13": "1813044",
                                    "14": "1878095",
                                    "15": "59730",
                                    "16": "34288",
                                    "17": "59980",
                                    "18": "226062",
                                    "19": "628174",
                                    "20": "929591",
                                    "21": "https://images.gr-assets.com/books/1484565687m/77203.jpg",
                                    "22": "https://images.gr-assets.com/books/1484565687s/77203.jpg"
                                },
                                {
                                    "0": "12",
                                    "1": "13335037",
                                    "2": "13335037",
                                    "3": "13155899",
                                    "4": "210",
                                    "5": "62024035",
                                    "6": "9780062024040",
                                    "7": "Veronica Roth",
                                    "8": "2011",
                                    "9": "Divergent",
                                    "10": "Divergent (Divergent, #1)",
                                    "11": "eng",
                                    "12": "4.24",
                                    "13": "1903563",
                                    "14": "2216814",
                                    "15": "101023",
                                    "16": "36315",
                                    "17": "82870",
                                    "18": "310297",
                                    "19": "673028",
                                    "20": "1114304",
                                    "21": "https://images.gr-assets.com/books/1328559506m/13335037.jpg",
                                    "22": "https://images.gr-assets.com/books/1328559506s/13335037.jpg"
                                },
                                {
                                    "0": "13",
                                    "1": "5470",
                                    "2": "5470",
                                    "3": "153313",
                                    "4": "995",
                                    "5": "451524934",
                                    "6": "9780451524940",
                                    "7": "George Orwell, Erich Fromm, Celâl Üster",
                                    "8": "1949",
                                    "9": "Nineteen Eighty-Four",
                                    "10": "1984",
                                    "11": "eng",
                                    "12": "4.14",
                                    "13": "1956832",
                                    "14": "2053394",
                                    "15": "45518",
                                    "16": "41845",
                                    "17": "86425",
                                    "18": "324874",
                                    "19": "692021",
                                    "20": "908229",
                                    "21": "https://images.gr-assets.com/books/1348990566m/5470.jpg",
                                    "22": "https://images.gr-assets.com/books/1348990566s/5470.jpg"
                                },
                                {
                                    "0": "14",
                                    "1": "7613",
                                    "2": "7613",
                                    "3": "2207778",
                                    "4": "896",
                                    "5": "452284244",
                                    "6": "9780452284240",
                                    "7": "George Orwell",
                                    "8": "1945",
                                    "9": "Animal Farm: A Fairy Story",
                                    "10": "Animal Farm",
                                    "11": "eng",
                                    "12": "3.87",
                                    "13": "1881700",
                                    "14": "1982987",
                                    "15": "35472",
                                    "16": "66854",
                                    "17": "135147",
                                    "18": "433432",
                                    "19": "698642",
                                    "20": "648912",
                                    "21": "https://images.gr-assets.com/books/1424037542m/7613.jpg",
                                    "22": "https://images.gr-assets.com/books/1424037542s/7613.jpg"
                                },
                                {
                                    "0": "15",
                                    "1": "48855",
                                    "2": "48855",
                                    "3": "3532896",
                                    "4": "710",
                                    "5": "553296981",
                                    "6": "9780553296980",
                                    "7": "Anne Frank, Eleanor Roosevelt, B.M. Mooyaart-Doubleday",
                                    "8": "1947",
                                    "9": "Het Achterhuis: Dagboekbrieven 14 juni 1942 - 1 augustus 1944",
                                    "10": "The Diary of a Young Girl",
                                    "11": "eng",
                                    "12": "4.1",
                                    "13": "1972666",
                                    "14": "2024493",
                                    "15": "20825",
                                    "16": "45225",
                                    "17": "91270",
                                    "18": "355756",
                                    "19": "656870",
                                    "20": "875372",
                                    "21": "https://images.gr-assets.com/books/1358276407m/48855.jpg",
                                    "22": "https://images.gr-assets.com/books/1358276407s/48855.jpg"
                                },
                                {
                                    "0": "16",
                                    "1": "2429135",
                                    "2": "2429135",
                                    "3": "1708725",
                                    "4": "274",
                                    "5": "307269752",
                                    "6": "9780307269750",
                                    "7": "Stieg Larsson, Reg Keeland",
                                    "8": "2005",
                                    "9": "Män som hatar kvinnor",
                                    "10": "The Girl with the Dragon Tattoo (Millennium, #1)",
                                    "11": "eng",
                                    "12": "4.11",
                                    "13": "1808403",
                                    "14": "1929834",
                                    "15": "62543",
                                    "16": "54835",
                                    "17": "86051",
                                    "18": "285413",
                                    "19": "667485",
                                    "20": "836050",
                                    "21": "https://images.gr-assets.com/books/1327868566m/2429135.jpg",
                                    "22": "https://images.gr-assets.com/books/1327868566s/2429135.jpg"
                                },
                                {
                                    "0": "17",
                                    "1": "6148028",
                                    "2": "6148028",
                                    "3": "6171458",
                                    "4": "201",
                                    "5": "439023491",
                                    "6": "9780439023500",
                                    "7": "Suzanne Collins",
                                    "8": "2009",
                                    "9": "Catching Fire",
                                    "10": "Catching Fire (The Hunger Games, #2)",
                                    "11": "eng",
                                    "12": "4.3",
                                    "13": "1831039",
                                    "14": "1988079",
                                    "15": "88538",
                                    "16": "10492",
                                    "17": "48030",
                                    "18": "262010",
                                    "19": "687238",
                                    "20": "980309",
                                    "21": "https://images.gr-assets.com/books/1358273780m/6148028.jpg",
                                    "22": "https://images.gr-assets.com/books/1358273780s/6148028.jpg"
                                },
                                {
                                    "0": "18",
                                    "1": "5",
                                    "2": "5",
                                    "3": "2402163",
                                    "4": "376",
                                    "5": "043965548X",
                                    "6": "9780439655480",
                                    "7": "J.K. Rowling, Mary GrandPré, Rufus Beck",
                                    "8": "1999",
                                    "9": "Harry Potter and the Prisoner of Azkaban",
                                    "10": "Harry Potter and the Prisoner of Azkaban (Harry Potter, #3)",
                                    "11": "eng",
                                    "12": "4.53",
                                    "13": "1832823",
                                    "14": "1969375",
                                    "15": "36099",
                                    "16": "6716",
                                    "17": "20413",
                                    "18": "166129",
                                    "19": "509447",
                                    "20": "1266670",
                                    "21": "https://images.gr-assets.com/books/1499277281m/5.jpg",
                                    "22": "https://images.gr-assets.com/books/1499277281s/5.jpg"
                                },
                                {
                                    "0": "19",
                                    "1": "34",
                                    "2": "34",
                                    "3": "3204327",
                                    "4": "566",
                                    "5": "618346252",
                                    "6": "9780618346260",
                                    "7": "J.R.R. Tolkien",
                                    "8": "1954",
                                    "9": "The Fellowship of the Ring",
                                    "10": "The Fellowship of the Ring (The Lord of the Rings, #1)",
                                    "11": "eng",
                                    "12": "4.34",
                                    "13": "1766803",
                                    "14": "1832541",
                                    "15": "15333",
                                    "16": "38031",
                                    "17": "55862",
                                    "18": "202332",
                                    "19": "493922",
                                    "20": "1042394",
                                    "21": "https://images.gr-assets.com/books/1298411339m/34.jpg",
                                    "22": "https://images.gr-assets.com/books/1298411339s/34.jpg"
                                },
                                {
                                    "0": "20",
                                    "1": "7260188",
                                    "2": "7260188",
                                    "3": "8812783",
                                    "4": "239",
                                    "5": "439023513",
                                    "6": "9780439023510",
                                    "7": "Suzanne Collins",
                                    "8": "2010",
                                    "9": "Mockingjay",
                                    "10": "Mockingjay (The Hunger Games, #3)",
                                    "11": "eng",
                                    "12": "4.03",
                                    "13": "1719760",
                                    "14": "1870748",
                                    "15": "96274",
                                    "16": "30144",
                                    "17": "110498",
                                    "18": "373060",
                                    "19": "618271",
                                    "20": "738775",
                                    "21": "https://images.gr-assets.com/books/1358275419m/7260188.jpg",
                                    "22": "https://images.gr-assets.com/books/1358275419s/7260188.jpg"
                                },
                                {
                                    "0": "21",
                                    "1": "2",
                                    "2": "2",
                                    "3": "2809203",
                                    "4": "307",
                                    "5": "439358078",
                                    "6": "9780439358070",
                                    "7": "J.K. Rowling, Mary GrandPré",
                                    "8": "2003",
                                    "9": "Harry Potter and the Order of the Phoenix",
                                    "10": "Harry Potter and the Order of the Phoenix (Harry Potter, #5)",
                                    "11": "eng",
                                    "12": "4.46",
                                    "13": "1735368",
                                    "14": "1840548",
                                    "15": "28685",
                                    "16": "9528",
                                    "17": "31577",
                                    "18": "180210",
                                    "19": "494427",
                                    "20": "1124806",
                                    "21": "https://images.gr-assets.com/books/1387141547m/2.jpg",
                                    "22": "https://images.gr-assets.com/books/1387141547s/2.jpg"
                                },
                                {
                                    "0": "22",
                                    "1": "12232938",
                                    "2": "12232938",
                                    "3": "1145090",
                                    "4": "183",
                                    "5": "316166685",
                                    "6": "9780316166680",
                                    "7": "Alice Sebold",
                                    "8": "2002",
                                    "9": "The Lovely Bones",
                                    "10": "The Lovely Bones",
                                    "11": "eng",
                                    "12": "3.77",
                                    "13": "1605173",
                                    "14": "1661562",
                                    "15": "36642",
                                    "16": "62777",
                                    "17": "131188",
                                    "18": "404699",
                                    "19": "583575",
                                    "20": "479323",
                                    "21": "https://images.gr-assets.com/books/1457810586m/12232938.jpg",
                                    "22": "https://images.gr-assets.com/books/1457810586s/12232938.jpg"
                                },
                                {
                                    "0": "23",
                                    "1": "15881",
                                    "2": "15881",
                                    "3": "6231171",
                                    "4": "398",
                                    "5": "439064864",
                                    "6": "9780439064870",
                                    "7": "J.K. Rowling, Mary GrandPré",
                                    "8": "1998",
                                    "9": "Harry Potter and the Chamber of Secrets",
                                    "10": "Harry Potter and the Chamber of Secrets (Harry Potter, #2)",
                                    "11": "eng",
                                    "12": "4.37",
                                    "13": "1779331",
                                    "14": "1906199",
                                    "15": "34172",
                                    "16": "8253",
                                    "17": "42251",
                                    "18": "242345",
                                    "19": "548266",
                                    "20": "1065084",
                                    "21": "https://images.gr-assets.com/books/1474169725m/15881.jpg",
                                    "22": "https://images.gr-assets.com/books/1474169725s/15881.jpg"
                                },
                                {
                                    "0": "24",
                                    "1": "6",
                                    "2": "6",
                                    "3": "3046572",
                                    "4": "332",
                                    "5": "439139600",
                                    "6": "9780439139600",
                                    "7": "J.K. Rowling, Mary GrandPré",
                                    "8": "2000",
                                    "9": "Harry Potter and the Goblet of Fire",
                                    "10": "Harry Potter and the Goblet of Fire (Harry Potter, #4)",
                                    "11": "eng",
                                    "12": "4.53",
                                    "13": "1753043",
                                    "14": "1868642",
                                    "15": "31084",
                                    "16": "6676",
                                    "17": "20210",
                                    "18": "151785",
                                    "19": "494926",
                                    "20": "1195045",
                                    "21": "https://images.gr-assets.com/books/1361482611m/6.jpg",
                                    "22": "https://images.gr-assets.com/books/1361482611s/6.jpg"
                                },
                                {
                                    "0": "25",
                                    "1": "136251",
                                    "2": "136251",
                                    "3": "2963218",
                                    "4": "263",
                                    "5": "545010225",
                                    "6": "9780545010220",
                                    "7": "J.K. Rowling, Mary GrandPré",
                                    "8": "2007",
                                    "9": "Harry Potter and the Deathly Hallows",
                                    "10": "Harry Potter and the Deathly Hallows (Harry Potter, #7)",
                                    "11": "eng",
                                    "12": "4.61",
                                    "13": "1746574",
                                    "14": "1847395",
                                    "15": "51942",
                                    "16": "9363",
                                    "17": "22245",
                                    "18": "113646",
                                    "19": "383914",
                                    "20": "1318227",
                                    "21": "https://images.gr-assets.com/books/1474171184m/136251.jpg",
                                    "22": "https://images.gr-assets.com/books/1474171184s/136251.jpg"
                                },
                                {
                                    "0": "26",
                                    "1": "968",
                                    "2": "968",
                                    "3": "2982101",
                                    "4": "350",
                                    "5": "307277674",
                                    "6": "9780307277670",
                                    "7": "Dan Brown",
                                    "8": "2003",
                                    "9": "The Da Vinci Code",
                                    "10": "The Da Vinci Code (Robert Langdon, #2)",
                                    "11": "eng",
                                    "12": "3.79",
                                    "13": "1447148",
                                    "14": "1557292",
                                    "15": "41560",
                                    "16": "71345",
                                    "17": "126493",
                                    "18": "340790",
                                    "19": "539277",
                                    "20": "479387",
                                    "21": "https://images.gr-assets.com/books/1303252999m/968.jpg",
                                    "22": "https://images.gr-assets.com/books/1303252999s/968.jpg"
                                },
                                {
                                    "0": "27",
                                    "1": "1",
                                    "2": "1",
                                    "3": "41335427",
                                    "4": "275",
                                    "5": "439785960",
                                    "6": "9780439785970",
                                    "7": "J.K. Rowling, Mary GrandPré",
                                    "8": "2005",
                                    "9": "Harry Potter and the Half-Blood Prince",
                                    "10": "Harry Potter and the Half-Blood Prince (Harry Potter, #6)",
                                    "11": "eng",
                                    "12": "4.54",
                                    "13": "1678823",
                                    "14": "1785676",
                                    "15": "27520",
                                    "16": "7308",
                                    "17": "21516",
                                    "18": "136333",
                                    "19": "459028",
                                    "20": "1161491",
                                    "21": "https://images.gr-assets.com/books/1361039191m/1.jpg",
                                    "22": "https://images.gr-assets.com/books/1361039191s/1.jpg"
                                },
                                {
                                    "0": "28",
                                    "1": "7624",
                                    "2": "7624",
                                    "3": "2766512",
                                    "4": "458",
                                    "5": "140283331",
                                    "6": "9780140283330",
                                    "7": "William Golding",
                                    "8": "1954",
                                    "9": "Lord of the Flies ",
                                    "10": "Lord of the Flies",
                                    "11": "eng",
                                    "12": "3.64",
                                    "13": "1605019",
                                    "14": "1671484",
                                    "15": "26886",
                                    "16": "92779",
                                    "17": "160295",
                                    "18": "425648",
                                    "19": "564916",
                                    "20": "427846",
                                    "21": "https://images.gr-assets.com/books/1327869409m/7624.jpg",
                                    "22": "https://images.gr-assets.com/books/1327869409s/7624.jpg"
                                },
                                {
                                    "0": "29",
                                    "1": "18135",
                                    "2": "18135",
                                    "3": "3349450",
                                    "4": "1937",
                                    "5": "743477111",
                                    "6": "9780743477120",
                                    "7": "William Shakespeare, Robert           Jackson",
                                    "8": "1595",
                                    "9": "An Excellent conceited Tragedie of Romeo and Juliet",
                                    "10": "Romeo and Juliet",
                                    "11": "eng",
                                    "12": "3.73",
                                    "13": "1628519",
                                    "14": "1672889",
                                    "15": "14778",
                                    "16": "57980",
                                    "17": "153179",
                                    "18": "452673",
                                    "19": "519822",
                                    "20": "489235",
                                    "21": "https://images.gr-assets.com/books/1327872146m/18135.jpg",
                                    "22": "https://images.gr-assets.com/books/1327872146s/18135.jpg"
                                },
                                {
                                    "0": "30",
                                    "1": "8442457",
                                    "2": "19288043",
                                    "3": "13306276",
                                    "4": "196",
                                    "5": "297859382",
                                    "6": "9780297859380",
                                    "7": "Gillian Flynn",
                                    "8": "2012",
                                    "9": "Gone Girl",
                                    "10": "Gone Girl",
                                    "11": "eng",
                                    "12": "4.03",
                                    "13": "512475",
                                    "14": "1626519",
                                    "15": "121614",
                                    "16": "38874",
                                    "17": "80807",
                                    "18": "280331",
                                    "19": "616031",
                                    "20": "610476",
                                    "21": "https://images.gr-assets.com/books/1339602131m/8442457.jpg",
                                    "22": "https://images.gr-assets.com/books/1339602131s/8442457.jpg"
                                },
                                {
                                    "0": "31",
                                    "1": "4667024",
                                    "2": "4667024",
                                    "3": "4717423",
                                    "4": "183",
                                    "5": "399155341",
                                    "6": "9780399155340",
                                    "7": "Kathryn Stockett",
                                    "8": "2009",
                                    "9": "The Help",
                                    "10": "The Help",
                                    "11": "eng",
                                    "12": "4.45",
                                    "13": "1531753",
                                    "14": "1603545",
                                    "15": "78204",
                                    "16": "10235",
                                    "17": "25117",
                                    "18": "134887",
                                    "19": "490754",
                                    "20": "942552",
                                    "21": "https://images.gr-assets.com/books/1346100365m/4667024.jpg",
                                    "22": "https://images.gr-assets.com/books/1346100365s/4667024.jpg"
                                },
                                {
                                    "0": "32",
                                    "1": "890",
                                    "2": "890",
                                    "3": "40283",
                                    "4": "373",
                                    "5": "142000671",
                                    "6": "9780142000670",
                                    "7": "John Steinbeck",
                                    "8": "1937",
                                    "9": "Of Mice and Men ",
                                    "10": "Of Mice and Men",
                                    "11": "eng",
                                    "12": "3.84",
                                    "13": "1467496",
                                    "14": "1518741",
                                    "15": "24642",
                                    "16": "46630",
                                    "17": "110856",
                                    "18": "355169",
                                    "19": "532291",
                                    "20": "473795",
                                    "21": "https://images.gr-assets.com/books/1437235233m/890.jpg",
                                    "22": "https://images.gr-assets.com/books/1437235233s/890.jpg"
                                },
                                {
                                    "0": "33",
                                    "1": "930",
                                    "2": "929",
                                    "3": "1558965",
                                    "4": "220",
                                    "5": "739326228",
                                    "6": "9780739326220",
                                    "7": "Arthur Golden",
                                    "8": "1997",
                                    "9": "Memoirs of a Geisha",
                                    "10": "Memoirs of a Geisha",
                                    "11": "eng",
                                    "12": "4.08",
                                    "13": "1300209",
                                    "14": "1418172",
                                    "15": "25605",
                                    "16": "23500",
                                    "17": "59033",
                                    "18": "258700",
                                    "19": "517157",
                                    "20": "559782",
                                    "21": "https://s.gr-assets.com/assets/nophoto/book/111x148-bcc042a9c91a29c1d680899eff700a03.png",
                                    "22": "https://s.gr-assets.com/assets/nophoto/book/50x75-a91bf249278a81aabab721ef782c4a74.png"
                                },
                                {
                                    "0": "34",
                                    "1": "10818853",
                                    "2": "10818853",
                                    "3": "15732562",
                                    "4": "169",
                                    "5": "1612130291",
                                    "6": "9781612130290",
                                    "7": "E.L. James",
                                    "8": "2011",
                                    "9": "Fifty Shades of Grey",
                                    "10": "Fifty Shades of Grey (Fifty Shades, #1)",
                                    "11": "eng",
                                    "12": "3.67",
                                    "13": "1338493",
                                    "14": "1436818",
                                    "15": "75437",
                                    "16": "165455",
                                    "17": "152293",
                                    "18": "252185",
                                    "19": "294976",
                                    "20": "571909",
                                    "21": "https://images.gr-assets.com/books/1385207843m/10818853.jpg",
                                    "22": "https://images.gr-assets.com/books/1385207843s/10818853.jpg"
                                },
                                {
                                    "0": "35",
                                    "1": "865",
                                    "2": "865",
                                    "3": "4835472",
                                    "4": "458",
                                    "5": "61122416",
                                    "6": "9780061122420",
                                    "7": "Paulo Coelho, Alan R. Clarke",
                                    "8": "1988",
                                    "9": "O Alquimista",
                                    "10": "The Alchemist",
                                    "11": "eng",
                                    "12": "3.82",
                                    "13": "1299566",
                                    "14": "1403995",
                                    "15": "55781",
                                    "16": "74846",
                                    "17": "123614",
                                    "18": "289143",
                                    "19": "412180",
                                    "20": "504212",
                                    "21": "https://images.gr-assets.com/books/1483412266m/865.jpg",
                                    "22": "https://images.gr-assets.com/books/1483412266s/865.jpg"
                                },
                                {
                                    "0": "36",
                                    "1": "3636",
                                    "2": "3636",
                                    "3": "2543234",
                                    "4": "192",
                                    "5": "385732554",
                                    "6": "9780385732550",
                                    "7": "Lois Lowry",
                                    "8": "1993",
                                    "9": "The Giver",
                                    "10": "The Giver (The Giver, #1)",
                                    "11": "eng",
                                    "12": "4.12",
                                    "13": "1296825",
                                    "14": "1345445",
                                    "15": "54084",
                                    "16": "26497",
                                    "17": "59652",
                                    "18": "225326",
                                    "19": "448691",
                                    "20": "585279",
                                    "21": "https://images.gr-assets.com/books/1342493368m/3636.jpg",
                                    "22": "https://images.gr-assets.com/books/1342493368s/3636.jpg"
                                },
                                {
                                    "0": "37",
                                    "1": "100915",
                                    "2": "100915",
                                    "3": "4790821",
                                    "4": "474",
                                    "5": "60764899",
                                    "6": "9780060764890",
                                    "7": "C.S. Lewis",
                                    "8": "1950",
                                    "9": "The Lion, the Witch and the Wardrobe",
                                    "10": "The Lion, the Witch, and the Wardrobe (Chronicles of Narnia, #1)",
                                    "11": "eng",
                                    "12": "4.19",
                                    "13": "1531800",
                                    "14": "1584884",
                                    "15": "15186",
                                    "16": "19309",
                                    "17": "55542",
                                    "18": "262038",
                                    "19": "513366",
                                    "20": "734629",
                                    "21": "https://images.gr-assets.com/books/1353029077m/100915.jpg",
                                    "22": "https://images.gr-assets.com/books/1353029077s/100915.jpg"
                                },
                                {
                                    "0": "38",
                                    "1": "14050",
                                    "2": "18619684",
                                    "3": "2153746",
                                    "4": "167",
                                    "5": "965818675",
                                    "6": "9780965818670",
                                    "7": "Audrey Niffenegger",
                                    "8": "2003",
                                    "9": "The Time Traveler's Wife",
                                    "10": "The Time Traveler's Wife",
                                    "11": "eng",
                                    "12": "3.95",
                                    "13": "746287",
                                    "14": "1308667",
                                    "15": "43382",
                                    "16": "44339",
                                    "17": "85429",
                                    "18": "257805",
                                    "19": "427210",
                                    "20": "493884",
                                    "21": "https://images.gr-assets.com/books/1437728815m/14050.jpg",
                                    "22": "https://images.gr-assets.com/books/1437728815s/14050.jpg"
                                },
                                {
                                    "0": "39",
                                    "1": "13496",
                                    "2": "13496",
                                    "3": "1466917",
                                    "4": "101",
                                    "5": "553588486",
                                    "6": "9780553588480",
                                    "7": "George R.R. Martin",
                                    "8": "1996",
                                    "9": "A Game of Thrones",
                                    "10": "A Game of Thrones (A Song of Ice and Fire, #1)",
                                    "11": "eng",
                                    "12": "4.45",
                                    "13": "1319204",
                                    "14": "1442220",
                                    "15": "46205",
                                    "16": "19988",
                                    "17": "28983",
                                    "18": "114092",
                                    "19": "404583",
                                    "20": "874574",
                                    "21": "https://images.gr-assets.com/books/1436732693m/13496.jpg",
                                    "22": "https://images.gr-assets.com/books/1436732693s/13496.jpg"
                                },
                                {
                                    "0": "40",
                                    "1": "19501",
                                    "2": "19501",
                                    "3": "3352398",
                                    "4": "185",
                                    "5": "143038419",
                                    "6": "9780143038410",
                                    "7": "Elizabeth Gilbert",
                                    "8": "2006",
                                    "9": "Eat, pray, love: one woman's search for everything across Italy, India and Indonesia",
                                    "10": "Eat, Pray, Love",
                                    "11": "eng",
                                    "12": "3.51",
                                    "13": "1181647",
                                    "14": "1206597",
                                    "15": "49714",
                                    "16": "100373",
                                    "17": "149549",
                                    "18": "310212",
                                    "19": "332191",
                                    "20": "314272",
                                    "21": "https://images.gr-assets.com/books/1503066414m/19501.jpg",
                                    "22": "https://images.gr-assets.com/books/1503066414s/19501.jpg"
                                },
                                {
                                    "0": "41",
                                    "1": "28187",
                                    "2": "28187",
                                    "3": "3346751",
                                    "4": "159",
                                    "5": "786838655",
                                    "6": "9780786838650",
                                    "7": "Rick Riordan",
                                    "8": "2005",
                                    "9": "The Lightning Thief",
                                    "10": "The Lightning Thief (Percy Jackson and the Olympians, #1)",
                                    "11": "eng",
                                    "12": "4.23",
                                    "13": "1366265",
                                    "14": "1411114",
                                    "15": "46006",
                                    "16": "18303",
                                    "17": "48294",
                                    "18": "219638",
                                    "19": "435514",
                                    "20": "689365",
                                    "21": "https://images.gr-assets.com/books/1400602609m/28187.jpg",
                                    "22": "https://images.gr-assets.com/books/1400602609s/28187.jpg"
                                },
                                {
                                    "0": "42",
                                    "1": "1934",
                                    "2": "1934",
                                    "3": "3244642",
                                    "4": "1707",
                                    "5": "451529308",
                                    "6": "9780451529300",
                                    "7": "Louisa May Alcott",
                                    "8": "1868",
                                    "9": "Little Women",
                                    "10": "Little Women (Little Women, #1)",
                                    "11": "en-US",
                                    "12": "4.04",
                                    "13": "1257121",
                                    "14": "1314293",
                                    "15": "17090",
                                    "16": "31645",
                                    "17": "70011",
                                    "18": "250794",
                                    "19": "426280",
                                    "20": "535563",
                                    "21": "https://s.gr-assets.com/assets/nophoto/book/111x148-bcc042a9c91a29c1d680899eff700a03.png",
                                    "22": "https://s.gr-assets.com/assets/nophoto/book/50x75-a91bf249278a81aabab721ef782c4a74.png"
                                },
                                {
                                    "0": "43",
                                    "1": "10210",
                                    "2": "10210",
                                    "3": "2977639",
                                    "4": "2568",
                                    "5": "142437204",
                                    "6": "9780142437210",
                                    "7": "Charlotte Brontë, Michael Mason",
                                    "8": "1847",
                                    "9": "Jane Eyre",
                                    "10": "Jane Eyre",
                                    "11": "eng",
                                    "12": "4.1",
                                    "13": "1198557",
                                    "14": "1286135",
                                    "15": "31212",
                                    "16": "35132",
                                    "17": "64274",
                                    "18": "212294",
                                    "19": "400214",
                                    "20": "574221",
                                    "21": "https://images.gr-assets.com/books/1327867269m/10210.jpg",
                                    "22": "https://images.gr-assets.com/books/1327867269s/10210.jpg"
                                },
                                {
                                    "0": "44",
                                    "1": "15931",
                                    "2": "15931",
                                    "3": "1498135",
                                    "4": "190",
                                    "5": "553816713",
                                    "6": "9780553816720",
                                    "7": "Nicholas Sparks",
                                    "8": "1996",
                                    "9": "The Notebook",
                                    "10": "The Notebook (The Notebook, #1)",
                                    "11": "eng",
                                    "12": "4.06",
                                    "13": "1053403",
                                    "14": "1076749",
                                    "15": "17279",
                                    "16": "41395",
                                    "17": "63432",
                                    "18": "176469",
                                    "19": "298259",
                                    "20": "497194",
                                    "21": "https://images.gr-assets.com/books/1385738917m/15931.jpg",
                                    "22": "https://images.gr-assets.com/books/1385738917s/15931.jpg"
                                },
                                {
                                    "0": "45",
                                    "1": "4214",
                                    "2": "4214",
                                    "3": "1392700",
                                    "4": "264",
                                    "5": "770430074",
                                    "6": "9780770430080",
                                    "7": "Yann Martel",
                                    "8": "2001",
                                    "9": "Life of Pi",
                                    "10": "Life of Pi",
                                    "11": "NULL",
                                    "12": "3.88",
                                    "13": "1003228",
                                    "14": "1077431",
                                    "15": "42962",
                                    "16": "39768",
                                    "17": "74331",
                                    "18": "218702",
                                    "19": "384164",
                                    "20": "360466",
                                    "21": "https://images.gr-assets.com/books/1320562005m/4214.jpg",
                                    "22": "https://images.gr-assets.com/books/1320562005s/4214.jpg"
                                },
                                {
                                    "0": "46",
                                    "1": "43641",
                                    "2": "43641",
                                    "3": "3441236",
                                    "4": "128",
                                    "5": "1565125606",
                                    "6": "9781565125600",
                                    "7": "Sara Gruen",
                                    "8": "2006",
                                    "9": "Water for Elephants",
                                    "10": "Water for Elephants",
                                    "11": "eng",
                                    "12": "4.07",
                                    "13": "1068146",
                                    "14": "1108839",
                                    "15": "55732",
                                    "16": "16705",
                                    "17": "49832",
                                    "18": "200154",
                                    "19": "417328",
                                    "20": "424820",
                                    "21": "https://images.gr-assets.com/books/1494428973m/43641.jpg",
                                    "22": "https://images.gr-assets.com/books/1494428973s/43641.jpg"
                                },
                                {
                                    "0": "47",
                                    "1": "19063",
                                    "2": "19063",
                                    "3": "878368",
                                    "4": "251",
                                    "5": "375831002",
                                    "6": "9780375831000",
                                    "7": "Markus Zusak",
                                    "8": "2005",
                                    "9": "The Book Thief",
                                    "10": "The Book Thief",
                                    "11": "eng",
                                    "12": "4.36",
                                    "13": "1159741",
                                    "14": "1287798",
                                    "15": "93611",
                                    "16": "17892",
                                    "17": "35360",
                                    "18": "135272",
                                    "19": "377218",
                                    "20": "722056",
                                    "21": "https://images.gr-assets.com/books/1390053681m/19063.jpg",
                                    "22": "https://images.gr-assets.com/books/1390053681s/19063.jpg"
                                },
                                {
                                    "0": "48",
                                    "1": "4381",
                                    "2": "4381",
                                    "3": "1272463",
                                    "4": "507",
                                    "5": "307347974",
                                    "6": "9780307347980",
                                    "7": "Ray Bradbury",
                                    "8": "1953",
                                    "9": "Fahrenheit 451",
                                    "10": "Fahrenheit 451",
                                    "11": "spa",
                                    "12": "3.97",
                                    "13": "570498",
                                    "14": "1176240",
                                    "15": "30694",
                                    "16": "28366",
                                    "17": "64289",
                                    "18": "238242",
                                    "19": "426292",
                                    "20": "419051",
                                    "21": "https://images.gr-assets.com/books/1351643740m/4381.jpg",
                                    "22": "https://images.gr-assets.com/books/1351643740s/4381.jpg"
                                },
                                {
                                    "0": "49",
                                    "1": "49041",
                                    "2": "49041",
                                    "3": "3203964",
                                    "4": "194",
                                    "5": "316160199",
                                    "6": "9780316160190",
                                    "7": "Stephenie Meyer",
                                    "8": "2006",
                                    "9": "New Moon (Twilight, #2)",
                                    "10": "New Moon (Twilight, #2)",
                                    "11": "eng",
                                    "12": "3.52",
                                    "13": "1149630",
                                    "14": "1199000",
                                    "15": "44020",
                                    "16": "102837",
                                    "17": "160660",
                                    "18": "294207",
                                    "19": "290612",
                                    "20": "350684",
                                    "21": "https://images.gr-assets.com/books/1361039440m/49041.jpg",
                                    "22": "https://images.gr-assets.com/books/1361039440s/49041.jpg"
                                },
                                {
                                    "0": "50",
                                    "1": "30119",
                                    "2": "30119",
                                    "3": "30518",
                                    "4": "45",
                                    "5": "60513039",
                                    "6": "9780060513030",
                                    "7": "Shel Silverstein",
                                    "8": "1974",
                                    "9": "Where the Sidewalk Ends: The Poems and Drawings of Shel Silverstein",
                                    "10": "Where the Sidewalk Ends",
                                    "11": "eng",
                                    "12": "4.29",
                                    "13": "1016888",
                                    "14": "1023781",
                                    "15": "9234",
                                    "16": "16590",
                                    "17": "30792",
                                    "18": "139024",
                                    "19": "293222",
                                    "20": "544153",
                                    "21": "https://images.gr-assets.com/books/1168052448m/30119.jpg",
                                    "22": "https://images.gr-assets.com/books/1168052448s/30119.jpg"
                                },
                                {
                                    "0": "51",
                                    "1": "256683",
                                    "2": "256683",
                                    "3": "2267189",
                                    "4": "178",
                                    "5": "1416914285",
                                    "6": "9781416914280",
                                    "7": "Cassandra Clare",
                                    "8": "2007",
                                    "9": "City of Bones",
                                    "10": "City of Bones (The Mortal Instruments, #1)",
                                    "11": "eng",
                                    "12": "4.12",
                                    "13": "1154031",
                                    "14": "1241799",
                                    "15": "51589",
                                    "16": "34122",
                                    "17": "65349",
                                    "18": "203466",
                                    "19": "356048",
                                    "20": "582814",
                                    "21": "https://images.gr-assets.com/books/1432730315m/256683.jpg",
                                    "22": "https://images.gr-assets.com/books/1432730315s/256683.jpg"
                                },
                                {
                                    "0": "52",
                                    "1": "428263",
                                    "2": "428263",
                                    "3": "2675454",
                                    "4": "185",
                                    "5": "316160202",
                                    "6": "9780316160210",
                                    "7": "Stephenie Meyer",
                                    "8": "2007",
                                    "9": "Eclipse",
                                    "10": "Eclipse (Twilight, #3)",
                                    "11": "en-US",
                                    "12": "3.69",
                                    "13": "1134511",
                                    "14": "1176642",
                                    "15": "35216",
                                    "16": "83094",
                                    "17": "124293",
                                    "18": "260763",
                                    "19": "309358",
                                    "20": "399134",
                                    "21": "https://images.gr-assets.com/books/1361038355m/428263.jpg",
                                    "22": "https://images.gr-assets.com/books/1361038355s/428263.jpg"
                                },
                                {
                                    "0": "53",
                                    "1": "113436",
                                    "2": "113436",
                                    "3": "3178011",
                                    "4": "217",
                                    "5": "375826696",
                                    "6": "9780375826700",
                                    "7": "Christopher Paolini",
                                    "8": "2002",
                                    "9": "Eragon",
                                    "10": "Eragon (The Inheritance Cycle, #1)",
                                    "11": "en-US",
                                    "12": "3.86",
                                    "13": "1104021",
                                    "14": "1125231",
                                    "15": "18280",
                                    "16": "50563",
                                    "17": "88536",
                                    "18": "240157",
                                    "19": "337943",
                                    "20": "408032",
                                    "21": "https://images.gr-assets.com/books/1366212852m/113436.jpg",
                                    "22": "https://images.gr-assets.com/books/1366212852s/113436.jpg"
                                },
                                {
                                    "0": "54",
                                    "1": "11",
                                    "2": "386162",
                                    "3": "3078186",
                                    "4": "257",
                                    "5": "345391802",
                                    "6": "9780345391800",
                                    "7": "Douglas Adams",
                                    "8": "1979",
                                    "9": "The Hitchhiker's Guide to the Galaxy",
                                    "10": "The Hitchhiker's Guide to the Galaxy (Hitchhiker's Guide to the Galaxy, #1)",
                                    "11": "en-US",
                                    "12": "4.2",
                                    "13": "936782",
                                    "14": "1006479",
                                    "15": "20345",
                                    "16": "21764",
                                    "17": "41962",
                                    "18": "145173",
                                    "19": "299579",
                                    "20": "498001",
                                    "21": "https://images.gr-assets.com/books/1327656754m/11.jpg",
                                    "22": "https://images.gr-assets.com/books/1327656754s/11.jpg"
                                },
                                {
                                    "0": "55",
                                    "1": "5129",
                                    "2": "5129",
                                    "3": "3204877",
                                    "4": "515",
                                    "5": "60929871",
                                    "6": "9780060929880",
                                    "7": "Aldous Huxley",
                                    "8": "1932",
                                    "9": "Brave New World",
                                    "10": "Brave New World",
                                    "11": "eng",
                                    "12": "3.97",
                                    "13": "1022601",
                                    "14": "1079135",
                                    "15": "20095",
                                    "16": "26367",
                                    "17": "60328",
                                    "18": "219895",
                                    "19": "389379",
                                    "20": "383166",
                                    "21": "https://images.gr-assets.com/books/1487389574m/5129.jpg",
                                    "22": "https://images.gr-assets.com/books/1487389574s/5129.jpg"
                                },
                                {
                                    "0": "56",
                                    "1": "1162543",
                                    "2": "1162543",
                                    "3": "2960529",
                                    "4": "183",
                                    "5": "031606792X",
                                    "6": "9780316067930",
                                    "7": "Stephenie Meyer",
                                    "8": "2008",
                                    "9": "Breaking Dawn",
                                    "10": "Breaking Dawn (Twilight, #4)",
                                    "11": "en-US",
                                    "12": "3.7",
                                    "13": "1070245",
                                    "14": "1107709",
                                    "15": "44550",
                                    "16": "100994",
                                    "17": "114893",
                                    "18": "213402",
                                    "19": "267706",
                                    "20": "410714",
                                    "21": "https://images.gr-assets.com/books/1361039438m/1162543.jpg",
                                    "22": "https://images.gr-assets.com/books/1361039438s/1162543.jpg"
                                },
                                {
                                    "0": "57",
                                    "1": "37435",
                                    "2": "37435",
                                    "3": "3275013",
                                    "4": "125",
                                    "5": "142001740",
                                    "6": "9780142001740",
                                    "7": "Sue Monk Kidd",
                                    "8": "2001",
                                    "9": "The Secret Life of Bees",
                                    "10": "The Secret Life of Bees",
                                    "11": "en-US",
                                    "12": "4.01",
                                    "13": "916189",
                                    "14": "937393",
                                    "15": "26522",
                                    "16": "17500",
                                    "17": "45455",
                                    "18": "185631",
                                    "19": "347540",
                                    "20": "341267",
                                    "21": "https://images.gr-assets.com/books/1473454532m/37435.jpg",
                                    "22": "https://images.gr-assets.com/books/1473454532s/37435.jpg"
                                },
                                {
                                    "0": "58",
                                    "1": "2956",
                                    "2": "2956",
                                    "3": "1835605",
                                    "4": "2277",
                                    "5": "142437174",
                                    "6": "9780142437180",
                                    "7": "Mark Twain, John Seelye, Guy Cardwell",
                                    "8": "1884",
                                    "9": "The Adventures of Huckleberry Finn",
                                    "10": "The Adventures of Huckleberry Finn",
                                    "11": "eng",
                                    "12": "3.8",
                                    "13": "953758",
                                    "14": "1001491",
                                    "15": "12448",
                                    "16": "28467",
                                    "17": "76630",
                                    "18": "255722",
                                    "19": "344356",
                                    "20": "296316",
                                    "21": "https://images.gr-assets.com/books/1405973850m/2956.jpg",
                                    "22": "https://images.gr-assets.com/books/1405973850s/2956.jpg"
                                },
                                {
                                    "0": "59",
                                    "1": "24178",
                                    "2": "24178",
                                    "3": "987048",
                                    "4": "180",
                                    "5": "64410935",
                                    "6": "9780064410940",
                                    "7": "E.B. White, Garth Williams, Rosemary Wells",
                                    "8": "1952",
                                    "9": "Charlotte's Web",
                                    "10": "Charlotte's Web",
                                    "11": "eng",
                                    "12": "4.15",
                                    "13": "1064521",
                                    "14": "1084842",
                                    "15": "13044",
                                    "16": "18450",
                                    "17": "41124",
                                    "18": "191415",
                                    "19": "346090",
                                    "20": "487763",
                                    "21": "https://images.gr-assets.com/books/1439632243m/24178.jpg",
                                    "22": "https://images.gr-assets.com/books/1439632243s/24178.jpg"
                                },
                                {
                                    "0": "60",
                                    "1": "1618",
                                    "2": "1618",
                                    "3": "4259809",
                                    "4": "183",
                                    "5": "1400032717",
                                    "6": "9781400032720",
                                    "7": "Mark Haddon",
                                    "8": "2003",
                                    "9": "The Curious Incident of the Dog in the Night-Time",
                                    "10": "The Curious Incident of the Dog in the Night-Time",
                                    "11": "eng",
                                    "12": "3.85",
                                    "13": "867553",
                                    "14": "915790",
                                    "15": "35796",
                                    "16": "21049",
                                    "17": "58117",
                                    "18": "218218",
                                    "19": "355925",
                                    "20": "262481",
                                    "21": "https://images.gr-assets.com/books/1479863624m/1618.jpg",
                                    "22": "https://images.gr-assets.com/books/1479863624s/1618.jpg"
                                },
                                {
                                    "0": "61",
                                    "1": "22557272",
                                    "2": "22557272",
                                    "3": "41107568",
                                    "4": "14",
                                    "5": "1594633665",
                                    "6": "9781594633670",
                                    "7": "Paula Hawkins",
                                    "8": "2015",
                                    "9": "The Girl on the Train",
                                    "10": "The Girl on the Train",
                                    "11": "eng",
                                    "12": "3.88",
                                    "13": "1008778",
                                    "14": "1226485",
                                    "15": "93600",
                                    "16": "27773",
                                    "17": "73897",
                                    "18": "273817",
                                    "19": "488447",
                                    "20": "362551",
                                    "21": "https://images.gr-assets.com/books/1490903702m/22557272.jpg",
                                    "22": "https://images.gr-assets.com/books/1490903702s/22557272.jpg"
                                },
                                {
                                    "0": "62",
                                    "1": "119322",
                                    "2": "119322",
                                    "3": "1536771",
                                    "4": "287",
                                    "5": "679879242",
                                    "6": "9780679879240",
                                    "7": "Philip Pullman",
                                    "8": "1995",
                                    "9": "Northern Lights",
                                    "10": "The Golden Compass (His Dark Materials, #1)",
                                    "11": "eng",
                                    "12": "3.94",
                                    "13": "953970",
                                    "14": "994914",
                                    "15": "14915",
                                    "16": "38382",
                                    "17": "64591",
                                    "18": "198764",
                                    "19": "313147",
                                    "20": "380030",
                                    "21": "https://images.gr-assets.com/books/1451271747m/119322.jpg",
                                    "22": "https://images.gr-assets.com/books/1451271747s/119322.jpg"
                                },
                                {
                                    "0": "324",
                                    "1": "16068905",
                                    "2": "16068905",
                                    "3": "21861351",
                                    "4": "80",
                                    "5": "NULL",
                                    "6": "NULL",
                                    "7": "Rainbow Rowell",
                                    "8": "2013",
                                    "9": "NULL",
                                    "10": "Fangirl",
                                    "11": "eng",
                                    "12": "4.12",
                                    "13": "340379",
                                    "14": "371730",
                                    "15": "39353",
                                    "16": "8626",
                                    "17": "16973",
                                    "18": "60097",
                                    "19": "121431",
                                    "20": "164603",
                                    "21": "https://images.gr-assets.com/books/1499565420m/16068905.jpg",
                                    "22": "https://images.gr-assets.com/books/1499565420s/16068905.jpg"
                                },
                                {
                                    "0": "63",
                                    "1": "6185",
                                    "2": "6185",
                                    "3": "1565818",
                                    "4": "2498",
                                    "5": "393978893",
                                    "6": "9780393978900",
                                    "7": "Emily Brontë, Richard J. Dunn",
                                    "8": "1847",
                                    "9": "Wuthering Heights",
                                    "10": "Wuthering Heights",
                                    "11": "eng",
                                    "12": "3.82",
                                    "13": "899195",
                                    "14": "1001135",
                                    "15": "26157",
                                    "16": "46469",
                                    "17": "84084",
                                    "18": "215320",
                                    "19": "309180",
                                    "20": "346082",
                                    "21": "https://s.gr-assets.com/assets/nophoto/book/111x148-bcc042a9c91a29c1d680899eff700a03.png",
                                    "22": "https://s.gr-assets.com/assets/nophoto/book/50x75-a91bf249278a81aabab721ef782c4a74.png"
                                },
                                {
                                    "0": "64",
                                    "1": "10917",
                                    "2": "10917",
                                    "3": "1639903",
                                    "4": "125",
                                    "5": "743454537",
                                    "6": "9780743454540",
                                    "7": "Jodi Picoult",
                                    "8": "2004",
                                    "9": "My Sister's Keeper",
                                    "10": "My Sister's Keeper",
                                    "11": "eng",
                                    "12": "4.06",
                                    "13": "863879",
                                    "14": "887880",
                                    "15": "30719",
                                    "16": "17547",
                                    "17": "42763",
                                    "18": "162573",
                                    "19": "314003",
                                    "20": "350994",
                                    "21": "https://images.gr-assets.com/books/1369504683m/10917.jpg",
                                    "22": "https://images.gr-assets.com/books/1369504683s/10917.jpg"
                                },
                                {
                                    "0": "65",
                                    "1": "4981",
                                    "2": "4981",
                                    "3": "1683562",
                                    "4": "241",
                                    "5": "385333846",
                                    "6": "9780385333850",
                                    "7": "Kurt Vonnegut Jr.",
                                    "8": "1969",
                                    "9": "Slaughterhouse-Five, or The Children's Crusade: A Duty-Dance with Death ",
                                    "10": "Slaughterhouse-Five",
                                    "11": "eng",
                                    "12": "4.06",
                                    "13": "846488",
                                    "14": "891762",
                                    "15": "19646",
                                    "16": "24964",
                                    "17": "45518",
                                    "18": "152442",
                                    "19": "300948",
                                    "20": "367890",
                                    "21": "https://images.gr-assets.com/books/1440319389m/4981.jpg",
                                    "22": "https://images.gr-assets.com/books/1440319389s/4981.jpg"
                                },
                                {
                                    "0": "66",
                                    "1": "18405",
                                    "2": "18405",
                                    "3": "3358283",
                                    "4": "409",
                                    "5": "446675539",
                                    "6": "9780446675540",
                                    "7": "Margaret Mitchell",
                                    "8": "1936",
                                    "9": "Gone with the Wind",
                                    "10": "Gone with the Wind",
                                    "11": "eng",
                                    "12": "4.28",
                                    "13": "873981",
                                    "14": "897303",
                                    "15": "16050",
                                    "16": "19996",
                                    "17": "33136",
                                    "18": "116160",
                                    "19": "234290",
                                    "20": "493721",
                                    "21": "https://images.gr-assets.com/books/1328025229m/18405.jpg",
                                    "22": "https://images.gr-assets.com/books/1328025229s/18405.jpg"
                                },
                                {
                                    "0": "67",
                                    "1": "128029",
                                    "2": "128029",
                                    "3": "3271379",
                                    "4": "197",
                                    "5": "1594489505",
                                    "6": "9781594489500",
                                    "7": "Khaled Hosseini",
                                    "8": "2007",
                                    "9": "A Thousand Splendid Suns",
                                    "10": "A Thousand Splendid Suns",
                                    "11": "eng",
                                    "12": "4.34",
                                    "13": "818742",
                                    "14": "866065",
                                    "15": "43645",
                                    "16": "6509",
                                    "17": "18015",
                                    "18": "99030",
                                    "19": "295817",
                                    "20": "446694",
                                    "21": "https://images.gr-assets.com/books/1345958969m/128029.jpg",
                                    "22": "https://images.gr-assets.com/books/1345958969s/128029.jpg"
                                },
                                {
                                    "0": "68",
                                    "1": "22628",
                                    "2": "22628",
                                    "3": "2236198",
                                    "4": "128",
                                    "5": "671027344",
                                    "6": "9780671027350",
                                    "7": "Stephen Chbosky",
                                    "8": "1999",
                                    "9": "The Perks of Being a Wallflower",
                                    "10": "The Perks of Being a Wallflower",
                                    "11": "eng",
                                    "12": "4.21",
                                    "13": "888806",
                                    "14": "954905",
                                    "15": "47116",
                                    "16": "14286",
                                    "17": "38658",
                                    "18": "143440",
                                    "19": "297501",
                                    "20": "461020",
                                    "21": "https://images.gr-assets.com/books/1167352178m/22628.jpg",
                                    "22": "https://images.gr-assets.com/books/1167352178s/22628.jpg"
                                },
                                {
                                    "0": "69",
                                    "1": "11735983",
                                    "2": "11735983",
                                    "3": "15524542",
                                    "4": "164",
                                    "5": "7442912",
                                    "6": "9780007442910",
                                    "7": "Veronica Roth",
                                    "8": "2012",
                                    "9": "Insurgent",
                                    "10": "Insurgent (Divergent, #2)",
                                    "11": "eng",
                                    "12": "4.07",
                                    "13": "836362",
                                    "14": "947338",
                                    "15": "55873",
                                    "16": "10641",
                                    "17": "44620",
                                    "18": "182131",
                                    "19": "339977",
                                    "20": "369969",
                                    "21": "https://images.gr-assets.com/books/1325667729m/11735983.jpg",
                                    "22": "https://images.gr-assets.com/books/1325667729s/11735983.jpg"
                                },
                                {
                                    "0": "70",
                                    "1": "375802",
                                    "2": "375802",
                                    "3": "2422333",
                                    "4": "224",
                                    "5": "812550706",
                                    "6": "9780812550700",
                                    "7": "Orson Scott Card",
                                    "8": "1985",
                                    "9": "Ender's Game",
                                    "10": "Ender's Game (Ender's Saga, #1)",
                                    "11": "eng",
                                    "12": "4.3",
                                    "13": "813439",
                                    "14": "873417",
                                    "15": "38054",
                                    "16": "15330",
                                    "17": "27612",
                                    "18": "103439",
                                    "19": "264207",
                                    "20": "462829",
                                    "21": "https://images.gr-assets.com/books/1408303130m/375802.jpg",
                                    "22": "https://images.gr-assets.com/books/1408303130s/375802.jpg"
                                },
                                {
                                    "0": "71",
                                    "1": "18490",
                                    "2": "18490",
                                    "3": "4836639",
                                    "4": "2618",
                                    "5": "141439475",
                                    "6": "9780141439470",
                                    "7": "Mary Wollstonecraft Shelley, Percy Bysshe Shelley, Maurice Hindle",
                                    "8": "1818",
                                    "9": "Frankenstein; or, The Modern Prometheus",
                                    "10": "Frankenstein",
                                    "11": "eng",
                                    "12": "3.75",
                                    "13": "808589",
                                    "14": "883563",
                                    "15": "19993",
                                    "16": "29366",
                                    "17": "74142",
                                    "18": "231022",
                                    "19": "300495",
                                    "20": "248538",
                                    "21": "https://images.gr-assets.com/books/1381512375m/18490.jpg",
                                    "22": "https://images.gr-assets.com/books/1381512375s/18490.jpg"
                                },
                                {
                                    "0": "72",
                                    "1": "11588",
                                    "2": "11588",
                                    "3": "849585",
                                    "4": "289",
                                    "5": "450040186",
                                    "6": "9780450040180",
                                    "7": "Stephen King",
                                    "8": "1977",
                                    "9": "The Shining",
                                    "10": "The Shining (The Shining #1)",
                                    "11": "eng",
                                    "12": "4.17",
                                    "13": "791850",
                                    "14": "830881",
                                    "15": "14936",
                                    "16": "18487",
                                    "17": "28981",
                                    "18": "123862",
                                    "19": "277393",
                                    "20": "382158",
                                    "21": "https://images.gr-assets.com/books/1353277730m/11588.jpg",
                                    "22": "https://images.gr-assets.com/books/1353277730s/11588.jpg"
                                },
                                {
                                    "0": "73",
                                    "1": "1656001",
                                    "2": "1656001",
                                    "3": "3328799",
                                    "4": "161",
                                    "5": "316068047",
                                    "6": "9780316068050",
                                    "7": "Stephenie Meyer",
                                    "8": "2008",
                                    "9": "The Host",
                                    "10": "The Host (The Host, #1)",
                                    "11": "en-US",
                                    "12": "3.84",
                                    "13": "749780",
                                    "14": "777560",
                                    "15": "39778",
                                    "16": "44215",
                                    "17": "62501",
                                    "18": "154906",
                                    "19": "227180",
                                    "20": "288758",
                                    "21": "https://images.gr-assets.com/books/1318009171m/1656001.jpg",
                                    "22": "https://images.gr-assets.com/books/1318009171s/1656001.jpg"
                                },
                                {
                                    "0": "74",
                                    "1": "99561",
                                    "2": "99561",
                                    "3": "919292",
                                    "4": "187",
                                    "5": "142402516",
                                    "6": "9780142402510",
                                    "7": "John Green",
                                    "8": "2005",
                                    "9": "Looking for Alaska",
                                    "10": "Looking for Alaska",
                                    "11": "eng",
                                    "12": "4.09",
                                    "13": "783470",
                                    "14": "831285",
                                    "15": "47128",
                                    "16": "16940",
                                    "17": "44232",
                                    "18": "147324",
                                    "19": "262932",
                                    "20": "359857",
                                    "21": "https://images.gr-assets.com/books/1394798630m/99561.jpg",
                                    "22": "https://images.gr-assets.com/books/1394798630s/99561.jpg"
                                },
                                {
                                    "0": "75",
                                    "1": "227443",
                                    "2": "227443",
                                    "3": "3185154",
                                    "4": "193",
                                    "5": "014028009X",
                                    "6": "9780140280100",
                                    "7": "Helen Fielding",
                                    "8": "1996",
                                    "9": "NULL",
                                    "10": "Bridget Jones's Diary (Bridget Jones, #1)",
                                    "11": "eng",
                                    "12": "3.75",
                                    "13": "736498",
                                    "14": "754498",
                                    "15": "8157",
                                    "16": "28973",
                                    "17": "59309",
                                    "18": "198555",
                                    "19": "254836",
                                    "20": "212825",
                                    "21": "https://images.gr-assets.com/books/1292060045m/227443.jpg",
                                    "22": "https://images.gr-assets.com/books/1292060045s/227443.jpg"
                                },
                                {
                                    "0": "76",
                                    "1": "14935",
                                    "2": "14935",
                                    "3": "2809709",
                                    "4": "1969",
                                    "5": "141439661",
                                    "6": "9780141439660",
                                    "7": "Jane Austen, Tony Tanner, Ros Ballaster",
                                    "8": "1811",
                                    "9": "Sense and Sensibility",
                                    "10": "Sense and Sensibility",
                                    "11": "eng",
                                    "12": "4.06",
                                    "13": "738894",
                                    "14": "779382",
                                    "15": "11526",
                                    "16": "18430",
                                    "17": "34699",
                                    "18": "141987",
                                    "19": "272512",
                                    "20": "311754",
                                    "21": "https://images.gr-assets.com/books/1397245675m/14935.jpg",
                                    "22": "https://images.gr-assets.com/books/1397245675s/14935.jpg"
                                },
                                {
                                    "0": "77",
                                    "1": "38709",
                                    "2": "38709",
                                    "3": "1679789",
                                    "4": "138",
                                    "5": "439244196",
                                    "6": "9780439244190",
                                    "7": "Louis Sachar, Louis Sachar",
                                    "8": "1998",
                                    "9": "Holes",
                                    "10": "Holes (Holes, #1)",
                                    "11": "eng",
                                    "12": "3.93",
                                    "13": "747445",
                                    "14": "764637",
                                    "15": "15832",
                                    "16": "15495",
                                    "17": "43786",
                                    "18": "176946",
                                    "19": "269153",
                                    "20": "259257",
                                    "21": "https://images.gr-assets.com/books/1327781893m/38709.jpg",
                                    "22": "https://images.gr-assets.com/books/1327781893s/38709.jpg"
                                },
                                {
                                    "0": "5616",
                                    "1": "23966",
                                    "2": "23966",
                                    "3": "1087344",
                                    "4": "51",
                                    "5": "393318680",
                                    "6": "9780393318680",
                                    "7": "Irvine Welsh",
                                    "8": "1998",
                                    "9": "Filth",
                                    "10": "Filth",
                                    "11": "eng",
                                    "12": "3.76",
                                    "13": "16162",
                                    "14": "17671",
                                    "15": "693",
                                    "16": "463",
                                    "17": "1351",
                                    "18": "4679",
                                    "19": "6637",
                                    "20": "4541",
                                    "21": "https://images.gr-assets.com/books/1452500604m/23966.jpg",
                                    "22": "https://images.gr-assets.com/books/1452500604s/23966.jpg"
                                },
                                {
                                    "0": "78",
                                    "1": "5139",
                                    "2": "5139",
                                    "3": "38765",
                                    "4": "129",
                                    "5": "307275558",
                                    "6": "9780307275550",
                                    "7": "Lauren Weisberger",
                                    "8": "2003",
                                    "9": "The Devil Wears Prada",
                                    "10": "The Devil Wears Prada (The Devil Wears Prada, #1)",
                                    "11": "eng",
                                    "12": "3.7",
                                    "13": "665930",
                                    "14": "679845",
                                    "15": "8024",
                                    "16": "24231",
                                    "17": "58323",
                                    "18": "192366",
                                    "19": "226675",
                                    "20": "178250",
                                    "21": "https://s.gr-assets.com/assets/nophoto/book/111x148-bcc042a9c91a29c1d680899eff700a03.png",
                                    "22": "https://s.gr-assets.com/assets/nophoto/book/50x75-a91bf249278a81aabab721ef782c4a74.png"
                                },
                                {
                                    "0": "79",
                                    "1": "1381",
                                    "2": "1381",
                                    "3": "3356006",
                                    "4": "1703",
                                    "5": "143039954",
                                    "6": "9780143039950",
                                    "7": "Homer, Robert Fagles, E.V. Rieu, Frédéric Mugler, Bernard Knox",
                                    "8": "-720",
                                    "9": "Ὀδύσσεια",
                                    "10": "The Odyssey",
                                    "11": "eng",
                                    "12": "3.73",
                                    "13": "670326",
                                    "14": "710757",
                                    "15": "8101",
                                    "16": "29703",
                                    "17": "65629",
                                    "18": "183082",
                                    "19": "224120",
                                    "20": "208223",
                                    "21": "https://images.gr-assets.com/books/1390173285m/1381.jpg",
                                    "22": "https://images.gr-assets.com/books/1390173285s/1381.jpg"
                                },
                                {
                                    "0": "80",
                                    "1": "157993",
                                    "2": "157993",
                                    "3": "2180358",
                                    "4": "1708",
                                    "5": "156012197",
                                    "6": "9780156012200",
                                    "7": "Antoine de Saint-Exupéry, Richard Howard, Dom Marcos Barbosa, Melina Karakosta",
                                    "8": "1946",
                                    "9": "Le Petit Prince",
                                    "10": "The Little Prince",
                                    "11": "eng",
                                    "12": "4.28",
                                    "13": "738757",
                                    "14": "859286",
                                    "15": "24537",
                                    "16": "15039",
                                    "17": "32866",
                                    "18": "114714",
                                    "19": "228440",
                                    "20": "468227",
                                    "21": "https://images.gr-assets.com/books/1367545443m/157993.jpg",
                                    "22": "https://images.gr-assets.com/books/1367545443s/157993.jpg"
                                },
                                {
                                    "0": "81",
                                    "1": "7445",
                                    "2": "7445",
                                    "3": "2944133",
                                    "4": "92",
                                    "5": "074324754X",
                                    "6": "9780743247540",
                                    "7": "Jeannette Walls",
                                    "8": "2005",
                                    "9": "The Glass Castle",
                                    "10": "The Glass Castle",
                                    "11": "eng",
                                    "12": "4.24",
                                    "13": "621099",
                                    "14": "637866",
                                    "15": "40777",
                                    "16": "7901",
                                    "17": "18922",
                                    "18": "85191",
                                    "19": "227750",
                                    "20": "298102",
                                    "21": "https://images.gr-assets.com/books/1400930557m/7445.jpg",
                                    "22": "https://images.gr-assets.com/books/1400930557s/7445.jpg"
                                },
                                {
                                    "0": "82",
                                    "1": "1845",
                                    "2": "1845",
                                    "3": "3284484",
                                    "4": "108",
                                    "5": "385486804",
                                    "6": "9780385486800",
                                    "7": "Jon Krakauer",
                                    "8": "1996",
                                    "9": "Into the Wild",
                                    "10": "Into the Wild",
                                    "11": "eng",
                                    "12": "3.94",
                                    "13": "647684",
                                    "14": "665377",
                                    "15": "17299",
                                    "16": "19229",
                                    "17": "35567",
                                    "18": "135199",
                                    "19": "248287",
                                    "20": "227095",
                                    "21": "https://images.gr-assets.com/books/1403173986m/1845.jpg",
                                    "22": "https://images.gr-assets.com/books/1403173986s/1845.jpg"
                                },
                                {
                                    "0": "83",
                                    "1": "1953",
                                    "2": "1953",
                                    "3": "2956372",
                                    "4": "525",
                                    "5": "141439602",
                                    "6": "9780141439600",
                                    "7": "Charles Dickens, Richard Maxwell, Hablot Knight Browne",
                                    "8": "1859",
                                    "9": "A Tale of Two Cities",
                                    "10": "A Tale of Two Cities",
                                    "11": "eng",
                                    "12": "3.81",
                                    "13": "637412",
                                    "14": "677713",
                                    "15": "13093",
                                    "16": "28904",
                                    "17": "55555",
                                    "18": "153305",
                                    "19": "216378",
                                    "20": "223571",
                                    "21": "https://images.gr-assets.com/books/1344922523m/1953.jpg",
                                    "22": "https://images.gr-assets.com/books/1344922523s/1953.jpg"
                                },
                                {
                                    "0": "84",
                                    "1": "7677",
                                    "2": "6424171",
                                    "3": "3376836",
                                    "4": "176",
                                    "5": "030734813X",
                                    "6": "9780307348140",
                                    "7": "Michael Crichton",
                                    "8": "1990",
                                    "9": "Jurassic Park",
                                    "10": "Jurassic Park (Jurassic Park, #1)",
                                    "11": "spa",
                                    "12": "3.96",
                                    "13": "447833",
                                    "14": "650483",
                                    "15": "8143",
                                    "16": "15736",
                                    "17": "34222",
                                    "18": "138327",
                                    "19": "231583",
                                    "20": "230615",
                                    "21": "https://s.gr-assets.com/assets/nophoto/book/111x148-bcc042a9c91a29c1d680899eff700a03.png",
                                    "22": "https://s.gr-assets.com/assets/nophoto/book/50x75-a91bf249278a81aabab721ef782c4a74.png"
                                },
                                {
                                    "0": "85",
                                    "1": "370493",
                                    "2": "370493",
                                    "3": "30530",
                                    "4": "81",
                                    "5": "60256656",
                                    "6": "9780060256650",
                                    "7": "Shel Silverstein",
                                    "8": "1964",
                                    "9": "The Giving Tree",
                                    "10": "The Giving Tree",
                                    "11": "eng",
                                    "12": "4.38",
                                    "13": "702332",
                                    "14": "708287",
                                    "15": "14368",
                                    "16": "15345",
                                    "17": "20408",
                                    "18": "76071",
                                    "19": "167542",
                                    "20": "428921",
                                    "21": "https://images.gr-assets.com/books/1174210942m/370493.jpg",
                                    "22": "https://images.gr-assets.com/books/1174210942s/370493.jpg"
                                },
                                {
                                    "0": "86",
                                    "1": "32542",
                                    "2": "32542",
                                    "3": "1804929",
                                    "4": "158",
                                    "5": "385338600",
                                    "6": "9780385338610",
                                    "7": "John Grisham",
                                    "8": "1989",
                                    "9": "A Time to Kill",
                                    "10": "A Time to Kill",
                                    "11": "eng",
                                    "12": "4.03",
                                    "13": "597775",
                                    "14": "608824",
                                    "15": "4239",
                                    "16": "12106",
                                    "17": "25938",
                                    "18": "122675",
                                    "19": "218617",
                                    "20": "229488",
                                    "21": "https://s.gr-assets.com/assets/nophoto/book/111x148-bcc042a9c91a29c1d680899eff700a03.png",
                                    "22": "https://s.gr-assets.com/assets/nophoto/book/50x75-a91bf249278a81aabab721ef782c4a74.png"
                                },
                                {
                                    "0": "87",
                                    "1": "1617",
                                    "2": "1617",
                                    "3": "265616",
                                    "4": "109",
                                    "5": "374500010",
                                    "6": "9780374500020",
                                    "7": "Elie Wiesel, Marion Wiesel",
                                    "8": "1958",
                                    "9": "Un di Velt Hot Geshvign",
                                    "10": "Night (The Night Trilogy #1)",
                                    "11": "eng",
                                    "12": "4.3",
                                    "13": "691231",
                                    "14": "707879",
                                    "15": "22001",
                                    "16": "7761",
                                    "17": "18539",
                                    "18": "90575",
                                    "19": "230227",
                                    "20": "360777",
                                    "21": "https://images.gr-assets.com/books/1473495285m/1617.jpg",
                                    "22": "https://images.gr-assets.com/books/1473495285s/1617.jpg"
                                },
                                {
                                    "0": "88",
                                    "1": "6442769",
                                    "2": "6442769",
                                    "3": "3364505",
                                    "4": "178",
                                    "5": "014241493X",
                                    "6": "9780142414930",
                                    "7": "John Green",
                                    "8": "2008",
                                    "9": "Paper Towns",
                                    "10": "Paper Towns",
                                    "11": "en-US",
                                    "12": "3.88",
                                    "13": "461311",
                                    "14": "655271",
                                    "15": "42717",
                                    "16": "14105",
                                    "17": "47183",
                                    "18": "154479",
                                    "19": "223895",
                                    "20": "215609",
                                    "21": "https://images.gr-assets.com/books/1349013610m/6442769.jpg",
                                    "22": "https://images.gr-assets.com/books/1349013610s/6442769.jpg"
                                },
                                {
                                    "0": "89",
                                    "1": "21787",
                                    "2": "21787",
                                    "3": "992628",
                                    "4": "129",
                                    "5": "345418263",
                                    "6": "9780345418260",
                                    "7": "William Goldman",
                                    "8": "1973",
                                    "9": "The Princess Bride",
                                    "10": "The Princess Bride ",
                                    "11": "en-US",
                                    "12": "4.25",
                                    "13": "628637",
                                    "14": "658042",
                                    "15": "15630",
                                    "16": "12883",
                                    "17": "21641",
                                    "18": "89236",
                                    "19": "196047",
                                    "20": "338235",
                                    "21": "https://images.gr-assets.com/books/1327903636m/21787.jpg",
                                    "22": "https://images.gr-assets.com/books/1327903636s/21787.jpg"
                                },
                                {
                                    "0": "90",
                                    "1": "231804",
                                    "2": "231804",
                                    "3": "1426690",
                                    "4": "156",
                                    "5": "014038572X",
                                    "6": "9780140385720",
                                    "7": "S.E. Hinton",
                                    "8": "1967",
                                    "9": "The Outsiders",
                                    "10": "The Outsiders",
                                    "11": "en-US",
                                    "12": "4.06",
                                    "13": "659248",
                                    "14": "680437",
                                    "15": "22662",
                                    "16": "10178",
                                    "17": "34346",
                                    "18": "134244",
                                    "19": "227250",
                                    "20": "274419",
                                    "21": "https://images.gr-assets.com/books/1442129426m/231804.jpg",
                                    "22": "https://images.gr-assets.com/books/1442129426s/231804.jpg"
                                },
                                {
                                    "0": "91",
                                    "1": "6186357",
                                    "2": "6186357",
                                    "3": "6366642",
                                    "4": "147",
                                    "5": "385737947",
                                    "6": "9780385737940",
                                    "7": "James Dashner",
                                    "8": "2009",
                                    "9": "The Maze Runner",
                                    "10": "The Maze Runner (Maze Runner, #1)",
                                    "11": "eng",
                                    "12": "4.02",
                                    "13": "719925",
                                    "14": "777956",
                                    "15": "48942",
                                    "16": "15291",
                                    "17": "43370",
                                    "18": "150488",
                                    "19": "266698",
                                    "20": "302109",
                                    "21": "https://images.gr-assets.com/books/1375596592m/6186357.jpg",
                                    "22": "https://images.gr-assets.com/books/1375596592s/6186357.jpg"
                                },
                                {
                                    "0": "92",
                                    "1": "1202",
                                    "2": "1202",
                                    "3": "5397",
                                    "4": "124",
                                    "5": "61234001",
                                    "6": "9780061234000",
                                    "7": "Steven D. Levitt, Stephen J. Dubner",
                                    "8": "2005",
                                    "9": "Freakonomics: A Rogue Economist Explores the Hidden Side of Everything",
                                    "10": "Freakonomics: A Rogue Economist Explores the Hidden Side of Everything (Freakonomics, #1)",
                                    "11": "en-US",
                                    "12": "3.93",
                                    "13": "524191",
                                    "14": "549301",
                                    "15": "13668",
                                    "16": "14586",
                                    "17": "26538",
                                    "18": "115789",
                                    "19": "216316",
                                    "20": "176072",
                                    "21": "https://images.gr-assets.com/books/1327909092m/1202.jpg",
                                    "22": "https://images.gr-assets.com/books/1327909092s/1202.jpg"
                                },
                                {
                                    "0": "93",
                                    "1": "2998",
                                    "2": "2998",
                                    "3": "3186437",
                                    "4": "1350",
                                    "5": "517189607",
                                    "6": "9780517189600",
                                    "7": "Frances Hodgson Burnett",
                                    "8": "1911",
                                    "9": "The Secret Garden",
                                    "10": "The Secret Garden",
                                    "11": "eng",
                                    "12": "4.12",
                                    "13": "639357",
                                    "14": "692249",
                                    "15": "13054",
                                    "16": "8005",
                                    "17": "25207",
                                    "18": "129646",
                                    "19": "243821",
                                    "20": "285570",
                                    "21": "https://images.gr-assets.com/books/1327873635m/2998.jpg",
                                    "22": "https://images.gr-assets.com/books/1327873635s/2998.jpg"
                                },
                                {
                                    "0": "94",
                                    "1": "320",
                                    "2": "320",
                                    "3": "3295655",
                                    "4": "555",
                                    "5": "60531045",
                                    "6": "9780060531040",
                                    "7": "Gabriel García Márquez, Gregory Rabassa",
                                    "8": "1967",
                                    "9": "Cien años de soledad",
                                    "10": "One Hundred Years of Solitude",
                                    "11": "eng",
                                    "12": "4.04",
                                    "13": "490565",
                                    "14": "575667",
                                    "15": "21671",
                                    "16": "27340",
                                    "17": "37646",
                                    "18": "87675",
                                    "19": "155809",
                                    "20": "267197",
                                    "21": "https://images.gr-assets.com/books/1327881361m/320.jpg",
                                    "22": "https://images.gr-assets.com/books/1327881361s/320.jpg"
                                },
                                {
                                    "0": "95",
                                    "1": "5297",
                                    "2": "5297",
                                    "3": "1858012",
                                    "4": "2303",
                                    "5": "375751513",
                                    "6": "9780375751520",
                                    "7": "Oscar Wilde, Jeffrey Eugenides",
                                    "8": "1891",
                                    "9": "The Picture of Dorian Gray",
                                    "10": "The Picture of Dorian Gray",
                                    "11": "eng",
                                    "12": "4.06",
                                    "13": "590014",
                                    "14": "674551",
                                    "15": "19647",
                                    "16": "9825",
                                    "17": "30735",
                                    "18": "129420",
                                    "19": "246892",
                                    "20": "257679",
                                    "21": "https://images.gr-assets.com/books/1424596966m/5297.jpg",
                                    "22": "https://images.gr-assets.com/books/1424596966s/5297.jpg"
                                },
                                {
                                    "0": "96",
                                    "1": "13536860",
                                    "2": "13536860",
                                    "3": "18034963",
                                    "4": "133",
                                    "5": "345803507",
                                    "6": "9780345803500",
                                    "7": "E.L. James",
                                    "8": "2012",
                                    "9": "Fifty Shades Freed",
                                    "10": "Fifty Shades Freed (Fifty Shades, #3)",
                                    "11": "eng",
                                    "12": "3.88",
                                    "13": "387290",
                                    "14": "610116",
                                    "15": "25287",
                                    "16": "39079",
                                    "17": "55691",
                                    "18": "109963",
                                    "19": "140304",
                                    "20": "265079",
                                    "21": "https://images.gr-assets.com/books/1336418837m/13536860.jpg",
                                    "22": "https://images.gr-assets.com/books/1336418837s/13536860.jpg"
                                },
                                {
                                    "0": "97",
                                    "1": "17245",
                                    "2": "17245",
                                    "3": "3165724",
                                    "4": "2207",
                                    "5": "393970124",
                                    "6": "9780393970130",
                                    "7": "Bram Stoker, Nina Auerbach, David J. Skal",
                                    "8": "1897",
                                    "9": "Dracula",
                                    "10": "Dracula",
                                    "11": "eng",
                                    "12": "3.98",
                                    "13": "618973",
                                    "14": "689739",
                                    "15": "17263",
                                    "16": "11756",
                                    "17": "36719",
                                    "18": "151396",
                                    "19": "246043",
                                    "20": "243825",
                                    "21": "https://images.gr-assets.com/books/1387151694m/17245.jpg",
                                    "22": "https://images.gr-assets.com/books/1387151694s/17245.jpg"
                                },
                                {
                                    "0": "98",
                                    "1": "5060378",
                                    "2": "5060378",
                                    "3": "6976108",
                                    "4": "209",
                                    "5": "307269981",
                                    "6": "9780307269980",
                                    "7": "Stieg Larsson, Reg Keeland",
                                    "8": "2006",
                                    "9": "Flickan som lekte med elden",
                                    "10": "The Girl Who Played with Fire (Millennium, #2)",
                                    "11": "eng",
                                    "12": "4.22",
                                    "13": "563994",
                                    "14": "649253",
                                    "15": "31423",
                                    "16": "4623",
                                    "17": "15781",
                                    "18": "91021",
                                    "19": "258236",
                                    "20": "279592",
                                    "21": "https://images.gr-assets.com/books/1351778881m/5060378.jpg",
                                    "22": "https://images.gr-assets.com/books/1351778881s/5060378.jpg"
                                }
                            ]
                        },
                        "text/html": [
                            "<table>",
                            "<tr><th>id</th><th>book_id</th><th>best_book_id</th><th>work_id</th><th>books_count</th><th>isbn</th><th>isbn13</th><th>authors</th><th>original_publication_year</th><th>original_title</th><th>title</th><th>language_code</th><th>average_rating</th><th>ratings_count</th><th>work_ratings_count</th><th>work_text_reviews_count</th><th>ratings_1</th><th>ratings_2</th><th>ratings_3</th><th>ratings_4</th><th>ratings_5</th><th>image_url</th><th>small_image_url</th></tr>",
                            "<tr><td>1</td><td>2767052</td><td>2767052</td><td>2792775</td><td>272</td><td>439023483</td><td>9780439023480</td><td>Suzanne Collins</td><td>2008</td><td>The Hunger Games</td><td>The Hunger Games (The Hunger Games, #1)</td><td>eng</td><td>4.34</td><td>4780653</td><td>4942365</td><td>155254</td><td>66715</td><td>127936</td><td>560092</td><td>1481305</td><td>2706317</td><td>https://images.gr-assets.com/books/1447303603m/2767052.jpg</td><td>https://images.gr-assets.com/books/1447303603s/2767052.jpg</td></tr>",
                            "<tr><td>2</td><td>3</td><td>3</td><td>4640799</td><td>491</td><td>439554934</td><td>9780439554930</td><td>J.K. Rowling, Mary GrandPré</td><td>1997</td><td>Harry Potter and the Philosopher's Stone</td><td>Harry Potter and the Sorcerer's Stone (Harry Potter, #1)</td><td>eng</td><td>4.44</td><td>4602479</td><td>4800065</td><td>75867</td><td>75504</td><td>101676</td><td>455024</td><td>1156318</td><td>3011543</td><td>https://images.gr-assets.com/books/1474154022m/3.jpg</td><td>https://images.gr-assets.com/books/1474154022s/3.jpg</td></tr>",
                            "<tr><td>3</td><td>41865</td><td>41865</td><td>3212258</td><td>226</td><td>316015849</td><td>9780316015840</td><td>Stephenie Meyer</td><td>2005</td><td>Twilight</td><td>Twilight (Twilight, #1)</td><td>en-US</td><td>3.57</td><td>3866839</td><td>3916824</td><td>95009</td><td>456191</td><td>436802</td><td>793319</td><td>875073</td><td>1355439</td><td>https://images.gr-assets.com/books/1361039443m/41865.jpg</td><td>https://images.gr-assets.com/books/1361039443s/41865.jpg</td></tr>",
                            "<tr><td>4</td><td>2657</td><td>2657</td><td>3275794</td><td>487</td><td>61120081</td><td>9780061120080</td><td>Harper Lee</td><td>1960</td><td>To Kill a Mockingbird</td><td>To Kill a Mockingbird</td><td>eng</td><td>4.25</td><td>3198671</td><td>3340896</td><td>72586</td><td>60427</td><td>117415</td><td>446835</td><td>1001952</td><td>1714267</td><td>https://images.gr-assets.com/books/1361975680m/2657.jpg</td><td>https://images.gr-assets.com/books/1361975680s/2657.jpg</td></tr>",
                            "<tr><td>5</td><td>4671</td><td>4671</td><td>245494</td><td>1356</td><td>743273567</td><td>9780743273560</td><td>F. Scott Fitzgerald</td><td>1925</td><td>The Great Gatsby</td><td>The Great Gatsby</td><td>eng</td><td>3.89</td><td>2683664</td><td>2773745</td><td>51992</td><td>86236</td><td>197621</td><td>606158</td><td>936012</td><td>947718</td><td>https://images.gr-assets.com/books/1490528560m/4671.jpg</td><td>https://images.gr-assets.com/books/1490528560s/4671.jpg</td></tr>",
                            "<tr><td>6</td><td>11870085</td><td>11870085</td><td>16827462</td><td>226</td><td>525478817</td><td>9780525478810</td><td>John Green</td><td>2012</td><td>The Fault in Our Stars</td><td>The Fault in Our Stars</td><td>eng</td><td>4.26</td><td>2346404</td><td>2478609</td><td>140739</td><td>47994</td><td>92723</td><td>327550</td><td>698471</td><td>1311871</td><td>https://images.gr-assets.com/books/1360206420m/11870085.jpg</td><td>https://images.gr-assets.com/books/1360206420s/11870085.jpg</td></tr>",
                            "<tr><td>7</td><td>5907</td><td>5907</td><td>1540236</td><td>969</td><td>618260307</td><td>9780618260300</td><td>J.R.R. Tolkien</td><td>1937</td><td>The Hobbit or There and Back Again</td><td>The Hobbit</td><td>en-US</td><td>4.25</td><td>2071616</td><td>2196809</td><td>37653</td><td>46023</td><td>76784</td><td>288649</td><td>665635</td><td>1119718</td><td>https://images.gr-assets.com/books/1372847500m/5907.jpg</td><td>https://images.gr-assets.com/books/1372847500s/5907.jpg</td></tr>",
                            "<tr><td>8</td><td>5107</td><td>5107</td><td>3036731</td><td>360</td><td>316769177</td><td>9780316769170</td><td>J.D. Salinger</td><td>1951</td><td>The Catcher in the Rye</td><td>The Catcher in the Rye</td><td>eng</td><td>3.79</td><td>2044241</td><td>2120637</td><td>44920</td><td>109383</td><td>185520</td><td>455042</td><td>661516</td><td>709176</td><td>https://images.gr-assets.com/books/1398034300m/5107.jpg</td><td>https://images.gr-assets.com/books/1398034300s/5107.jpg</td></tr>",
                            "<tr><td>9</td><td>960</td><td>960</td><td>3338963</td><td>311</td><td>1416524797</td><td>9781416524790</td><td>Dan Brown</td><td>2000</td><td>Angels &amp; Demons </td><td>Angels &amp; Demons  (Robert Langdon, #1)</td><td>en-CA</td><td>3.85</td><td>2001311</td><td>2078754</td><td>25112</td><td>77841</td><td>145740</td><td>458429</td><td>716569</td><td>680175</td><td>https://images.gr-assets.com/books/1303390735m/960.jpg</td><td>https://images.gr-assets.com/books/1303390735s/960.jpg</td></tr>",
                            "<tr><td>10</td><td>1885</td><td>1885</td><td>3060926</td><td>3455</td><td>679783261</td><td>9780679783270</td><td>Jane Austen</td><td>1813</td><td>Pride and Prejudice</td><td>Pride and Prejudice</td><td>eng</td><td>4.24</td><td>2035490</td><td>2191465</td><td>49152</td><td>54700</td><td>86485</td><td>284852</td><td>609755</td><td>1155673</td><td>https://images.gr-assets.com/books/1320399351m/1885.jpg</td><td>https://images.gr-assets.com/books/1320399351s/1885.jpg</td></tr>",
                            "<tr><td>11</td><td>77203</td><td>77203</td><td>3295919</td><td>283</td><td>1594480001</td><td>9781594480000</td><td>Khaled Hosseini</td><td>2003</td><td>The Kite Runner </td><td>The Kite Runner</td><td>eng</td><td>4.26</td><td>1813044</td><td>1878095</td><td>59730</td><td>34288</td><td>59980</td><td>226062</td><td>628174</td><td>929591</td><td>https://images.gr-assets.com/books/1484565687m/77203.jpg</td><td>https://images.gr-assets.com/books/1484565687s/77203.jpg</td></tr>",
                            "<tr><td>12</td><td>13335037</td><td>13335037</td><td>13155899</td><td>210</td><td>62024035</td><td>9780062024040</td><td>Veronica Roth</td><td>2011</td><td>Divergent</td><td>Divergent (Divergent, #1)</td><td>eng</td><td>4.24</td><td>1903563</td><td>2216814</td><td>101023</td><td>36315</td><td>82870</td><td>310297</td><td>673028</td><td>1114304</td><td>https://images.gr-assets.com/books/1328559506m/13335037.jpg</td><td>https://images.gr-assets.com/books/1328559506s/13335037.jpg</td></tr>",
                            "<tr><td>13</td><td>5470</td><td>5470</td><td>153313</td><td>995</td><td>451524934</td><td>9780451524940</td><td>George Orwell, Erich Fromm, Celâl Üster</td><td>1949</td><td>Nineteen Eighty-Four</td><td>1984</td><td>eng</td><td>4.14</td><td>1956832</td><td>2053394</td><td>45518</td><td>41845</td><td>86425</td><td>324874</td><td>692021</td><td>908229</td><td>https://images.gr-assets.com/books/1348990566m/5470.jpg</td><td>https://images.gr-assets.com/books/1348990566s/5470.jpg</td></tr>",
                            "<tr><td>14</td><td>7613</td><td>7613</td><td>2207778</td><td>896</td><td>452284244</td><td>9780452284240</td><td>George Orwell</td><td>1945</td><td>Animal Farm: A Fairy Story</td><td>Animal Farm</td><td>eng</td><td>3.87</td><td>1881700</td><td>1982987</td><td>35472</td><td>66854</td><td>135147</td><td>433432</td><td>698642</td><td>648912</td><td>https://images.gr-assets.com/books/1424037542m/7613.jpg</td><td>https://images.gr-assets.com/books/1424037542s/7613.jpg</td></tr>",
                            "<tr><td>15</td><td>48855</td><td>48855</td><td>3532896</td><td>710</td><td>553296981</td><td>9780553296980</td><td>Anne Frank, Eleanor Roosevelt, B.M. Mooyaart-Doubleday</td><td>1947</td><td>Het Achterhuis: Dagboekbrieven 14 juni 1942 - 1 augustus 1944</td><td>The Diary of a Young Girl</td><td>eng</td><td>4.1</td><td>1972666</td><td>2024493</td><td>20825</td><td>45225</td><td>91270</td><td>355756</td><td>656870</td><td>875372</td><td>https://images.gr-assets.com/books/1358276407m/48855.jpg</td><td>https://images.gr-assets.com/books/1358276407s/48855.jpg</td></tr>",
                            "<tr><td>16</td><td>2429135</td><td>2429135</td><td>1708725</td><td>274</td><td>307269752</td><td>9780307269750</td><td>Stieg Larsson, Reg Keeland</td><td>2005</td><td>Män som hatar kvinnor</td><td>The Girl with the Dragon Tattoo (Millennium, #1)</td><td>eng</td><td>4.11</td><td>1808403</td><td>1929834</td><td>62543</td><td>54835</td><td>86051</td><td>285413</td><td>667485</td><td>836050</td><td>https://images.gr-assets.com/books/1327868566m/2429135.jpg</td><td>https://images.gr-assets.com/books/1327868566s/2429135.jpg</td></tr>",
                            "<tr><td>17</td><td>6148028</td><td>6148028</td><td>6171458</td><td>201</td><td>439023491</td><td>9780439023500</td><td>Suzanne Collins</td><td>2009</td><td>Catching Fire</td><td>Catching Fire (The Hunger Games, #2)</td><td>eng</td><td>4.3</td><td>1831039</td><td>1988079</td><td>88538</td><td>10492</td><td>48030</td><td>262010</td><td>687238</td><td>980309</td><td>https://images.gr-assets.com/books/1358273780m/6148028.jpg</td><td>https://images.gr-assets.com/books/1358273780s/6148028.jpg</td></tr>",
                            "<tr><td>18</td><td>5</td><td>5</td><td>2402163</td><td>376</td><td>043965548X</td><td>9780439655480</td><td>J.K. Rowling, Mary GrandPré, Rufus Beck</td><td>1999</td><td>Harry Potter and the Prisoner of Azkaban</td><td>Harry Potter and the Prisoner of Azkaban (Harry Potter, #3)</td><td>eng</td><td>4.53</td><td>1832823</td><td>1969375</td><td>36099</td><td>6716</td><td>20413</td><td>166129</td><td>509447</td><td>1266670</td><td>https://images.gr-assets.com/books/1499277281m/5.jpg</td><td>https://images.gr-assets.com/books/1499277281s/5.jpg</td></tr>",
                            "<tr><td>19</td><td>34</td><td>34</td><td>3204327</td><td>566</td><td>618346252</td><td>9780618346260</td><td>J.R.R. Tolkien</td><td>1954</td><td>The Fellowship of the Ring</td><td>The Fellowship of the Ring (The Lord of the Rings, #1)</td><td>eng</td><td>4.34</td><td>1766803</td><td>1832541</td><td>15333</td><td>38031</td><td>55862</td><td>202332</td><td>493922</td><td>1042394</td><td>https://images.gr-assets.com/books/1298411339m/34.jpg</td><td>https://images.gr-assets.com/books/1298411339s/34.jpg</td></tr>",
                            "<tr><td>20</td><td>7260188</td><td>7260188</td><td>8812783</td><td>239</td><td>439023513</td><td>9780439023510</td><td>Suzanne Collins</td><td>2010</td><td>Mockingjay</td><td>Mockingjay (The Hunger Games, #3)</td><td>eng</td><td>4.03</td><td>1719760</td><td>1870748</td><td>96274</td><td>30144</td><td>110498</td><td>373060</td><td>618271</td><td>738775</td><td>https://images.gr-assets.com/books/1358275419m/7260188.jpg</td><td>https://images.gr-assets.com/books/1358275419s/7260188.jpg</td></tr>",
                            "<tr><td>21</td><td>2</td><td>2</td><td>2809203</td><td>307</td><td>439358078</td><td>9780439358070</td><td>J.K. Rowling, Mary GrandPré</td><td>2003</td><td>Harry Potter and the Order of the Phoenix</td><td>Harry Potter and the Order of the Phoenix (Harry Potter, #5)</td><td>eng</td><td>4.46</td><td>1735368</td><td>1840548</td><td>28685</td><td>9528</td><td>31577</td><td>180210</td><td>494427</td><td>1124806</td><td>https://images.gr-assets.com/books/1387141547m/2.jpg</td><td>https://images.gr-assets.com/books/1387141547s/2.jpg</td></tr>",
                            "<tr><td>22</td><td>12232938</td><td>12232938</td><td>1145090</td><td>183</td><td>316166685</td><td>9780316166680</td><td>Alice Sebold</td><td>2002</td><td>The Lovely Bones</td><td>The Lovely Bones</td><td>eng</td><td>3.77</td><td>1605173</td><td>1661562</td><td>36642</td><td>62777</td><td>131188</td><td>404699</td><td>583575</td><td>479323</td><td>https://images.gr-assets.com/books/1457810586m/12232938.jpg</td><td>https://images.gr-assets.com/books/1457810586s/12232938.jpg</td></tr>",
                            "<tr><td>23</td><td>15881</td><td>15881</td><td>6231171</td><td>398</td><td>439064864</td><td>9780439064870</td><td>J.K. Rowling, Mary GrandPré</td><td>1998</td><td>Harry Potter and the Chamber of Secrets</td><td>Harry Potter and the Chamber of Secrets (Harry Potter, #2)</td><td>eng</td><td>4.37</td><td>1779331</td><td>1906199</td><td>34172</td><td>8253</td><td>42251</td><td>242345</td><td>548266</td><td>1065084</td><td>https://images.gr-assets.com/books/1474169725m/15881.jpg</td><td>https://images.gr-assets.com/books/1474169725s/15881.jpg</td></tr>",
                            "<tr><td>24</td><td>6</td><td>6</td><td>3046572</td><td>332</td><td>439139600</td><td>9780439139600</td><td>J.K. Rowling, Mary GrandPré</td><td>2000</td><td>Harry Potter and the Goblet of Fire</td><td>Harry Potter and the Goblet of Fire (Harry Potter, #4)</td><td>eng</td><td>4.53</td><td>1753043</td><td>1868642</td><td>31084</td><td>6676</td><td>20210</td><td>151785</td><td>494926</td><td>1195045</td><td>https://images.gr-assets.com/books/1361482611m/6.jpg</td><td>https://images.gr-assets.com/books/1361482611s/6.jpg</td></tr>",
                            "<tr><td>25</td><td>136251</td><td>136251</td><td>2963218</td><td>263</td><td>545010225</td><td>9780545010220</td><td>J.K. Rowling, Mary GrandPré</td><td>2007</td><td>Harry Potter and the Deathly Hallows</td><td>Harry Potter and the Deathly Hallows (Harry Potter, #7)</td><td>eng</td><td>4.61</td><td>1746574</td><td>1847395</td><td>51942</td><td>9363</td><td>22245</td><td>113646</td><td>383914</td><td>1318227</td><td>https://images.gr-assets.com/books/1474171184m/136251.jpg</td><td>https://images.gr-assets.com/books/1474171184s/136251.jpg</td></tr>",
                            "<tr><td>26</td><td>968</td><td>968</td><td>2982101</td><td>350</td><td>307277674</td><td>9780307277670</td><td>Dan Brown</td><td>2003</td><td>The Da Vinci Code</td><td>The Da Vinci Code (Robert Langdon, #2)</td><td>eng</td><td>3.79</td><td>1447148</td><td>1557292</td><td>41560</td><td>71345</td><td>126493</td><td>340790</td><td>539277</td><td>479387</td><td>https://images.gr-assets.com/books/1303252999m/968.jpg</td><td>https://images.gr-assets.com/books/1303252999s/968.jpg</td></tr>",
                            "<tr><td>27</td><td>1</td><td>1</td><td>41335427</td><td>275</td><td>439785960</td><td>9780439785970</td><td>J.K. Rowling, Mary GrandPré</td><td>2005</td><td>Harry Potter and the Half-Blood Prince</td><td>Harry Potter and the Half-Blood Prince (Harry Potter, #6)</td><td>eng</td><td>4.54</td><td>1678823</td><td>1785676</td><td>27520</td><td>7308</td><td>21516</td><td>136333</td><td>459028</td><td>1161491</td><td>https://images.gr-assets.com/books/1361039191m/1.jpg</td><td>https://images.gr-assets.com/books/1361039191s/1.jpg</td></tr>",
                            "<tr><td>28</td><td>7624</td><td>7624</td><td>2766512</td><td>458</td><td>140283331</td><td>9780140283330</td><td>William Golding</td><td>1954</td><td>Lord of the Flies </td><td>Lord of the Flies</td><td>eng</td><td>3.64</td><td>1605019</td><td>1671484</td><td>26886</td><td>92779</td><td>160295</td><td>425648</td><td>564916</td><td>427846</td><td>https://images.gr-assets.com/books/1327869409m/7624.jpg</td><td>https://images.gr-assets.com/books/1327869409s/7624.jpg</td></tr>",
                            "<tr><td>29</td><td>18135</td><td>18135</td><td>3349450</td><td>1937</td><td>743477111</td><td>9780743477120</td><td>William Shakespeare, Robert           Jackson</td><td>1595</td><td>An Excellent conceited Tragedie of Romeo and Juliet</td><td>Romeo and Juliet</td><td>eng</td><td>3.73</td><td>1628519</td><td>1672889</td><td>14778</td><td>57980</td><td>153179</td><td>452673</td><td>519822</td><td>489235</td><td>https://images.gr-assets.com/books/1327872146m/18135.jpg</td><td>https://images.gr-assets.com/books/1327872146s/18135.jpg</td></tr>",
                            "<tr><td>30</td><td>8442457</td><td>19288043</td><td>13306276</td><td>196</td><td>297859382</td><td>9780297859380</td><td>Gillian Flynn</td><td>2012</td><td>Gone Girl</td><td>Gone Girl</td><td>eng</td><td>4.03</td><td>512475</td><td>1626519</td><td>121614</td><td>38874</td><td>80807</td><td>280331</td><td>616031</td><td>610476</td><td>https://images.gr-assets.com/books/1339602131m/8442457.jpg</td><td>https://images.gr-assets.com/books/1339602131s/8442457.jpg</td></tr>",
                            "<tr><td>31</td><td>4667024</td><td>4667024</td><td>4717423</td><td>183</td><td>399155341</td><td>9780399155340</td><td>Kathryn Stockett</td><td>2009</td><td>The Help</td><td>The Help</td><td>eng</td><td>4.45</td><td>1531753</td><td>1603545</td><td>78204</td><td>10235</td><td>25117</td><td>134887</td><td>490754</td><td>942552</td><td>https://images.gr-assets.com/books/1346100365m/4667024.jpg</td><td>https://images.gr-assets.com/books/1346100365s/4667024.jpg</td></tr>",
                            "<tr><td>32</td><td>890</td><td>890</td><td>40283</td><td>373</td><td>142000671</td><td>9780142000670</td><td>John Steinbeck</td><td>1937</td><td>Of Mice and Men </td><td>Of Mice and Men</td><td>eng</td><td>3.84</td><td>1467496</td><td>1518741</td><td>24642</td><td>46630</td><td>110856</td><td>355169</td><td>532291</td><td>473795</td><td>https://images.gr-assets.com/books/1437235233m/890.jpg</td><td>https://images.gr-assets.com/books/1437235233s/890.jpg</td></tr>",
                            "<tr><td>33</td><td>930</td><td>929</td><td>1558965</td><td>220</td><td>739326228</td><td>9780739326220</td><td>Arthur Golden</td><td>1997</td><td>Memoirs of a Geisha</td><td>Memoirs of a Geisha</td><td>eng</td><td>4.08</td><td>1300209</td><td>1418172</td><td>25605</td><td>23500</td><td>59033</td><td>258700</td><td>517157</td><td>559782</td><td>https://s.gr-assets.com/assets/nophoto/book/111x148-bcc042a9c91a29c1d680899eff700a03.png</td><td>https://s.gr-assets.com/assets/nophoto/book/50x75-a91bf249278a81aabab721ef782c4a74.png</td></tr>",
                            "<tr><td>34</td><td>10818853</td><td>10818853</td><td>15732562</td><td>169</td><td>1612130291</td><td>9781612130290</td><td>E.L. James</td><td>2011</td><td>Fifty Shades of Grey</td><td>Fifty Shades of Grey (Fifty Shades, #1)</td><td>eng</td><td>3.67</td><td>1338493</td><td>1436818</td><td>75437</td><td>165455</td><td>152293</td><td>252185</td><td>294976</td><td>571909</td><td>https://images.gr-assets.com/books/1385207843m/10818853.jpg</td><td>https://images.gr-assets.com/books/1385207843s/10818853.jpg</td></tr>",
                            "<tr><td>35</td><td>865</td><td>865</td><td>4835472</td><td>458</td><td>61122416</td><td>9780061122420</td><td>Paulo Coelho, Alan R. Clarke</td><td>1988</td><td>O Alquimista</td><td>The Alchemist</td><td>eng</td><td>3.82</td><td>1299566</td><td>1403995</td><td>55781</td><td>74846</td><td>123614</td><td>289143</td><td>412180</td><td>504212</td><td>https://images.gr-assets.com/books/1483412266m/865.jpg</td><td>https://images.gr-assets.com/books/1483412266s/865.jpg</td></tr>",
                            "<tr><td>36</td><td>3636</td><td>3636</td><td>2543234</td><td>192</td><td>385732554</td><td>9780385732550</td><td>Lois Lowry</td><td>1993</td><td>The Giver</td><td>The Giver (The Giver, #1)</td><td>eng</td><td>4.12</td><td>1296825</td><td>1345445</td><td>54084</td><td>26497</td><td>59652</td><td>225326</td><td>448691</td><td>585279</td><td>https://images.gr-assets.com/books/1342493368m/3636.jpg</td><td>https://images.gr-assets.com/books/1342493368s/3636.jpg</td></tr>",
                            "<tr><td>37</td><td>100915</td><td>100915</td><td>4790821</td><td>474</td><td>60764899</td><td>9780060764890</td><td>C.S. Lewis</td><td>1950</td><td>The Lion, the Witch and the Wardrobe</td><td>The Lion, the Witch, and the Wardrobe (Chronicles of Narnia, #1)</td><td>eng</td><td>4.19</td><td>1531800</td><td>1584884</td><td>15186</td><td>19309</td><td>55542</td><td>262038</td><td>513366</td><td>734629</td><td>https://images.gr-assets.com/books/1353029077m/100915.jpg</td><td>https://images.gr-assets.com/books/1353029077s/100915.jpg</td></tr>",
                            "<tr><td>38</td><td>14050</td><td>18619684</td><td>2153746</td><td>167</td><td>965818675</td><td>9780965818670</td><td>Audrey Niffenegger</td><td>2003</td><td>The Time Traveler's Wife</td><td>The Time Traveler's Wife</td><td>eng</td><td>3.95</td><td>746287</td><td>1308667</td><td>43382</td><td>44339</td><td>85429</td><td>257805</td><td>427210</td><td>493884</td><td>https://images.gr-assets.com/books/1437728815m/14050.jpg</td><td>https://images.gr-assets.com/books/1437728815s/14050.jpg</td></tr>",
                            "<tr><td>39</td><td>13496</td><td>13496</td><td>1466917</td><td>101</td><td>553588486</td><td>9780553588480</td><td>George R.R. Martin</td><td>1996</td><td>A Game of Thrones</td><td>A Game of Thrones (A Song of Ice and Fire, #1)</td><td>eng</td><td>4.45</td><td>1319204</td><td>1442220</td><td>46205</td><td>19988</td><td>28983</td><td>114092</td><td>404583</td><td>874574</td><td>https://images.gr-assets.com/books/1436732693m/13496.jpg</td><td>https://images.gr-assets.com/books/1436732693s/13496.jpg</td></tr>",
                            "<tr><td>40</td><td>19501</td><td>19501</td><td>3352398</td><td>185</td><td>143038419</td><td>9780143038410</td><td>Elizabeth Gilbert</td><td>2006</td><td>Eat, pray, love: one woman's search for everything across Italy, India and Indonesia</td><td>Eat, Pray, Love</td><td>eng</td><td>3.51</td><td>1181647</td><td>1206597</td><td>49714</td><td>100373</td><td>149549</td><td>310212</td><td>332191</td><td>314272</td><td>https://images.gr-assets.com/books/1503066414m/19501.jpg</td><td>https://images.gr-assets.com/books/1503066414s/19501.jpg</td></tr>",
                            "<tr><td>41</td><td>28187</td><td>28187</td><td>3346751</td><td>159</td><td>786838655</td><td>9780786838650</td><td>Rick Riordan</td><td>2005</td><td>The Lightning Thief</td><td>The Lightning Thief (Percy Jackson and the Olympians, #1)</td><td>eng</td><td>4.23</td><td>1366265</td><td>1411114</td><td>46006</td><td>18303</td><td>48294</td><td>219638</td><td>435514</td><td>689365</td><td>https://images.gr-assets.com/books/1400602609m/28187.jpg</td><td>https://images.gr-assets.com/books/1400602609s/28187.jpg</td></tr>",
                            "<tr><td>42</td><td>1934</td><td>1934</td><td>3244642</td><td>1707</td><td>451529308</td><td>9780451529300</td><td>Louisa May Alcott</td><td>1868</td><td>Little Women</td><td>Little Women (Little Women, #1)</td><td>en-US</td><td>4.04</td><td>1257121</td><td>1314293</td><td>17090</td><td>31645</td><td>70011</td><td>250794</td><td>426280</td><td>535563</td><td>https://s.gr-assets.com/assets/nophoto/book/111x148-bcc042a9c91a29c1d680899eff700a03.png</td><td>https://s.gr-assets.com/assets/nophoto/book/50x75-a91bf249278a81aabab721ef782c4a74.png</td></tr>",
                            "<tr><td>43</td><td>10210</td><td>10210</td><td>2977639</td><td>2568</td><td>142437204</td><td>9780142437210</td><td>Charlotte Brontë, Michael Mason</td><td>1847</td><td>Jane Eyre</td><td>Jane Eyre</td><td>eng</td><td>4.1</td><td>1198557</td><td>1286135</td><td>31212</td><td>35132</td><td>64274</td><td>212294</td><td>400214</td><td>574221</td><td>https://images.gr-assets.com/books/1327867269m/10210.jpg</td><td>https://images.gr-assets.com/books/1327867269s/10210.jpg</td></tr>",
                            "<tr><td>44</td><td>15931</td><td>15931</td><td>1498135</td><td>190</td><td>553816713</td><td>9780553816720</td><td>Nicholas Sparks</td><td>1996</td><td>The Notebook</td><td>The Notebook (The Notebook, #1)</td><td>eng</td><td>4.06</td><td>1053403</td><td>1076749</td><td>17279</td><td>41395</td><td>63432</td><td>176469</td><td>298259</td><td>497194</td><td>https://images.gr-assets.com/books/1385738917m/15931.jpg</td><td>https://images.gr-assets.com/books/1385738917s/15931.jpg</td></tr>",
                            "<tr><td>45</td><td>4214</td><td>4214</td><td>1392700</td><td>264</td><td>770430074</td><td>9780770430080</td><td>Yann Martel</td><td>2001</td><td>Life of Pi</td><td>Life of Pi</td><td>NULL</td><td>3.88</td><td>1003228</td><td>1077431</td><td>42962</td><td>39768</td><td>74331</td><td>218702</td><td>384164</td><td>360466</td><td>https://images.gr-assets.com/books/1320562005m/4214.jpg</td><td>https://images.gr-assets.com/books/1320562005s/4214.jpg</td></tr>",
                            "<tr><td>46</td><td>43641</td><td>43641</td><td>3441236</td><td>128</td><td>1565125606</td><td>9781565125600</td><td>Sara Gruen</td><td>2006</td><td>Water for Elephants</td><td>Water for Elephants</td><td>eng</td><td>4.07</td><td>1068146</td><td>1108839</td><td>55732</td><td>16705</td><td>49832</td><td>200154</td><td>417328</td><td>424820</td><td>https://images.gr-assets.com/books/1494428973m/43641.jpg</td><td>https://images.gr-assets.com/books/1494428973s/43641.jpg</td></tr>",
                            "<tr><td>47</td><td>19063</td><td>19063</td><td>878368</td><td>251</td><td>375831002</td><td>9780375831000</td><td>Markus Zusak</td><td>2005</td><td>The Book Thief</td><td>The Book Thief</td><td>eng</td><td>4.36</td><td>1159741</td><td>1287798</td><td>93611</td><td>17892</td><td>35360</td><td>135272</td><td>377218</td><td>722056</td><td>https://images.gr-assets.com/books/1390053681m/19063.jpg</td><td>https://images.gr-assets.com/books/1390053681s/19063.jpg</td></tr>",
                            "<tr><td>48</td><td>4381</td><td>4381</td><td>1272463</td><td>507</td><td>307347974</td><td>9780307347980</td><td>Ray Bradbury</td><td>1953</td><td>Fahrenheit 451</td><td>Fahrenheit 451</td><td>spa</td><td>3.97</td><td>570498</td><td>1176240</td><td>30694</td><td>28366</td><td>64289</td><td>238242</td><td>426292</td><td>419051</td><td>https://images.gr-assets.com/books/1351643740m/4381.jpg</td><td>https://images.gr-assets.com/books/1351643740s/4381.jpg</td></tr>",
                            "<tr><td>49</td><td>49041</td><td>49041</td><td>3203964</td><td>194</td><td>316160199</td><td>9780316160190</td><td>Stephenie Meyer</td><td>2006</td><td>New Moon (Twilight, #2)</td><td>New Moon (Twilight, #2)</td><td>eng</td><td>3.52</td><td>1149630</td><td>1199000</td><td>44020</td><td>102837</td><td>160660</td><td>294207</td><td>290612</td><td>350684</td><td>https://images.gr-assets.com/books/1361039440m/49041.jpg</td><td>https://images.gr-assets.com/books/1361039440s/49041.jpg</td></tr>",
                            "<tr><td>50</td><td>30119</td><td>30119</td><td>30518</td><td>45</td><td>60513039</td><td>9780060513030</td><td>Shel Silverstein</td><td>1974</td><td>Where the Sidewalk Ends: The Poems and Drawings of Shel Silverstein</td><td>Where the Sidewalk Ends</td><td>eng</td><td>4.29</td><td>1016888</td><td>1023781</td><td>9234</td><td>16590</td><td>30792</td><td>139024</td><td>293222</td><td>544153</td><td>https://images.gr-assets.com/books/1168052448m/30119.jpg</td><td>https://images.gr-assets.com/books/1168052448s/30119.jpg</td></tr>",
                            "<tr><td>51</td><td>256683</td><td>256683</td><td>2267189</td><td>178</td><td>1416914285</td><td>9781416914280</td><td>Cassandra Clare</td><td>2007</td><td>City of Bones</td><td>City of Bones (The Mortal Instruments, #1)</td><td>eng</td><td>4.12</td><td>1154031</td><td>1241799</td><td>51589</td><td>34122</td><td>65349</td><td>203466</td><td>356048</td><td>582814</td><td>https://images.gr-assets.com/books/1432730315m/256683.jpg</td><td>https://images.gr-assets.com/books/1432730315s/256683.jpg</td></tr>",
                            "<tr><td>52</td><td>428263</td><td>428263</td><td>2675454</td><td>185</td><td>316160202</td><td>9780316160210</td><td>Stephenie Meyer</td><td>2007</td><td>Eclipse</td><td>Eclipse (Twilight, #3)</td><td>en-US</td><td>3.69</td><td>1134511</td><td>1176642</td><td>35216</td><td>83094</td><td>124293</td><td>260763</td><td>309358</td><td>399134</td><td>https://images.gr-assets.com/books/1361038355m/428263.jpg</td><td>https://images.gr-assets.com/books/1361038355s/428263.jpg</td></tr>",
                            "<tr><td>53</td><td>113436</td><td>113436</td><td>3178011</td><td>217</td><td>375826696</td><td>9780375826700</td><td>Christopher Paolini</td><td>2002</td><td>Eragon</td><td>Eragon (The Inheritance Cycle, #1)</td><td>en-US</td><td>3.86</td><td>1104021</td><td>1125231</td><td>18280</td><td>50563</td><td>88536</td><td>240157</td><td>337943</td><td>408032</td><td>https://images.gr-assets.com/books/1366212852m/113436.jpg</td><td>https://images.gr-assets.com/books/1366212852s/113436.jpg</td></tr>",
                            "<tr><td>54</td><td>11</td><td>386162</td><td>3078186</td><td>257</td><td>345391802</td><td>9780345391800</td><td>Douglas Adams</td><td>1979</td><td>The Hitchhiker's Guide to the Galaxy</td><td>The Hitchhiker's Guide to the Galaxy (Hitchhiker's Guide to the Galaxy, #1)</td><td>en-US</td><td>4.2</td><td>936782</td><td>1006479</td><td>20345</td><td>21764</td><td>41962</td><td>145173</td><td>299579</td><td>498001</td><td>https://images.gr-assets.com/books/1327656754m/11.jpg</td><td>https://images.gr-assets.com/books/1327656754s/11.jpg</td></tr>",
                            "<tr><td>55</td><td>5129</td><td>5129</td><td>3204877</td><td>515</td><td>60929871</td><td>9780060929880</td><td>Aldous Huxley</td><td>1932</td><td>Brave New World</td><td>Brave New World</td><td>eng</td><td>3.97</td><td>1022601</td><td>1079135</td><td>20095</td><td>26367</td><td>60328</td><td>219895</td><td>389379</td><td>383166</td><td>https://images.gr-assets.com/books/1487389574m/5129.jpg</td><td>https://images.gr-assets.com/books/1487389574s/5129.jpg</td></tr>",
                            "<tr><td>56</td><td>1162543</td><td>1162543</td><td>2960529</td><td>183</td><td>031606792X</td><td>9780316067930</td><td>Stephenie Meyer</td><td>2008</td><td>Breaking Dawn</td><td>Breaking Dawn (Twilight, #4)</td><td>en-US</td><td>3.7</td><td>1070245</td><td>1107709</td><td>44550</td><td>100994</td><td>114893</td><td>213402</td><td>267706</td><td>410714</td><td>https://images.gr-assets.com/books/1361039438m/1162543.jpg</td><td>https://images.gr-assets.com/books/1361039438s/1162543.jpg</td></tr>",
                            "<tr><td>57</td><td>37435</td><td>37435</td><td>3275013</td><td>125</td><td>142001740</td><td>9780142001740</td><td>Sue Monk Kidd</td><td>2001</td><td>The Secret Life of Bees</td><td>The Secret Life of Bees</td><td>en-US</td><td>4.01</td><td>916189</td><td>937393</td><td>26522</td><td>17500</td><td>45455</td><td>185631</td><td>347540</td><td>341267</td><td>https://images.gr-assets.com/books/1473454532m/37435.jpg</td><td>https://images.gr-assets.com/books/1473454532s/37435.jpg</td></tr>",
                            "<tr><td>58</td><td>2956</td><td>2956</td><td>1835605</td><td>2277</td><td>142437174</td><td>9780142437180</td><td>Mark Twain, John Seelye, Guy Cardwell</td><td>1884</td><td>The Adventures of Huckleberry Finn</td><td>The Adventures of Huckleberry Finn</td><td>eng</td><td>3.8</td><td>953758</td><td>1001491</td><td>12448</td><td>28467</td><td>76630</td><td>255722</td><td>344356</td><td>296316</td><td>https://images.gr-assets.com/books/1405973850m/2956.jpg</td><td>https://images.gr-assets.com/books/1405973850s/2956.jpg</td></tr>",
                            "<tr><td>59</td><td>24178</td><td>24178</td><td>987048</td><td>180</td><td>64410935</td><td>9780064410940</td><td>E.B. White, Garth Williams, Rosemary Wells</td><td>1952</td><td>Charlotte's Web</td><td>Charlotte's Web</td><td>eng</td><td>4.15</td><td>1064521</td><td>1084842</td><td>13044</td><td>18450</td><td>41124</td><td>191415</td><td>346090</td><td>487763</td><td>https://images.gr-assets.com/books/1439632243m/24178.jpg</td><td>https://images.gr-assets.com/books/1439632243s/24178.jpg</td></tr>",
                            "<tr><td>60</td><td>1618</td><td>1618</td><td>4259809</td><td>183</td><td>1400032717</td><td>9781400032720</td><td>Mark Haddon</td><td>2003</td><td>The Curious Incident of the Dog in the Night-Time</td><td>The Curious Incident of the Dog in the Night-Time</td><td>eng</td><td>3.85</td><td>867553</td><td>915790</td><td>35796</td><td>21049</td><td>58117</td><td>218218</td><td>355925</td><td>262481</td><td>https://images.gr-assets.com/books/1479863624m/1618.jpg</td><td>https://images.gr-assets.com/books/1479863624s/1618.jpg</td></tr>",
                            "<tr><td>61</td><td>22557272</td><td>22557272</td><td>41107568</td><td>14</td><td>1594633665</td><td>9781594633670</td><td>Paula Hawkins</td><td>2015</td><td>The Girl on the Train</td><td>The Girl on the Train</td><td>eng</td><td>3.88</td><td>1008778</td><td>1226485</td><td>93600</td><td>27773</td><td>73897</td><td>273817</td><td>488447</td><td>362551</td><td>https://images.gr-assets.com/books/1490903702m/22557272.jpg</td><td>https://images.gr-assets.com/books/1490903702s/22557272.jpg</td></tr>",
                            "<tr><td>62</td><td>119322</td><td>119322</td><td>1536771</td><td>287</td><td>679879242</td><td>9780679879240</td><td>Philip Pullman</td><td>1995</td><td>Northern Lights</td><td>The Golden Compass (His Dark Materials, #1)</td><td>eng</td><td>3.94</td><td>953970</td><td>994914</td><td>14915</td><td>38382</td><td>64591</td><td>198764</td><td>313147</td><td>380030</td><td>https://images.gr-assets.com/books/1451271747m/119322.jpg</td><td>https://images.gr-assets.com/books/1451271747s/119322.jpg</td></tr>",
                            "<tr><td>324</td><td>16068905</td><td>16068905</td><td>21861351</td><td>80</td><td>NULL</td><td>NULL</td><td>Rainbow Rowell</td><td>2013</td><td>NULL</td><td>Fangirl</td><td>eng</td><td>4.12</td><td>340379</td><td>371730</td><td>39353</td><td>8626</td><td>16973</td><td>60097</td><td>121431</td><td>164603</td><td>https://images.gr-assets.com/books/1499565420m/16068905.jpg</td><td>https://images.gr-assets.com/books/1499565420s/16068905.jpg</td></tr>",
                            "<tr><td>63</td><td>6185</td><td>6185</td><td>1565818</td><td>2498</td><td>393978893</td><td>9780393978900</td><td>Emily Brontë, Richard J. Dunn</td><td>1847</td><td>Wuthering Heights</td><td>Wuthering Heights</td><td>eng</td><td>3.82</td><td>899195</td><td>1001135</td><td>26157</td><td>46469</td><td>84084</td><td>215320</td><td>309180</td><td>346082</td><td>https://s.gr-assets.com/assets/nophoto/book/111x148-bcc042a9c91a29c1d680899eff700a03.png</td><td>https://s.gr-assets.com/assets/nophoto/book/50x75-a91bf249278a81aabab721ef782c4a74.png</td></tr>",
                            "<tr><td>64</td><td>10917</td><td>10917</td><td>1639903</td><td>125</td><td>743454537</td><td>9780743454540</td><td>Jodi Picoult</td><td>2004</td><td>My Sister's Keeper</td><td>My Sister's Keeper</td><td>eng</td><td>4.06</td><td>863879</td><td>887880</td><td>30719</td><td>17547</td><td>42763</td><td>162573</td><td>314003</td><td>350994</td><td>https://images.gr-assets.com/books/1369504683m/10917.jpg</td><td>https://images.gr-assets.com/books/1369504683s/10917.jpg</td></tr>",
                            "<tr><td>65</td><td>4981</td><td>4981</td><td>1683562</td><td>241</td><td>385333846</td><td>9780385333850</td><td>Kurt Vonnegut Jr.</td><td>1969</td><td>Slaughterhouse-Five, or The Children's Crusade: A Duty-Dance with Death </td><td>Slaughterhouse-Five</td><td>eng</td><td>4.06</td><td>846488</td><td>891762</td><td>19646</td><td>24964</td><td>45518</td><td>152442</td><td>300948</td><td>367890</td><td>https://images.gr-assets.com/books/1440319389m/4981.jpg</td><td>https://images.gr-assets.com/books/1440319389s/4981.jpg</td></tr>",
                            "<tr><td>66</td><td>18405</td><td>18405</td><td>3358283</td><td>409</td><td>446675539</td><td>9780446675540</td><td>Margaret Mitchell</td><td>1936</td><td>Gone with the Wind</td><td>Gone with the Wind</td><td>eng</td><td>4.28</td><td>873981</td><td>897303</td><td>16050</td><td>19996</td><td>33136</td><td>116160</td><td>234290</td><td>493721</td><td>https://images.gr-assets.com/books/1328025229m/18405.jpg</td><td>https://images.gr-assets.com/books/1328025229s/18405.jpg</td></tr>",
                            "<tr><td>67</td><td>128029</td><td>128029</td><td>3271379</td><td>197</td><td>1594489505</td><td>9781594489500</td><td>Khaled Hosseini</td><td>2007</td><td>A Thousand Splendid Suns</td><td>A Thousand Splendid Suns</td><td>eng</td><td>4.34</td><td>818742</td><td>866065</td><td>43645</td><td>6509</td><td>18015</td><td>99030</td><td>295817</td><td>446694</td><td>https://images.gr-assets.com/books/1345958969m/128029.jpg</td><td>https://images.gr-assets.com/books/1345958969s/128029.jpg</td></tr>",
                            "<tr><td>68</td><td>22628</td><td>22628</td><td>2236198</td><td>128</td><td>671027344</td><td>9780671027350</td><td>Stephen Chbosky</td><td>1999</td><td>The Perks of Being a Wallflower</td><td>The Perks of Being a Wallflower</td><td>eng</td><td>4.21</td><td>888806</td><td>954905</td><td>47116</td><td>14286</td><td>38658</td><td>143440</td><td>297501</td><td>461020</td><td>https://images.gr-assets.com/books/1167352178m/22628.jpg</td><td>https://images.gr-assets.com/books/1167352178s/22628.jpg</td></tr>",
                            "<tr><td>69</td><td>11735983</td><td>11735983</td><td>15524542</td><td>164</td><td>7442912</td><td>9780007442910</td><td>Veronica Roth</td><td>2012</td><td>Insurgent</td><td>Insurgent (Divergent, #2)</td><td>eng</td><td>4.07</td><td>836362</td><td>947338</td><td>55873</td><td>10641</td><td>44620</td><td>182131</td><td>339977</td><td>369969</td><td>https://images.gr-assets.com/books/1325667729m/11735983.jpg</td><td>https://images.gr-assets.com/books/1325667729s/11735983.jpg</td></tr>",
                            "<tr><td>70</td><td>375802</td><td>375802</td><td>2422333</td><td>224</td><td>812550706</td><td>9780812550700</td><td>Orson Scott Card</td><td>1985</td><td>Ender's Game</td><td>Ender's Game (Ender's Saga, #1)</td><td>eng</td><td>4.3</td><td>813439</td><td>873417</td><td>38054</td><td>15330</td><td>27612</td><td>103439</td><td>264207</td><td>462829</td><td>https://images.gr-assets.com/books/1408303130m/375802.jpg</td><td>https://images.gr-assets.com/books/1408303130s/375802.jpg</td></tr>",
                            "<tr><td>71</td><td>18490</td><td>18490</td><td>4836639</td><td>2618</td><td>141439475</td><td>9780141439470</td><td>Mary Wollstonecraft Shelley, Percy Bysshe Shelley, Maurice Hindle</td><td>1818</td><td>Frankenstein; or, The Modern Prometheus</td><td>Frankenstein</td><td>eng</td><td>3.75</td><td>808589</td><td>883563</td><td>19993</td><td>29366</td><td>74142</td><td>231022</td><td>300495</td><td>248538</td><td>https://images.gr-assets.com/books/1381512375m/18490.jpg</td><td>https://images.gr-assets.com/books/1381512375s/18490.jpg</td></tr>",
                            "<tr><td>72</td><td>11588</td><td>11588</td><td>849585</td><td>289</td><td>450040186</td><td>9780450040180</td><td>Stephen King</td><td>1977</td><td>The Shining</td><td>The Shining (The Shining #1)</td><td>eng</td><td>4.17</td><td>791850</td><td>830881</td><td>14936</td><td>18487</td><td>28981</td><td>123862</td><td>277393</td><td>382158</td><td>https://images.gr-assets.com/books/1353277730m/11588.jpg</td><td>https://images.gr-assets.com/books/1353277730s/11588.jpg</td></tr>",
                            "<tr><td>73</td><td>1656001</td><td>1656001</td><td>3328799</td><td>161</td><td>316068047</td><td>9780316068050</td><td>Stephenie Meyer</td><td>2008</td><td>The Host</td><td>The Host (The Host, #1)</td><td>en-US</td><td>3.84</td><td>749780</td><td>777560</td><td>39778</td><td>44215</td><td>62501</td><td>154906</td><td>227180</td><td>288758</td><td>https://images.gr-assets.com/books/1318009171m/1656001.jpg</td><td>https://images.gr-assets.com/books/1318009171s/1656001.jpg</td></tr>",
                            "<tr><td>74</td><td>99561</td><td>99561</td><td>919292</td><td>187</td><td>142402516</td><td>9780142402510</td><td>John Green</td><td>2005</td><td>Looking for Alaska</td><td>Looking for Alaska</td><td>eng</td><td>4.09</td><td>783470</td><td>831285</td><td>47128</td><td>16940</td><td>44232</td><td>147324</td><td>262932</td><td>359857</td><td>https://images.gr-assets.com/books/1394798630m/99561.jpg</td><td>https://images.gr-assets.com/books/1394798630s/99561.jpg</td></tr>",
                            "<tr><td>75</td><td>227443</td><td>227443</td><td>3185154</td><td>193</td><td>014028009X</td><td>9780140280100</td><td>Helen Fielding</td><td>1996</td><td>NULL</td><td>Bridget Jones's Diary (Bridget Jones, #1)</td><td>eng</td><td>3.75</td><td>736498</td><td>754498</td><td>8157</td><td>28973</td><td>59309</td><td>198555</td><td>254836</td><td>212825</td><td>https://images.gr-assets.com/books/1292060045m/227443.jpg</td><td>https://images.gr-assets.com/books/1292060045s/227443.jpg</td></tr>",
                            "<tr><td>76</td><td>14935</td><td>14935</td><td>2809709</td><td>1969</td><td>141439661</td><td>9780141439660</td><td>Jane Austen, Tony Tanner, Ros Ballaster</td><td>1811</td><td>Sense and Sensibility</td><td>Sense and Sensibility</td><td>eng</td><td>4.06</td><td>738894</td><td>779382</td><td>11526</td><td>18430</td><td>34699</td><td>141987</td><td>272512</td><td>311754</td><td>https://images.gr-assets.com/books/1397245675m/14935.jpg</td><td>https://images.gr-assets.com/books/1397245675s/14935.jpg</td></tr>",
                            "<tr><td>77</td><td>38709</td><td>38709</td><td>1679789</td><td>138</td><td>439244196</td><td>9780439244190</td><td>Louis Sachar, Louis Sachar</td><td>1998</td><td>Holes</td><td>Holes (Holes, #1)</td><td>eng</td><td>3.93</td><td>747445</td><td>764637</td><td>15832</td><td>15495</td><td>43786</td><td>176946</td><td>269153</td><td>259257</td><td>https://images.gr-assets.com/books/1327781893m/38709.jpg</td><td>https://images.gr-assets.com/books/1327781893s/38709.jpg</td></tr>",
                            "<tr><td>5616</td><td>23966</td><td>23966</td><td>1087344</td><td>51</td><td>393318680</td><td>9780393318680</td><td>Irvine Welsh</td><td>1998</td><td>Filth</td><td>Filth</td><td>eng</td><td>3.76</td><td>16162</td><td>17671</td><td>693</td><td>463</td><td>1351</td><td>4679</td><td>6637</td><td>4541</td><td>https://images.gr-assets.com/books/1452500604m/23966.jpg</td><td>https://images.gr-assets.com/books/1452500604s/23966.jpg</td></tr>",
                            "<tr><td>78</td><td>5139</td><td>5139</td><td>38765</td><td>129</td><td>307275558</td><td>9780307275550</td><td>Lauren Weisberger</td><td>2003</td><td>The Devil Wears Prada</td><td>The Devil Wears Prada (The Devil Wears Prada, #1)</td><td>eng</td><td>3.7</td><td>665930</td><td>679845</td><td>8024</td><td>24231</td><td>58323</td><td>192366</td><td>226675</td><td>178250</td><td>https://s.gr-assets.com/assets/nophoto/book/111x148-bcc042a9c91a29c1d680899eff700a03.png</td><td>https://s.gr-assets.com/assets/nophoto/book/50x75-a91bf249278a81aabab721ef782c4a74.png</td></tr>",
                            "<tr><td>79</td><td>1381</td><td>1381</td><td>3356006</td><td>1703</td><td>143039954</td><td>9780143039950</td><td>Homer, Robert Fagles, E.V. Rieu, Frédéric Mugler, Bernard Knox</td><td>-720</td><td>Ὀδύσσεια</td><td>The Odyssey</td><td>eng</td><td>3.73</td><td>670326</td><td>710757</td><td>8101</td><td>29703</td><td>65629</td><td>183082</td><td>224120</td><td>208223</td><td>https://images.gr-assets.com/books/1390173285m/1381.jpg</td><td>https://images.gr-assets.com/books/1390173285s/1381.jpg</td></tr>",
                            "<tr><td>80</td><td>157993</td><td>157993</td><td>2180358</td><td>1708</td><td>156012197</td><td>9780156012200</td><td>Antoine de Saint-Exupéry, Richard Howard, Dom Marcos Barbosa, Melina Karakosta</td><td>1946</td><td>Le Petit Prince</td><td>The Little Prince</td><td>eng</td><td>4.28</td><td>738757</td><td>859286</td><td>24537</td><td>15039</td><td>32866</td><td>114714</td><td>228440</td><td>468227</td><td>https://images.gr-assets.com/books/1367545443m/157993.jpg</td><td>https://images.gr-assets.com/books/1367545443s/157993.jpg</td></tr>",
                            "<tr><td>81</td><td>7445</td><td>7445</td><td>2944133</td><td>92</td><td>074324754X</td><td>9780743247540</td><td>Jeannette Walls</td><td>2005</td><td>The Glass Castle</td><td>The Glass Castle</td><td>eng</td><td>4.24</td><td>621099</td><td>637866</td><td>40777</td><td>7901</td><td>18922</td><td>85191</td><td>227750</td><td>298102</td><td>https://images.gr-assets.com/books/1400930557m/7445.jpg</td><td>https://images.gr-assets.com/books/1400930557s/7445.jpg</td></tr>",
                            "<tr><td>82</td><td>1845</td><td>1845</td><td>3284484</td><td>108</td><td>385486804</td><td>9780385486800</td><td>Jon Krakauer</td><td>1996</td><td>Into the Wild</td><td>Into the Wild</td><td>eng</td><td>3.94</td><td>647684</td><td>665377</td><td>17299</td><td>19229</td><td>35567</td><td>135199</td><td>248287</td><td>227095</td><td>https://images.gr-assets.com/books/1403173986m/1845.jpg</td><td>https://images.gr-assets.com/books/1403173986s/1845.jpg</td></tr>",
                            "<tr><td>83</td><td>1953</td><td>1953</td><td>2956372</td><td>525</td><td>141439602</td><td>9780141439600</td><td>Charles Dickens, Richard Maxwell, Hablot Knight Browne</td><td>1859</td><td>A Tale of Two Cities</td><td>A Tale of Two Cities</td><td>eng</td><td>3.81</td><td>637412</td><td>677713</td><td>13093</td><td>28904</td><td>55555</td><td>153305</td><td>216378</td><td>223571</td><td>https://images.gr-assets.com/books/1344922523m/1953.jpg</td><td>https://images.gr-assets.com/books/1344922523s/1953.jpg</td></tr>",
                            "<tr><td>84</td><td>7677</td><td>6424171</td><td>3376836</td><td>176</td><td>030734813X</td><td>9780307348140</td><td>Michael Crichton</td><td>1990</td><td>Jurassic Park</td><td>Jurassic Park (Jurassic Park, #1)</td><td>spa</td><td>3.96</td><td>447833</td><td>650483</td><td>8143</td><td>15736</td><td>34222</td><td>138327</td><td>231583</td><td>230615</td><td>https://s.gr-assets.com/assets/nophoto/book/111x148-bcc042a9c91a29c1d680899eff700a03.png</td><td>https://s.gr-assets.com/assets/nophoto/book/50x75-a91bf249278a81aabab721ef782c4a74.png</td></tr>",
                            "<tr><td>85</td><td>370493</td><td>370493</td><td>30530</td><td>81</td><td>60256656</td><td>9780060256650</td><td>Shel Silverstein</td><td>1964</td><td>The Giving Tree</td><td>The Giving Tree</td><td>eng</td><td>4.38</td><td>702332</td><td>708287</td><td>14368</td><td>15345</td><td>20408</td><td>76071</td><td>167542</td><td>428921</td><td>https://images.gr-assets.com/books/1174210942m/370493.jpg</td><td>https://images.gr-assets.com/books/1174210942s/370493.jpg</td></tr>",
                            "<tr><td>86</td><td>32542</td><td>32542</td><td>1804929</td><td>158</td><td>385338600</td><td>9780385338610</td><td>John Grisham</td><td>1989</td><td>A Time to Kill</td><td>A Time to Kill</td><td>eng</td><td>4.03</td><td>597775</td><td>608824</td><td>4239</td><td>12106</td><td>25938</td><td>122675</td><td>218617</td><td>229488</td><td>https://s.gr-assets.com/assets/nophoto/book/111x148-bcc042a9c91a29c1d680899eff700a03.png</td><td>https://s.gr-assets.com/assets/nophoto/book/50x75-a91bf249278a81aabab721ef782c4a74.png</td></tr>",
                            "<tr><td>87</td><td>1617</td><td>1617</td><td>265616</td><td>109</td><td>374500010</td><td>9780374500020</td><td>Elie Wiesel, Marion Wiesel</td><td>1958</td><td>Un di Velt Hot Geshvign</td><td>Night (The Night Trilogy #1)</td><td>eng</td><td>4.3</td><td>691231</td><td>707879</td><td>22001</td><td>7761</td><td>18539</td><td>90575</td><td>230227</td><td>360777</td><td>https://images.gr-assets.com/books/1473495285m/1617.jpg</td><td>https://images.gr-assets.com/books/1473495285s/1617.jpg</td></tr>",
                            "<tr><td>88</td><td>6442769</td><td>6442769</td><td>3364505</td><td>178</td><td>014241493X</td><td>9780142414930</td><td>John Green</td><td>2008</td><td>Paper Towns</td><td>Paper Towns</td><td>en-US</td><td>3.88</td><td>461311</td><td>655271</td><td>42717</td><td>14105</td><td>47183</td><td>154479</td><td>223895</td><td>215609</td><td>https://images.gr-assets.com/books/1349013610m/6442769.jpg</td><td>https://images.gr-assets.com/books/1349013610s/6442769.jpg</td></tr>",
                            "<tr><td>89</td><td>21787</td><td>21787</td><td>992628</td><td>129</td><td>345418263</td><td>9780345418260</td><td>William Goldman</td><td>1973</td><td>The Princess Bride</td><td>The Princess Bride </td><td>en-US</td><td>4.25</td><td>628637</td><td>658042</td><td>15630</td><td>12883</td><td>21641</td><td>89236</td><td>196047</td><td>338235</td><td>https://images.gr-assets.com/books/1327903636m/21787.jpg</td><td>https://images.gr-assets.com/books/1327903636s/21787.jpg</td></tr>",
                            "<tr><td>90</td><td>231804</td><td>231804</td><td>1426690</td><td>156</td><td>014038572X</td><td>9780140385720</td><td>S.E. Hinton</td><td>1967</td><td>The Outsiders</td><td>The Outsiders</td><td>en-US</td><td>4.06</td><td>659248</td><td>680437</td><td>22662</td><td>10178</td><td>34346</td><td>134244</td><td>227250</td><td>274419</td><td>https://images.gr-assets.com/books/1442129426m/231804.jpg</td><td>https://images.gr-assets.com/books/1442129426s/231804.jpg</td></tr>",
                            "<tr><td>91</td><td>6186357</td><td>6186357</td><td>6366642</td><td>147</td><td>385737947</td><td>9780385737940</td><td>James Dashner</td><td>2009</td><td>The Maze Runner</td><td>The Maze Runner (Maze Runner, #1)</td><td>eng</td><td>4.02</td><td>719925</td><td>777956</td><td>48942</td><td>15291</td><td>43370</td><td>150488</td><td>266698</td><td>302109</td><td>https://images.gr-assets.com/books/1375596592m/6186357.jpg</td><td>https://images.gr-assets.com/books/1375596592s/6186357.jpg</td></tr>",
                            "<tr><td>92</td><td>1202</td><td>1202</td><td>5397</td><td>124</td><td>61234001</td><td>9780061234000</td><td>Steven D. Levitt, Stephen J. Dubner</td><td>2005</td><td>Freakonomics: A Rogue Economist Explores the Hidden Side of Everything</td><td>Freakonomics: A Rogue Economist Explores the Hidden Side of Everything (Freakonomics, #1)</td><td>en-US</td><td>3.93</td><td>524191</td><td>549301</td><td>13668</td><td>14586</td><td>26538</td><td>115789</td><td>216316</td><td>176072</td><td>https://images.gr-assets.com/books/1327909092m/1202.jpg</td><td>https://images.gr-assets.com/books/1327909092s/1202.jpg</td></tr>",
                            "<tr><td>93</td><td>2998</td><td>2998</td><td>3186437</td><td>1350</td><td>517189607</td><td>9780517189600</td><td>Frances Hodgson Burnett</td><td>1911</td><td>The Secret Garden</td><td>The Secret Garden</td><td>eng</td><td>4.12</td><td>639357</td><td>692249</td><td>13054</td><td>8005</td><td>25207</td><td>129646</td><td>243821</td><td>285570</td><td>https://images.gr-assets.com/books/1327873635m/2998.jpg</td><td>https://images.gr-assets.com/books/1327873635s/2998.jpg</td></tr>",
                            "<tr><td>94</td><td>320</td><td>320</td><td>3295655</td><td>555</td><td>60531045</td><td>9780060531040</td><td>Gabriel García Márquez, Gregory Rabassa</td><td>1967</td><td>Cien años de soledad</td><td>One Hundred Years of Solitude</td><td>eng</td><td>4.04</td><td>490565</td><td>575667</td><td>21671</td><td>27340</td><td>37646</td><td>87675</td><td>155809</td><td>267197</td><td>https://images.gr-assets.com/books/1327881361m/320.jpg</td><td>https://images.gr-assets.com/books/1327881361s/320.jpg</td></tr>",
                            "<tr><td>95</td><td>5297</td><td>5297</td><td>1858012</td><td>2303</td><td>375751513</td><td>9780375751520</td><td>Oscar Wilde, Jeffrey Eugenides</td><td>1891</td><td>The Picture of Dorian Gray</td><td>The Picture of Dorian Gray</td><td>eng</td><td>4.06</td><td>590014</td><td>674551</td><td>19647</td><td>9825</td><td>30735</td><td>129420</td><td>246892</td><td>257679</td><td>https://images.gr-assets.com/books/1424596966m/5297.jpg</td><td>https://images.gr-assets.com/books/1424596966s/5297.jpg</td></tr>",
                            "<tr><td>96</td><td>13536860</td><td>13536860</td><td>18034963</td><td>133</td><td>345803507</td><td>9780345803500</td><td>E.L. James</td><td>2012</td><td>Fifty Shades Freed</td><td>Fifty Shades Freed (Fifty Shades, #3)</td><td>eng</td><td>3.88</td><td>387290</td><td>610116</td><td>25287</td><td>39079</td><td>55691</td><td>109963</td><td>140304</td><td>265079</td><td>https://images.gr-assets.com/books/1336418837m/13536860.jpg</td><td>https://images.gr-assets.com/books/1336418837s/13536860.jpg</td></tr>",
                            "<tr><td>97</td><td>17245</td><td>17245</td><td>3165724</td><td>2207</td><td>393970124</td><td>9780393970130</td><td>Bram Stoker, Nina Auerbach, David J. Skal</td><td>1897</td><td>Dracula</td><td>Dracula</td><td>eng</td><td>3.98</td><td>618973</td><td>689739</td><td>17263</td><td>11756</td><td>36719</td><td>151396</td><td>246043</td><td>243825</td><td>https://images.gr-assets.com/books/1387151694m/17245.jpg</td><td>https://images.gr-assets.com/books/1387151694s/17245.jpg</td></tr>",
                            "<tr><td>98</td><td>5060378</td><td>5060378</td><td>6976108</td><td>209</td><td>307269981</td><td>9780307269980</td><td>Stieg Larsson, Reg Keeland</td><td>2006</td><td>Flickan som lekte med elden</td><td>The Girl Who Played with Fire (Millennium, #2)</td><td>eng</td><td>4.22</td><td>563994</td><td>649253</td><td>31423</td><td>4623</td><td>15781</td><td>91021</td><td>258236</td><td>279592</td><td>https://images.gr-assets.com/books/1351778881m/5060378.jpg</td><td>https://images.gr-assets.com/books/1351778881s/5060378.jpg</td></tr>",
                            "</table>"
                        ]
                    }
                }
            ],
            "execution_count": 2
        },
        {
            "cell_type": "markdown",
            "source": [
                "## **QUESTION 1:**  Exploring a LEFT JOIN using the **books** and **to\\_read** tables\n",
                "\n",
                "The code block below has been commented out. To answer this question, you will need to uncomment it by removing the **/\\*** (line 1) and **\\*/** (line 16).\n",
                "\n",
                "**Part A:** Look at Query 1, which table is the 'Left' table and which is the 'Right'?\n",
                "\n",
                "> Your Answer: books is left and to\\_read is right\n",
                "\n",
                "**Part B:** Using table 2, answer the following questions: \n",
                "\n",
                "- When we added a  '**WHERE tr.user\\_id IS NOT NULL'** clause (line 14), how did the table change?  Why?\n",
                "\n",
                "> Your Answer: We lost several rows because the values in the tr table were Null"
            ],
            "metadata": {
                "azdata_cell_guid": "660be568-9a70-40ff-a2fa-a78e31e87b6f"
            },
            "attachments": {}
        },
        {
            "cell_type": "code",
            "source": [
                "/*\n",
                "-- Query 1: LEFT JOIN \n",
                "SELECT TOP 50 b.title, b.average_rating, b.books_count,tr.user_id, tr.book_id\n",
                "FROM BooksDB.dbo.books AS b\n",
                "LEFT JOIN BooksDB.dbo.to_read AS tr\n",
                "ON b.best_book_id = tr.book_id\n",
                "ORDER BY b.average_rating;\n",
                "\n",
                "-- Query 2: LEFT JOIN USING 'IS NOT NULL'\n",
                "SELECT TOP 50 b.title, b.average_rating, b.books_count,tr.user_id, tr.book_id\n",
                "FROM BooksDB.dbo.books AS b\n",
                "LEFT JOIN BooksDB.dbo.to_read AS tr\n",
                "ON b.best_book_id = tr.book_id\n",
                "WHERE tr.user_id IS NOT NULL\n",
                "ORDER BY b.average_rating;\n",
                "*/"
            ],
            "metadata": {
                "azdata_cell_guid": "25dcd34c-5e5d-4393-9da0-a4c0effb6455",
                "tags": [],
                "language": "sql"
            },
            "outputs": [
                {
                    "output_type": "display_data",
                    "data": {
                        "text/html": "Commands completed successfully."
                    },
                    "metadata": {}
                },
                {
                    "output_type": "display_data",
                    "data": {
                        "text/html": "Total execution time: 00:00:00.036"
                    },
                    "metadata": {}
                }
            ],
            "execution_count": 3
        },
        {
            "cell_type": "code",
            "source": [
                "SELECT TOP 50 b.title, b.average_rating, b.books_count,tr.user_id, tr.book_id\r\n",
                "FROM BooksDB.dbo.books AS b\r\n",
                "LEFT JOIN BooksDB.dbo.to_read AS tr\r\n",
                "ON b.best_book_id = tr.book_id\r\n",
                "ORDER BY b.average_rating;"
            ],
            "metadata": {
                "language": "sql",
                "azdata_cell_guid": "a21b9519-66df-4bf0-a721-2ba77b6acc94"
            },
            "outputs": [
                {
                    "output_type": "display_data",
                    "data": {
                        "text/html": "(50 rows affected)"
                    },
                    "metadata": {}
                },
                {
                    "output_type": "display_data",
                    "data": {
                        "text/html": "Total execution time: 00:00:03.340"
                    },
                    "metadata": {}
                },
                {
                    "output_type": "execute_result",
                    "metadata": {},
                    "execution_count": 4,
                    "data": {
                        "application/vnd.dataresource+json": {
                            "schema": {
                                "fields": [
                                    {
                                        "name": "title"
                                    },
                                    {
                                        "name": "average_rating"
                                    },
                                    {
                                        "name": "books_count"
                                    },
                                    {
                                        "name": "user_id"
                                    },
                                    {
                                        "name": "book_id"
                                    }
                                ]
                            },
                            "data": [
                                {
                                    "0": "One Night at the Call Center",
                                    "1": "2.47",
                                    "2": "25",
                                    "3": "NULL",
                                    "4": "NULL"
                                },
                                {
                                    "0": "The Almost Moon",
                                    "1": "2.67",
                                    "2": "63",
                                    "3": "NULL",
                                    "4": "NULL"
                                },
                                {
                                    "0": "The Finkler Question",
                                    "1": "2.76",
                                    "2": "45",
                                    "3": "NULL",
                                    "4": "NULL"
                                },
                                {
                                    "0": "Four Blondes",
                                    "1": "2.8",
                                    "2": "57",
                                    "3": "449",
                                    "4": "6613"
                                },
                                {
                                    "0": "Four Blondes",
                                    "1": "2.8",
                                    "2": "57",
                                    "3": "1378",
                                    "4": "6613"
                                },
                                {
                                    "0": "Four Blondes",
                                    "1": "2.8",
                                    "2": "57",
                                    "3": "6465",
                                    "4": "6613"
                                },
                                {
                                    "0": "Four Blondes",
                                    "1": "2.8",
                                    "2": "57",
                                    "3": "6700",
                                    "4": "6613"
                                },
                                {
                                    "0": "Four Blondes",
                                    "1": "2.8",
                                    "2": "57",
                                    "3": "7830",
                                    "4": "6613"
                                },
                                {
                                    "0": "Four Blondes",
                                    "1": "2.8",
                                    "2": "57",
                                    "3": "10085",
                                    "4": "6613"
                                },
                                {
                                    "0": "Four Blondes",
                                    "1": "2.8",
                                    "2": "57",
                                    "3": "16298",
                                    "4": "6613"
                                },
                                {
                                    "0": "Four Blondes",
                                    "1": "2.8",
                                    "2": "57",
                                    "3": "16845",
                                    "4": "6613"
                                },
                                {
                                    "0": "Four Blondes",
                                    "1": "2.8",
                                    "2": "57",
                                    "3": "17470",
                                    "4": "6613"
                                },
                                {
                                    "0": "Four Blondes",
                                    "1": "2.8",
                                    "2": "57",
                                    "3": "19763",
                                    "4": "6613"
                                },
                                {
                                    "0": "Four Blondes",
                                    "1": "2.8",
                                    "2": "57",
                                    "3": "21938",
                                    "4": "6613"
                                },
                                {
                                    "0": "Four Blondes",
                                    "1": "2.8",
                                    "2": "57",
                                    "3": "22289",
                                    "4": "6613"
                                },
                                {
                                    "0": "Four Blondes",
                                    "1": "2.8",
                                    "2": "57",
                                    "3": "23758",
                                    "4": "6613"
                                },
                                {
                                    "0": "Four Blondes",
                                    "1": "2.8",
                                    "2": "57",
                                    "3": "27874",
                                    "4": "6613"
                                },
                                {
                                    "0": "Four Blondes",
                                    "1": "2.8",
                                    "2": "57",
                                    "3": "28690",
                                    "4": "6613"
                                },
                                {
                                    "0": "Four Blondes",
                                    "1": "2.8",
                                    "2": "57",
                                    "3": "29023",
                                    "4": "6613"
                                },
                                {
                                    "0": "Four Blondes",
                                    "1": "2.8",
                                    "2": "57",
                                    "3": "29315",
                                    "4": "6613"
                                },
                                {
                                    "0": "Four Blondes",
                                    "1": "2.8",
                                    "2": "57",
                                    "3": "30245",
                                    "4": "6613"
                                },
                                {
                                    "0": "Four Blondes",
                                    "1": "2.8",
                                    "2": "57",
                                    "3": "36128",
                                    "4": "6613"
                                },
                                {
                                    "0": "Four Blondes",
                                    "1": "2.8",
                                    "2": "57",
                                    "3": "36554",
                                    "4": "6613"
                                },
                                {
                                    "0": "Four Blondes",
                                    "1": "2.8",
                                    "2": "57",
                                    "3": "38159",
                                    "4": "6613"
                                },
                                {
                                    "0": "Four Blondes",
                                    "1": "2.8",
                                    "2": "57",
                                    "3": "38800",
                                    "4": "6613"
                                },
                                {
                                    "0": "Four Blondes",
                                    "1": "2.8",
                                    "2": "57",
                                    "3": "40361",
                                    "4": "6613"
                                },
                                {
                                    "0": "Four Blondes",
                                    "1": "2.8",
                                    "2": "57",
                                    "3": "40529",
                                    "4": "6613"
                                },
                                {
                                    "0": "Four Blondes",
                                    "1": "2.8",
                                    "2": "57",
                                    "3": "41485",
                                    "4": "6613"
                                },
                                {
                                    "0": "Four Blondes",
                                    "1": "2.8",
                                    "2": "57",
                                    "3": "42706",
                                    "4": "6613"
                                },
                                {
                                    "0": "Four Blondes",
                                    "1": "2.8",
                                    "2": "57",
                                    "3": "45206",
                                    "4": "6613"
                                },
                                {
                                    "0": "Four Blondes",
                                    "1": "2.8",
                                    "2": "57",
                                    "3": "45689",
                                    "4": "6613"
                                },
                                {
                                    "0": "Four Blondes",
                                    "1": "2.8",
                                    "2": "57",
                                    "3": "49499",
                                    "4": "6613"
                                },
                                {
                                    "0": "Four Blondes",
                                    "1": "2.8",
                                    "2": "57",
                                    "3": "51105",
                                    "4": "6613"
                                },
                                {
                                    "0": "Four Blondes",
                                    "1": "2.8",
                                    "2": "57",
                                    "3": "51671",
                                    "4": "6613"
                                },
                                {
                                    "0": "Four Blondes",
                                    "1": "2.8",
                                    "2": "57",
                                    "3": "52109",
                                    "4": "6613"
                                },
                                {
                                    "0": "Lost",
                                    "1": "2.8",
                                    "2": "18",
                                    "3": "NULL",
                                    "4": "NULL"
                                },
                                {
                                    "0": "Tell-All",
                                    "1": "2.84",
                                    "2": "37",
                                    "3": "NULL",
                                    "4": "NULL"
                                },
                                {
                                    "0": "Revenge Wears Prada: The Devil Returns (The Devil Wears Prada, #2)",
                                    "1": "2.84",
                                    "2": "59",
                                    "3": "NULL",
                                    "4": "NULL"
                                },
                                {
                                    "0": "Among the Ten Thousand Things",
                                    "1": "2.84",
                                    "2": "19",
                                    "3": "NULL",
                                    "4": "NULL"
                                },
                                {
                                    "0": "The Emperor's Children",
                                    "1": "2.93",
                                    "2": "45",
                                    "3": "7860",
                                    "4": "3648"
                                },
                                {
                                    "0": "The Emperor's Children",
                                    "1": "2.93",
                                    "2": "45",
                                    "3": "11320",
                                    "4": "3648"
                                },
                                {
                                    "0": "The Emperor's Children",
                                    "1": "2.93",
                                    "2": "45",
                                    "3": "12686",
                                    "4": "3648"
                                },
                                {
                                    "0": "The Emperor's Children",
                                    "1": "2.93",
                                    "2": "45",
                                    "3": "12729",
                                    "4": "3648"
                                },
                                {
                                    "0": "The Emperor's Children",
                                    "1": "2.93",
                                    "2": "45",
                                    "3": "12891",
                                    "4": "3648"
                                },
                                {
                                    "0": "The Emperor's Children",
                                    "1": "2.93",
                                    "2": "45",
                                    "3": "16933",
                                    "4": "3648"
                                },
                                {
                                    "0": "The Emperor's Children",
                                    "1": "2.93",
                                    "2": "45",
                                    "3": "17093",
                                    "4": "3648"
                                },
                                {
                                    "0": "The Emperor's Children",
                                    "1": "2.93",
                                    "2": "45",
                                    "3": "24036",
                                    "4": "3648"
                                },
                                {
                                    "0": "The Emperor's Children",
                                    "1": "2.93",
                                    "2": "45",
                                    "3": "35122",
                                    "4": "3648"
                                },
                                {
                                    "0": "The Emperor's Children",
                                    "1": "2.93",
                                    "2": "45",
                                    "3": "36022",
                                    "4": "3648"
                                },
                                {
                                    "0": "The Emperor's Children",
                                    "1": "2.93",
                                    "2": "45",
                                    "3": "36952",
                                    "4": "3648"
                                }
                            ]
                        },
                        "text/html": [
                            "<table>",
                            "<tr><th>title</th><th>average_rating</th><th>books_count</th><th>user_id</th><th>book_id</th></tr>",
                            "<tr><td>One Night at the Call Center</td><td>2.47</td><td>25</td><td>NULL</td><td>NULL</td></tr>",
                            "<tr><td>The Almost Moon</td><td>2.67</td><td>63</td><td>NULL</td><td>NULL</td></tr>",
                            "<tr><td>The Finkler Question</td><td>2.76</td><td>45</td><td>NULL</td><td>NULL</td></tr>",
                            "<tr><td>Four Blondes</td><td>2.8</td><td>57</td><td>449</td><td>6613</td></tr>",
                            "<tr><td>Four Blondes</td><td>2.8</td><td>57</td><td>1378</td><td>6613</td></tr>",
                            "<tr><td>Four Blondes</td><td>2.8</td><td>57</td><td>6465</td><td>6613</td></tr>",
                            "<tr><td>Four Blondes</td><td>2.8</td><td>57</td><td>6700</td><td>6613</td></tr>",
                            "<tr><td>Four Blondes</td><td>2.8</td><td>57</td><td>7830</td><td>6613</td></tr>",
                            "<tr><td>Four Blondes</td><td>2.8</td><td>57</td><td>10085</td><td>6613</td></tr>",
                            "<tr><td>Four Blondes</td><td>2.8</td><td>57</td><td>16298</td><td>6613</td></tr>",
                            "<tr><td>Four Blondes</td><td>2.8</td><td>57</td><td>16845</td><td>6613</td></tr>",
                            "<tr><td>Four Blondes</td><td>2.8</td><td>57</td><td>17470</td><td>6613</td></tr>",
                            "<tr><td>Four Blondes</td><td>2.8</td><td>57</td><td>19763</td><td>6613</td></tr>",
                            "<tr><td>Four Blondes</td><td>2.8</td><td>57</td><td>21938</td><td>6613</td></tr>",
                            "<tr><td>Four Blondes</td><td>2.8</td><td>57</td><td>22289</td><td>6613</td></tr>",
                            "<tr><td>Four Blondes</td><td>2.8</td><td>57</td><td>23758</td><td>6613</td></tr>",
                            "<tr><td>Four Blondes</td><td>2.8</td><td>57</td><td>27874</td><td>6613</td></tr>",
                            "<tr><td>Four Blondes</td><td>2.8</td><td>57</td><td>28690</td><td>6613</td></tr>",
                            "<tr><td>Four Blondes</td><td>2.8</td><td>57</td><td>29023</td><td>6613</td></tr>",
                            "<tr><td>Four Blondes</td><td>2.8</td><td>57</td><td>29315</td><td>6613</td></tr>",
                            "<tr><td>Four Blondes</td><td>2.8</td><td>57</td><td>30245</td><td>6613</td></tr>",
                            "<tr><td>Four Blondes</td><td>2.8</td><td>57</td><td>36128</td><td>6613</td></tr>",
                            "<tr><td>Four Blondes</td><td>2.8</td><td>57</td><td>36554</td><td>6613</td></tr>",
                            "<tr><td>Four Blondes</td><td>2.8</td><td>57</td><td>38159</td><td>6613</td></tr>",
                            "<tr><td>Four Blondes</td><td>2.8</td><td>57</td><td>38800</td><td>6613</td></tr>",
                            "<tr><td>Four Blondes</td><td>2.8</td><td>57</td><td>40361</td><td>6613</td></tr>",
                            "<tr><td>Four Blondes</td><td>2.8</td><td>57</td><td>40529</td><td>6613</td></tr>",
                            "<tr><td>Four Blondes</td><td>2.8</td><td>57</td><td>41485</td><td>6613</td></tr>",
                            "<tr><td>Four Blondes</td><td>2.8</td><td>57</td><td>42706</td><td>6613</td></tr>",
                            "<tr><td>Four Blondes</td><td>2.8</td><td>57</td><td>45206</td><td>6613</td></tr>",
                            "<tr><td>Four Blondes</td><td>2.8</td><td>57</td><td>45689</td><td>6613</td></tr>",
                            "<tr><td>Four Blondes</td><td>2.8</td><td>57</td><td>49499</td><td>6613</td></tr>",
                            "<tr><td>Four Blondes</td><td>2.8</td><td>57</td><td>51105</td><td>6613</td></tr>",
                            "<tr><td>Four Blondes</td><td>2.8</td><td>57</td><td>51671</td><td>6613</td></tr>",
                            "<tr><td>Four Blondes</td><td>2.8</td><td>57</td><td>52109</td><td>6613</td></tr>",
                            "<tr><td>Lost</td><td>2.8</td><td>18</td><td>NULL</td><td>NULL</td></tr>",
                            "<tr><td>Tell-All</td><td>2.84</td><td>37</td><td>NULL</td><td>NULL</td></tr>",
                            "<tr><td>Revenge Wears Prada: The Devil Returns (The Devil Wears Prada, #2)</td><td>2.84</td><td>59</td><td>NULL</td><td>NULL</td></tr>",
                            "<tr><td>Among the Ten Thousand Things</td><td>2.84</td><td>19</td><td>NULL</td><td>NULL</td></tr>",
                            "<tr><td>The Emperor's Children</td><td>2.93</td><td>45</td><td>7860</td><td>3648</td></tr>",
                            "<tr><td>The Emperor's Children</td><td>2.93</td><td>45</td><td>11320</td><td>3648</td></tr>",
                            "<tr><td>The Emperor's Children</td><td>2.93</td><td>45</td><td>12686</td><td>3648</td></tr>",
                            "<tr><td>The Emperor's Children</td><td>2.93</td><td>45</td><td>12729</td><td>3648</td></tr>",
                            "<tr><td>The Emperor's Children</td><td>2.93</td><td>45</td><td>12891</td><td>3648</td></tr>",
                            "<tr><td>The Emperor's Children</td><td>2.93</td><td>45</td><td>16933</td><td>3648</td></tr>",
                            "<tr><td>The Emperor's Children</td><td>2.93</td><td>45</td><td>17093</td><td>3648</td></tr>",
                            "<tr><td>The Emperor's Children</td><td>2.93</td><td>45</td><td>24036</td><td>3648</td></tr>",
                            "<tr><td>The Emperor's Children</td><td>2.93</td><td>45</td><td>35122</td><td>3648</td></tr>",
                            "<tr><td>The Emperor's Children</td><td>2.93</td><td>45</td><td>36022</td><td>3648</td></tr>",
                            "<tr><td>The Emperor's Children</td><td>2.93</td><td>45</td><td>36952</td><td>3648</td></tr>",
                            "</table>"
                        ]
                    }
                }
            ],
            "execution_count": 4
        },
        {
            "cell_type": "code",
            "source": [
                "SELECT TOP 50 b.title, b.average_rating, b.books_count,tr.user_id, tr.book_id\r\n",
                "FROM BooksDB.dbo.books AS b\r\n",
                "LEFT JOIN BooksDB.dbo.to_read AS tr\r\n",
                "ON b.best_book_id = tr.book_id\r\n",
                "WHERE tr.user_id IS NOT NULL\r\n",
                "ORDER BY b.average_rating;"
            ],
            "metadata": {
                "language": "sql",
                "azdata_cell_guid": "2daf7704-6639-4976-bde3-7ac5909a272e"
            },
            "outputs": [
                {
                    "output_type": "display_data",
                    "data": {
                        "text/html": "(50 rows affected)"
                    },
                    "metadata": {}
                },
                {
                    "output_type": "display_data",
                    "data": {
                        "text/html": "Total execution time: 00:00:03.424"
                    },
                    "metadata": {}
                },
                {
                    "output_type": "execute_result",
                    "metadata": {},
                    "execution_count": 5,
                    "data": {
                        "application/vnd.dataresource+json": {
                            "schema": {
                                "fields": [
                                    {
                                        "name": "title"
                                    },
                                    {
                                        "name": "average_rating"
                                    },
                                    {
                                        "name": "books_count"
                                    },
                                    {
                                        "name": "user_id"
                                    },
                                    {
                                        "name": "book_id"
                                    }
                                ]
                            },
                            "data": [
                                {
                                    "0": "Four Blondes",
                                    "1": "2.8",
                                    "2": "57",
                                    "3": "449",
                                    "4": "6613"
                                },
                                {
                                    "0": "Four Blondes",
                                    "1": "2.8",
                                    "2": "57",
                                    "3": "1378",
                                    "4": "6613"
                                },
                                {
                                    "0": "Four Blondes",
                                    "1": "2.8",
                                    "2": "57",
                                    "3": "6465",
                                    "4": "6613"
                                },
                                {
                                    "0": "Four Blondes",
                                    "1": "2.8",
                                    "2": "57",
                                    "3": "6700",
                                    "4": "6613"
                                },
                                {
                                    "0": "Four Blondes",
                                    "1": "2.8",
                                    "2": "57",
                                    "3": "7830",
                                    "4": "6613"
                                },
                                {
                                    "0": "Four Blondes",
                                    "1": "2.8",
                                    "2": "57",
                                    "3": "10085",
                                    "4": "6613"
                                },
                                {
                                    "0": "Four Blondes",
                                    "1": "2.8",
                                    "2": "57",
                                    "3": "16298",
                                    "4": "6613"
                                },
                                {
                                    "0": "Four Blondes",
                                    "1": "2.8",
                                    "2": "57",
                                    "3": "16845",
                                    "4": "6613"
                                },
                                {
                                    "0": "Four Blondes",
                                    "1": "2.8",
                                    "2": "57",
                                    "3": "17470",
                                    "4": "6613"
                                },
                                {
                                    "0": "Four Blondes",
                                    "1": "2.8",
                                    "2": "57",
                                    "3": "19763",
                                    "4": "6613"
                                },
                                {
                                    "0": "Four Blondes",
                                    "1": "2.8",
                                    "2": "57",
                                    "3": "21938",
                                    "4": "6613"
                                },
                                {
                                    "0": "Four Blondes",
                                    "1": "2.8",
                                    "2": "57",
                                    "3": "22289",
                                    "4": "6613"
                                },
                                {
                                    "0": "Four Blondes",
                                    "1": "2.8",
                                    "2": "57",
                                    "3": "23758",
                                    "4": "6613"
                                },
                                {
                                    "0": "Four Blondes",
                                    "1": "2.8",
                                    "2": "57",
                                    "3": "27874",
                                    "4": "6613"
                                },
                                {
                                    "0": "Four Blondes",
                                    "1": "2.8",
                                    "2": "57",
                                    "3": "28690",
                                    "4": "6613"
                                },
                                {
                                    "0": "Four Blondes",
                                    "1": "2.8",
                                    "2": "57",
                                    "3": "29023",
                                    "4": "6613"
                                },
                                {
                                    "0": "Four Blondes",
                                    "1": "2.8",
                                    "2": "57",
                                    "3": "29315",
                                    "4": "6613"
                                },
                                {
                                    "0": "Four Blondes",
                                    "1": "2.8",
                                    "2": "57",
                                    "3": "30245",
                                    "4": "6613"
                                },
                                {
                                    "0": "Four Blondes",
                                    "1": "2.8",
                                    "2": "57",
                                    "3": "36128",
                                    "4": "6613"
                                },
                                {
                                    "0": "Four Blondes",
                                    "1": "2.8",
                                    "2": "57",
                                    "3": "36554",
                                    "4": "6613"
                                },
                                {
                                    "0": "Four Blondes",
                                    "1": "2.8",
                                    "2": "57",
                                    "3": "38159",
                                    "4": "6613"
                                },
                                {
                                    "0": "Four Blondes",
                                    "1": "2.8",
                                    "2": "57",
                                    "3": "38800",
                                    "4": "6613"
                                },
                                {
                                    "0": "Four Blondes",
                                    "1": "2.8",
                                    "2": "57",
                                    "3": "40361",
                                    "4": "6613"
                                },
                                {
                                    "0": "Four Blondes",
                                    "1": "2.8",
                                    "2": "57",
                                    "3": "40529",
                                    "4": "6613"
                                },
                                {
                                    "0": "Four Blondes",
                                    "1": "2.8",
                                    "2": "57",
                                    "3": "41485",
                                    "4": "6613"
                                },
                                {
                                    "0": "Four Blondes",
                                    "1": "2.8",
                                    "2": "57",
                                    "3": "42706",
                                    "4": "6613"
                                },
                                {
                                    "0": "Four Blondes",
                                    "1": "2.8",
                                    "2": "57",
                                    "3": "45206",
                                    "4": "6613"
                                },
                                {
                                    "0": "Four Blondes",
                                    "1": "2.8",
                                    "2": "57",
                                    "3": "45689",
                                    "4": "6613"
                                },
                                {
                                    "0": "Four Blondes",
                                    "1": "2.8",
                                    "2": "57",
                                    "3": "49499",
                                    "4": "6613"
                                },
                                {
                                    "0": "Four Blondes",
                                    "1": "2.8",
                                    "2": "57",
                                    "3": "51105",
                                    "4": "6613"
                                },
                                {
                                    "0": "Four Blondes",
                                    "1": "2.8",
                                    "2": "57",
                                    "3": "51671",
                                    "4": "6613"
                                },
                                {
                                    "0": "Four Blondes",
                                    "1": "2.8",
                                    "2": "57",
                                    "3": "52109",
                                    "4": "6613"
                                },
                                {
                                    "0": "The Emperor's Children",
                                    "1": "2.93",
                                    "2": "45",
                                    "3": "7860",
                                    "4": "3648"
                                },
                                {
                                    "0": "The Emperor's Children",
                                    "1": "2.93",
                                    "2": "45",
                                    "3": "11320",
                                    "4": "3648"
                                },
                                {
                                    "0": "The Emperor's Children",
                                    "1": "2.93",
                                    "2": "45",
                                    "3": "12686",
                                    "4": "3648"
                                },
                                {
                                    "0": "The Emperor's Children",
                                    "1": "2.93",
                                    "2": "45",
                                    "3": "12729",
                                    "4": "3648"
                                },
                                {
                                    "0": "The Emperor's Children",
                                    "1": "2.93",
                                    "2": "45",
                                    "3": "12891",
                                    "4": "3648"
                                },
                                {
                                    "0": "The Emperor's Children",
                                    "1": "2.93",
                                    "2": "45",
                                    "3": "16933",
                                    "4": "3648"
                                },
                                {
                                    "0": "The Emperor's Children",
                                    "1": "2.93",
                                    "2": "45",
                                    "3": "17093",
                                    "4": "3648"
                                },
                                {
                                    "0": "The Emperor's Children",
                                    "1": "2.93",
                                    "2": "45",
                                    "3": "24036",
                                    "4": "3648"
                                },
                                {
                                    "0": "The Emperor's Children",
                                    "1": "2.93",
                                    "2": "45",
                                    "3": "35122",
                                    "4": "3648"
                                },
                                {
                                    "0": "The Emperor's Children",
                                    "1": "2.93",
                                    "2": "45",
                                    "3": "36022",
                                    "4": "3648"
                                },
                                {
                                    "0": "The Emperor's Children",
                                    "1": "2.93",
                                    "2": "45",
                                    "3": "36952",
                                    "4": "3648"
                                },
                                {
                                    "0": "The Emperor's Children",
                                    "1": "2.93",
                                    "2": "45",
                                    "3": "38430",
                                    "4": "3648"
                                },
                                {
                                    "0": "The Emperor's Children",
                                    "1": "2.93",
                                    "2": "45",
                                    "3": "39414",
                                    "4": "3648"
                                },
                                {
                                    "0": "The Emperor's Children",
                                    "1": "2.93",
                                    "2": "45",
                                    "3": "45261",
                                    "4": "3648"
                                },
                                {
                                    "0": "The Emperor's Children",
                                    "1": "2.93",
                                    "2": "45",
                                    "3": "45497",
                                    "4": "3648"
                                },
                                {
                                    "0": "The Emperor's Children",
                                    "1": "2.93",
                                    "2": "45",
                                    "3": "45747",
                                    "4": "3648"
                                },
                                {
                                    "0": "The Emperor's Children",
                                    "1": "2.93",
                                    "2": "45",
                                    "3": "48502",
                                    "4": "3648"
                                },
                                {
                                    "0": "The Emperor's Children",
                                    "1": "2.93",
                                    "2": "45",
                                    "3": "49233",
                                    "4": "3648"
                                }
                            ]
                        },
                        "text/html": [
                            "<table>",
                            "<tr><th>title</th><th>average_rating</th><th>books_count</th><th>user_id</th><th>book_id</th></tr>",
                            "<tr><td>Four Blondes</td><td>2.8</td><td>57</td><td>449</td><td>6613</td></tr>",
                            "<tr><td>Four Blondes</td><td>2.8</td><td>57</td><td>1378</td><td>6613</td></tr>",
                            "<tr><td>Four Blondes</td><td>2.8</td><td>57</td><td>6465</td><td>6613</td></tr>",
                            "<tr><td>Four Blondes</td><td>2.8</td><td>57</td><td>6700</td><td>6613</td></tr>",
                            "<tr><td>Four Blondes</td><td>2.8</td><td>57</td><td>7830</td><td>6613</td></tr>",
                            "<tr><td>Four Blondes</td><td>2.8</td><td>57</td><td>10085</td><td>6613</td></tr>",
                            "<tr><td>Four Blondes</td><td>2.8</td><td>57</td><td>16298</td><td>6613</td></tr>",
                            "<tr><td>Four Blondes</td><td>2.8</td><td>57</td><td>16845</td><td>6613</td></tr>",
                            "<tr><td>Four Blondes</td><td>2.8</td><td>57</td><td>17470</td><td>6613</td></tr>",
                            "<tr><td>Four Blondes</td><td>2.8</td><td>57</td><td>19763</td><td>6613</td></tr>",
                            "<tr><td>Four Blondes</td><td>2.8</td><td>57</td><td>21938</td><td>6613</td></tr>",
                            "<tr><td>Four Blondes</td><td>2.8</td><td>57</td><td>22289</td><td>6613</td></tr>",
                            "<tr><td>Four Blondes</td><td>2.8</td><td>57</td><td>23758</td><td>6613</td></tr>",
                            "<tr><td>Four Blondes</td><td>2.8</td><td>57</td><td>27874</td><td>6613</td></tr>",
                            "<tr><td>Four Blondes</td><td>2.8</td><td>57</td><td>28690</td><td>6613</td></tr>",
                            "<tr><td>Four Blondes</td><td>2.8</td><td>57</td><td>29023</td><td>6613</td></tr>",
                            "<tr><td>Four Blondes</td><td>2.8</td><td>57</td><td>29315</td><td>6613</td></tr>",
                            "<tr><td>Four Blondes</td><td>2.8</td><td>57</td><td>30245</td><td>6613</td></tr>",
                            "<tr><td>Four Blondes</td><td>2.8</td><td>57</td><td>36128</td><td>6613</td></tr>",
                            "<tr><td>Four Blondes</td><td>2.8</td><td>57</td><td>36554</td><td>6613</td></tr>",
                            "<tr><td>Four Blondes</td><td>2.8</td><td>57</td><td>38159</td><td>6613</td></tr>",
                            "<tr><td>Four Blondes</td><td>2.8</td><td>57</td><td>38800</td><td>6613</td></tr>",
                            "<tr><td>Four Blondes</td><td>2.8</td><td>57</td><td>40361</td><td>6613</td></tr>",
                            "<tr><td>Four Blondes</td><td>2.8</td><td>57</td><td>40529</td><td>6613</td></tr>",
                            "<tr><td>Four Blondes</td><td>2.8</td><td>57</td><td>41485</td><td>6613</td></tr>",
                            "<tr><td>Four Blondes</td><td>2.8</td><td>57</td><td>42706</td><td>6613</td></tr>",
                            "<tr><td>Four Blondes</td><td>2.8</td><td>57</td><td>45206</td><td>6613</td></tr>",
                            "<tr><td>Four Blondes</td><td>2.8</td><td>57</td><td>45689</td><td>6613</td></tr>",
                            "<tr><td>Four Blondes</td><td>2.8</td><td>57</td><td>49499</td><td>6613</td></tr>",
                            "<tr><td>Four Blondes</td><td>2.8</td><td>57</td><td>51105</td><td>6613</td></tr>",
                            "<tr><td>Four Blondes</td><td>2.8</td><td>57</td><td>51671</td><td>6613</td></tr>",
                            "<tr><td>Four Blondes</td><td>2.8</td><td>57</td><td>52109</td><td>6613</td></tr>",
                            "<tr><td>The Emperor's Children</td><td>2.93</td><td>45</td><td>7860</td><td>3648</td></tr>",
                            "<tr><td>The Emperor's Children</td><td>2.93</td><td>45</td><td>11320</td><td>3648</td></tr>",
                            "<tr><td>The Emperor's Children</td><td>2.93</td><td>45</td><td>12686</td><td>3648</td></tr>",
                            "<tr><td>The Emperor's Children</td><td>2.93</td><td>45</td><td>12729</td><td>3648</td></tr>",
                            "<tr><td>The Emperor's Children</td><td>2.93</td><td>45</td><td>12891</td><td>3648</td></tr>",
                            "<tr><td>The Emperor's Children</td><td>2.93</td><td>45</td><td>16933</td><td>3648</td></tr>",
                            "<tr><td>The Emperor's Children</td><td>2.93</td><td>45</td><td>17093</td><td>3648</td></tr>",
                            "<tr><td>The Emperor's Children</td><td>2.93</td><td>45</td><td>24036</td><td>3648</td></tr>",
                            "<tr><td>The Emperor's Children</td><td>2.93</td><td>45</td><td>35122</td><td>3648</td></tr>",
                            "<tr><td>The Emperor's Children</td><td>2.93</td><td>45</td><td>36022</td><td>3648</td></tr>",
                            "<tr><td>The Emperor's Children</td><td>2.93</td><td>45</td><td>36952</td><td>3648</td></tr>",
                            "<tr><td>The Emperor's Children</td><td>2.93</td><td>45</td><td>38430</td><td>3648</td></tr>",
                            "<tr><td>The Emperor's Children</td><td>2.93</td><td>45</td><td>39414</td><td>3648</td></tr>",
                            "<tr><td>The Emperor's Children</td><td>2.93</td><td>45</td><td>45261</td><td>3648</td></tr>",
                            "<tr><td>The Emperor's Children</td><td>2.93</td><td>45</td><td>45497</td><td>3648</td></tr>",
                            "<tr><td>The Emperor's Children</td><td>2.93</td><td>45</td><td>45747</td><td>3648</td></tr>",
                            "<tr><td>The Emperor's Children</td><td>2.93</td><td>45</td><td>48502</td><td>3648</td></tr>",
                            "<tr><td>The Emperor's Children</td><td>2.93</td><td>45</td><td>49233</td><td>3648</td></tr>",
                            "</table>"
                        ]
                    }
                }
            ],
            "execution_count": 5
        },
        {
            "cell_type": "markdown",
            "source": [
                "## **QUESTION 2:** Exploring **RIGHT** joins with the **books** and **to\\_read** tables\n",
                "\n",
                "You will need to uncomment the Query to answer the question.\n",
                "\n",
                "**Part A:** Looking at the query, which table is the 'Left' and which is the 'Right'?\n",
                "\n",
                "> Your Answer: to\\_read is Right and books is Left\n",
                "\n",
                "**Part B:** How do the RIGHT-joined tables differ from the LEFT-joined tables in Question 1?  \n",
                "\n",
                "> Your Answer: There are many more Null values because there we are using data from a different table (to\\_read) as our starting place."
            ],
            "metadata": {
                "azdata_cell_guid": "c1e417d9-89d2-4a7d-ab46-b43c8bddc54f"
            },
            "attachments": {}
        },
        {
            "cell_type": "code",
            "source": [
                "\n",
                "-- Query 1: RIGHT JOIN\n",
                "SELECT TOP 300 b.title, b.average_rating, b.books_count, tr.user_id, tr.book_id\n",
                "FROM BooksDB.dbo.books AS b\n",
                "RIGHT JOIN BooksDB.dbo.to_read AS tr\n",
                "ON b.best_book_id = tr.book_id;"
            ],
            "metadata": {
                "azdata_cell_guid": "8cf020b8-2a76-46a6-acff-97eb1acc7fed",
                "tags": [],
                "language": "sql"
            },
            "outputs": [
                {
                    "output_type": "display_data",
                    "data": {
                        "text/html": "(300 rows affected)"
                    },
                    "metadata": {}
                },
                {
                    "output_type": "display_data",
                    "data": {
                        "text/html": "Total execution time: 00:00:00.061"
                    },
                    "metadata": {}
                },
                {
                    "output_type": "execute_result",
                    "metadata": {},
                    "execution_count": 6,
                    "data": {
                        "application/vnd.dataresource+json": {
                            "schema": {
                                "fields": [
                                    {
                                        "name": "title"
                                    },
                                    {
                                        "name": "average_rating"
                                    },
                                    {
                                        "name": "books_count"
                                    },
                                    {
                                        "name": "user_id"
                                    },
                                    {
                                        "name": "book_id"
                                    }
                                ]
                            },
                            "data": [
                                {
                                    "0": "Children of Dune (Dune Chronicles #3)",
                                    "1": "3.9",
                                    "2": "116",
                                    "3": "1",
                                    "4": "112"
                                },
                                {
                                    "0": "NULL",
                                    "1": "NULL",
                                    "2": "NULL",
                                    "3": "1",
                                    "4": "235"
                                },
                                {
                                    "0": "NULL",
                                    "1": "NULL",
                                    "2": "NULL",
                                    "3": "1",
                                    "4": "533"
                                },
                                {
                                    "0": "NULL",
                                    "1": "NULL",
                                    "2": "NULL",
                                    "3": "1",
                                    "4": "1198"
                                },
                                {
                                    "0": "NULL",
                                    "1": "NULL",
                                    "2": "NULL",
                                    "3": "1",
                                    "4": "1874"
                                },
                                {
                                    "0": "NULL",
                                    "1": "NULL",
                                    "2": "NULL",
                                    "3": "1",
                                    "4": "2058"
                                },
                                {
                                    "0": "NULL",
                                    "1": "NULL",
                                    "2": "NULL",
                                    "3": "1",
                                    "4": "3334"
                                },
                                {
                                    "0": "NULL",
                                    "1": "NULL",
                                    "2": "NULL",
                                    "3": "2",
                                    "4": "4"
                                },
                                {
                                    "0": "NULL",
                                    "1": "NULL",
                                    "2": "NULL",
                                    "3": "2",
                                    "4": "11"
                                },
                                {
                                    "0": "The Ultimate Hitchhiker's Guide to the Galaxy",
                                    "1": "4.37",
                                    "2": "32",
                                    "3": "2",
                                    "4": "13"
                                },
                                {
                                    "0": "NULL",
                                    "1": "NULL",
                                    "2": "NULL",
                                    "3": "2",
                                    "4": "16"
                                },
                                {
                                    "0": "NULL",
                                    "1": "NULL",
                                    "2": "NULL",
                                    "3": "2",
                                    "4": "92"
                                },
                                {
                                    "0": "Dune Messiah (Dune Chronicles #2)",
                                    "1": "3.86",
                                    "2": "140",
                                    "3": "2",
                                    "4": "106"
                                },
                                {
                                    "0": "NULL",
                                    "1": "NULL",
                                    "2": "NULL",
                                    "3": "2",
                                    "4": "113"
                                },
                                {
                                    "0": "NULL",
                                    "1": "NULL",
                                    "2": "NULL",
                                    "3": "2",
                                    "4": "233"
                                },
                                {
                                    "0": "NULL",
                                    "1": "NULL",
                                    "2": "NULL",
                                    "3": "2",
                                    "4": "247"
                                },
                                {
                                    "0": "NULL",
                                    "1": "NULL",
                                    "2": "NULL",
                                    "3": "2",
                                    "4": "380"
                                },
                                {
                                    "0": "NULL",
                                    "1": "NULL",
                                    "2": "NULL",
                                    "3": "2",
                                    "4": "408"
                                },
                                {
                                    "0": "NULL",
                                    "1": "NULL",
                                    "2": "NULL",
                                    "3": "2",
                                    "4": "439"
                                },
                                {
                                    "0": "NULL",
                                    "1": "NULL",
                                    "2": "NULL",
                                    "3": "2",
                                    "4": "479"
                                },
                                {
                                    "0": "NULL",
                                    "1": "NULL",
                                    "2": "NULL",
                                    "3": "2",
                                    "4": "516"
                                },
                                {
                                    "0": "NULL",
                                    "1": "NULL",
                                    "2": "NULL",
                                    "3": "2",
                                    "4": "619"
                                },
                                {
                                    "0": "NULL",
                                    "1": "NULL",
                                    "2": "NULL",
                                    "3": "2",
                                    "4": "1069"
                                },
                                {
                                    "0": "The Iliad",
                                    "1": "3.83",
                                    "2": "1726",
                                    "3": "2",
                                    "4": "1371"
                                },
                                {
                                    "0": "NULL",
                                    "1": "NULL",
                                    "2": "NULL",
                                    "3": "2",
                                    "4": "1384"
                                },
                                {
                                    "0": "NULL",
                                    "1": "NULL",
                                    "2": "NULL",
                                    "3": "2",
                                    "4": "1597"
                                },
                                {
                                    "0": "NULL",
                                    "1": "NULL",
                                    "2": "NULL",
                                    "3": "2",
                                    "4": "1926"
                                },
                                {
                                    "0": "NULL",
                                    "1": "NULL",
                                    "2": "NULL",
                                    "3": "2",
                                    "4": "1967"
                                },
                                {
                                    "0": "NULL",
                                    "1": "NULL",
                                    "2": "NULL",
                                    "3": "2",
                                    "4": "1969"
                                },
                                {
                                    "0": "NULL",
                                    "1": "NULL",
                                    "2": "NULL",
                                    "3": "2",
                                    "4": "2220"
                                },
                                {
                                    "0": "NULL",
                                    "1": "NULL",
                                    "2": "NULL",
                                    "3": "2",
                                    "4": "2388"
                                },
                                {
                                    "0": "NULL",
                                    "1": "NULL",
                                    "2": "NULL",
                                    "3": "2",
                                    "4": "3222"
                                },
                                {
                                    "0": "NULL",
                                    "1": "NULL",
                                    "2": "NULL",
                                    "3": "2",
                                    "4": "3227"
                                },
                                {
                                    "0": "NULL",
                                    "1": "NULL",
                                    "2": "NULL",
                                    "3": "2",
                                    "4": "3733"
                                },
                                {
                                    "0": "NULL",
                                    "1": "NULL",
                                    "2": "NULL",
                                    "3": "2",
                                    "4": "5418"
                                },
                                {
                                    "0": "NULL",
                                    "1": "NULL",
                                    "2": "NULL",
                                    "3": "2",
                                    "4": "6937"
                                },
                                {
                                    "0": "NULL",
                                    "1": "NULL",
                                    "2": "NULL",
                                    "3": "2",
                                    "4": "7146"
                                },
                                {
                                    "0": "NULL",
                                    "1": "NULL",
                                    "2": "NULL",
                                    "3": "2",
                                    "4": "7873"
                                },
                                {
                                    "0": "NULL",
                                    "1": "NULL",
                                    "2": "NULL",
                                    "3": "2",
                                    "4": "8417"
                                },
                                {
                                    "0": "Harry Potter Collection (Harry Potter, #1-6)",
                                    "1": "4.73",
                                    "2": "6",
                                    "3": "3",
                                    "4": "10"
                                },
                                {
                                    "0": "NULL",
                                    "1": "NULL",
                                    "2": "NULL",
                                    "3": "3",
                                    "4": "66"
                                },
                                {
                                    "0": "NULL",
                                    "1": "NULL",
                                    "2": "NULL",
                                    "3": "3",
                                    "4": "233"
                                },
                                {
                                    "0": "NULL",
                                    "1": "NULL",
                                    "2": "NULL",
                                    "3": "3",
                                    "4": "726"
                                },
                                {
                                    "0": "NULL",
                                    "1": "NULL",
                                    "2": "NULL",
                                    "3": "3",
                                    "4": "932"
                                },
                                {
                                    "0": "NULL",
                                    "1": "NULL",
                                    "2": "NULL",
                                    "3": "3",
                                    "4": "1146"
                                },
                                {
                                    "0": "NULL",
                                    "1": "NULL",
                                    "2": "NULL",
                                    "3": "3",
                                    "4": "2439"
                                },
                                {
                                    "0": "NULL",
                                    "1": "NULL",
                                    "2": "NULL",
                                    "3": "3",
                                    "4": "3566"
                                },
                                {
                                    "0": "NULL",
                                    "1": "NULL",
                                    "2": "NULL",
                                    "3": "3",
                                    "4": "4582"
                                },
                                {
                                    "0": "NULL",
                                    "1": "NULL",
                                    "2": "NULL",
                                    "3": "3",
                                    "4": "5448"
                                },
                                {
                                    "0": "NULL",
                                    "1": "NULL",
                                    "2": "NULL",
                                    "3": "3",
                                    "4": "5765"
                                },
                                {
                                    "0": "NULL",
                                    "1": "NULL",
                                    "2": "NULL",
                                    "3": "3",
                                    "4": "6274"
                                },
                                {
                                    "0": "NULL",
                                    "1": "NULL",
                                    "2": "NULL",
                                    "3": "3",
                                    "4": "8403"
                                },
                                {
                                    "0": "NULL",
                                    "1": "NULL",
                                    "2": "NULL",
                                    "3": "5",
                                    "4": "31"
                                },
                                {
                                    "0": "The Virtue of Selfishness: A New Concept of Egoism",
                                    "1": "3.47",
                                    "2": "53",
                                    "3": "5",
                                    "4": "665"
                                },
                                {
                                    "0": "NULL",
                                    "1": "NULL",
                                    "2": "NULL",
                                    "3": "5",
                                    "4": "3074"
                                },
                                {
                                    "0": "Sherlock Holmes: The Complete Novels and Stories, Volume I",
                                    "1": "4.45",
                                    "2": "13",
                                    "3": "5",
                                    "4": "3581"
                                },
                                {
                                    "0": "NULL",
                                    "1": "NULL",
                                    "2": "NULL",
                                    "3": "6",
                                    "4": "64"
                                },
                                {
                                    "0": "NULL",
                                    "1": "NULL",
                                    "2": "NULL",
                                    "3": "6",
                                    "4": "459"
                                },
                                {
                                    "0": "NULL",
                                    "1": "NULL",
                                    "2": "NULL",
                                    "3": "6",
                                    "4": "619"
                                },
                                {
                                    "0": "NULL",
                                    "1": "NULL",
                                    "2": "NULL",
                                    "3": "6",
                                    "4": "649"
                                },
                                {
                                    "0": "NULL",
                                    "1": "NULL",
                                    "2": "NULL",
                                    "3": "6",
                                    "4": "687"
                                },
                                {
                                    "0": "NULL",
                                    "1": "NULL",
                                    "2": "NULL",
                                    "3": "6",
                                    "4": "874"
                                },
                                {
                                    "0": "The War of Art: Break Through the Blocks & Win Your Inner Creative Battles",
                                    "1": "4.07",
                                    "2": "29",
                                    "3": "6",
                                    "4": "1319"
                                },
                                {
                                    "0": "NULL",
                                    "1": "NULL",
                                    "2": "NULL",
                                    "3": "6",
                                    "4": "1912"
                                },
                                {
                                    "0": "NULL",
                                    "1": "NULL",
                                    "2": "NULL",
                                    "3": "6",
                                    "4": "5269"
                                },
                                {
                                    "0": "NULL",
                                    "1": "NULL",
                                    "2": "NULL",
                                    "3": "6",
                                    "4": "5537"
                                },
                                {
                                    "0": "NULL",
                                    "1": "NULL",
                                    "2": "NULL",
                                    "3": "6",
                                    "4": "5820"
                                },
                                {
                                    "0": "NULL",
                                    "1": "NULL",
                                    "2": "NULL",
                                    "3": "6",
                                    "4": "6220"
                                },
                                {
                                    "0": "NULL",
                                    "1": "NULL",
                                    "2": "NULL",
                                    "3": "6",
                                    "4": "7480"
                                },
                                {
                                    "0": "Harry Potter Collection (Harry Potter, #1-6)",
                                    "1": "4.73",
                                    "2": "6",
                                    "3": "7",
                                    "4": "10"
                                },
                                {
                                    "0": "NULL",
                                    "1": "NULL",
                                    "2": "NULL",
                                    "3": "7",
                                    "4": "215"
                                },
                                {
                                    "0": "NULL",
                                    "1": "NULL",
                                    "2": "NULL",
                                    "3": "7",
                                    "4": "225"
                                },
                                {
                                    "0": "NULL",
                                    "1": "NULL",
                                    "2": "NULL",
                                    "3": "7",
                                    "4": "233"
                                },
                                {
                                    "0": "NULL",
                                    "1": "NULL",
                                    "2": "NULL",
                                    "3": "7",
                                    "4": "1322"
                                },
                                {
                                    "0": "NULL",
                                    "1": "NULL",
                                    "2": "NULL",
                                    "3": "7",
                                    "4": "3552"
                                },
                                {
                                    "0": "NULL",
                                    "1": "NULL",
                                    "2": "NULL",
                                    "3": "7",
                                    "4": "3720"
                                },
                                {
                                    "0": "NULL",
                                    "1": "NULL",
                                    "2": "NULL",
                                    "3": "7",
                                    "4": "4468"
                                },
                                {
                                    "0": "NULL",
                                    "1": "NULL",
                                    "2": "NULL",
                                    "3": "8",
                                    "4": "19"
                                },
                                {
                                    "0": "NULL",
                                    "1": "NULL",
                                    "2": "NULL",
                                    "3": "8",
                                    "4": "498"
                                },
                                {
                                    "0": "NULL",
                                    "1": "NULL",
                                    "2": "NULL",
                                    "3": "8",
                                    "4": "1357"
                                },
                                {
                                    "0": "NULL",
                                    "1": "NULL",
                                    "2": "NULL",
                                    "3": "8",
                                    "4": "2177"
                                },
                                {
                                    "0": "NULL",
                                    "1": "NULL",
                                    "2": "NULL",
                                    "3": "8",
                                    "4": "3930"
                                },
                                {
                                    "0": "The Pilgrimage",
                                    "1": "3.64",
                                    "2": "171",
                                    "3": "8",
                                    "4": "4004"
                                },
                                {
                                    "0": "NULL",
                                    "1": "NULL",
                                    "2": "NULL",
                                    "3": "8",
                                    "4": "8792"
                                },
                                {
                                    "0": "NULL",
                                    "1": "NULL",
                                    "2": "NULL",
                                    "3": "8",
                                    "4": "9304"
                                },
                                {
                                    "0": "Harry Potter Boxed Set, Books 1-5 (Harry Potter, #1-5)",
                                    "1": "4.77",
                                    "2": "11",
                                    "3": "9",
                                    "4": "8"
                                },
                                {
                                    "0": "Children of Dune (Dune Chronicles #3)",
                                    "1": "3.9",
                                    "2": "116",
                                    "3": "9",
                                    "4": "112"
                                },
                                {
                                    "0": "NULL",
                                    "1": "NULL",
                                    "2": "NULL",
                                    "3": "9",
                                    "4": "139"
                                },
                                {
                                    "0": "NULL",
                                    "1": "NULL",
                                    "2": "NULL",
                                    "3": "9",
                                    "4": "230"
                                },
                                {
                                    "0": "NULL",
                                    "1": "NULL",
                                    "2": "NULL",
                                    "3": "9",
                                    "4": "233"
                                },
                                {
                                    "0": "NULL",
                                    "1": "NULL",
                                    "2": "NULL",
                                    "3": "9",
                                    "4": "473"
                                },
                                {
                                    "0": "NULL",
                                    "1": "NULL",
                                    "2": "NULL",
                                    "3": "9",
                                    "4": "638"
                                },
                                {
                                    "0": "NULL",
                                    "1": "NULL",
                                    "2": "NULL",
                                    "3": "9",
                                    "4": "653"
                                },
                                {
                                    "0": "NULL",
                                    "1": "NULL",
                                    "2": "NULL",
                                    "3": "9",
                                    "4": "672"
                                },
                                {
                                    "0": "NULL",
                                    "1": "NULL",
                                    "2": "NULL",
                                    "3": "9",
                                    "4": "701"
                                },
                                {
                                    "0": "NULL",
                                    "1": "NULL",
                                    "2": "NULL",
                                    "3": "9",
                                    "4": "736"
                                },
                                {
                                    "0": "NULL",
                                    "1": "NULL",
                                    "2": "NULL",
                                    "3": "9",
                                    "4": "883"
                                },
                                {
                                    "0": "NULL",
                                    "1": "NULL",
                                    "2": "NULL",
                                    "3": "9",
                                    "4": "895"
                                },
                                {
                                    "0": "NULL",
                                    "1": "NULL",
                                    "2": "NULL",
                                    "3": "9",
                                    "4": "1467"
                                },
                                {
                                    "0": "NULL",
                                    "1": "NULL",
                                    "2": "NULL",
                                    "3": "9",
                                    "4": "1582"
                                },
                                {
                                    "0": "NULL",
                                    "1": "NULL",
                                    "2": "NULL",
                                    "3": "9",
                                    "4": "1873"
                                },
                                {
                                    "0": "NULL",
                                    "1": "NULL",
                                    "2": "NULL",
                                    "3": "9",
                                    "4": "2516"
                                },
                                {
                                    "0": "NULL",
                                    "1": "NULL",
                                    "2": "NULL",
                                    "3": "9",
                                    "4": "2630"
                                },
                                {
                                    "0": "NULL",
                                    "1": "NULL",
                                    "2": "NULL",
                                    "3": "9",
                                    "4": "3210"
                                },
                                {
                                    "0": "Icy Sparks",
                                    "1": "3.68",
                                    "2": "27",
                                    "3": "9",
                                    "4": "3476"
                                },
                                {
                                    "0": "NULL",
                                    "1": "NULL",
                                    "2": "NULL",
                                    "3": "9",
                                    "4": "3560"
                                },
                                {
                                    "0": "NULL",
                                    "1": "NULL",
                                    "2": "NULL",
                                    "3": "9",
                                    "4": "3650"
                                },
                                {
                                    "0": "NULL",
                                    "1": "NULL",
                                    "2": "NULL",
                                    "3": "9",
                                    "4": "5286"
                                },
                                {
                                    "0": "NULL",
                                    "1": "NULL",
                                    "2": "NULL",
                                    "3": "9",
                                    "4": "6636"
                                },
                                {
                                    "0": "Harry Potter and the Goblet of Fire (Harry Potter, #4)",
                                    "1": "4.53",
                                    "2": "332",
                                    "3": "10",
                                    "4": "6"
                                },
                                {
                                    "0": "NULL",
                                    "1": "NULL",
                                    "2": "NULL",
                                    "3": "10",
                                    "4": "385"
                                },
                                {
                                    "0": "Atlas Shrugged",
                                    "1": "3.68",
                                    "2": "147",
                                    "3": "10",
                                    "4": "662"
                                },
                                {
                                    "0": "NULL",
                                    "1": "NULL",
                                    "2": "NULL",
                                    "3": "10",
                                    "4": "896"
                                },
                                {
                                    "0": "NULL",
                                    "1": "NULL",
                                    "2": "NULL",
                                    "3": "10",
                                    "4": "1076"
                                },
                                {
                                    "0": "NULL",
                                    "1": "NULL",
                                    "2": "NULL",
                                    "3": "10",
                                    "4": "1082"
                                },
                                {
                                    "0": "NULL",
                                    "1": "NULL",
                                    "2": "NULL",
                                    "3": "10",
                                    "4": "1220"
                                },
                                {
                                    "0": "NULL",
                                    "1": "NULL",
                                    "2": "NULL",
                                    "3": "10",
                                    "4": "1281"
                                },
                                {
                                    "0": "NULL",
                                    "1": "NULL",
                                    "2": "NULL",
                                    "3": "10",
                                    "4": "1439"
                                },
                                {
                                    "0": "NULL",
                                    "1": "NULL",
                                    "2": "NULL",
                                    "3": "10",
                                    "4": "1851"
                                },
                                {
                                    "0": "NULL",
                                    "1": "NULL",
                                    "2": "NULL",
                                    "3": "10",
                                    "4": "1920"
                                },
                                {
                                    "0": "NULL",
                                    "1": "NULL",
                                    "2": "NULL",
                                    "3": "10",
                                    "4": "2441"
                                },
                                {
                                    "0": "NULL",
                                    "1": "NULL",
                                    "2": "NULL",
                                    "3": "10",
                                    "4": "2570"
                                },
                                {
                                    "0": "NULL",
                                    "1": "NULL",
                                    "2": "NULL",
                                    "3": "10",
                                    "4": "2616"
                                },
                                {
                                    "0": "NULL",
                                    "1": "NULL",
                                    "2": "NULL",
                                    "3": "10",
                                    "4": "3059"
                                },
                                {
                                    "0": "NULL",
                                    "1": "NULL",
                                    "2": "NULL",
                                    "3": "10",
                                    "4": "3545"
                                },
                                {
                                    "0": "NULL",
                                    "1": "NULL",
                                    "2": "NULL",
                                    "3": "10",
                                    "4": "3961"
                                },
                                {
                                    "0": "NULL",
                                    "1": "NULL",
                                    "2": "NULL",
                                    "3": "10",
                                    "4": "4369"
                                },
                                {
                                    "0": "NULL",
                                    "1": "NULL",
                                    "2": "NULL",
                                    "3": "10",
                                    "4": "4510"
                                },
                                {
                                    "0": "NULL",
                                    "1": "NULL",
                                    "2": "NULL",
                                    "3": "10",
                                    "4": "5104"
                                },
                                {
                                    "0": "NULL",
                                    "1": "NULL",
                                    "2": "NULL",
                                    "3": "10",
                                    "4": "5254"
                                },
                                {
                                    "0": "NULL",
                                    "1": "NULL",
                                    "2": "NULL",
                                    "3": "10",
                                    "4": "5556"
                                },
                                {
                                    "0": "NULL",
                                    "1": "NULL",
                                    "2": "NULL",
                                    "3": "10",
                                    "4": "6114"
                                },
                                {
                                    "0": "NULL",
                                    "1": "NULL",
                                    "2": "NULL",
                                    "3": "10",
                                    "4": "6917"
                                },
                                {
                                    "0": "NULL",
                                    "1": "NULL",
                                    "2": "NULL",
                                    "3": "10",
                                    "4": "7545"
                                },
                                {
                                    "0": "NULL",
                                    "1": "NULL",
                                    "2": "NULL",
                                    "3": "10",
                                    "4": "7842"
                                },
                                {
                                    "0": "NULL",
                                    "1": "NULL",
                                    "2": "NULL",
                                    "3": "11",
                                    "4": "3643"
                                },
                                {
                                    "0": "Harry Potter and the Half-Blood Prince (Harry Potter, #6)",
                                    "1": "4.54",
                                    "2": "275",
                                    "3": "12",
                                    "4": "1"
                                },
                                {
                                    "0": "NULL",
                                    "1": "NULL",
                                    "2": "NULL",
                                    "3": "12",
                                    "4": "124"
                                },
                                {
                                    "0": "NULL",
                                    "1": "NULL",
                                    "2": "NULL",
                                    "3": "12",
                                    "4": "1471"
                                },
                                {
                                    "0": "NULL",
                                    "1": "NULL",
                                    "2": "NULL",
                                    "3": "12",
                                    "4": "2893"
                                },
                                {
                                    "0": "NULL",
                                    "1": "NULL",
                                    "2": "NULL",
                                    "3": "13",
                                    "4": "81"
                                },
                                {
                                    "0": "NULL",
                                    "1": "NULL",
                                    "2": "NULL",
                                    "3": "13",
                                    "4": "277"
                                },
                                {
                                    "0": "NULL",
                                    "1": "NULL",
                                    "2": "NULL",
                                    "3": "13",
                                    "4": "318"
                                },
                                {
                                    "0": "NULL",
                                    "1": "NULL",
                                    "2": "NULL",
                                    "3": "13",
                                    "4": "430"
                                },
                                {
                                    "0": "NULL",
                                    "1": "NULL",
                                    "2": "NULL",
                                    "3": "13",
                                    "4": "437"
                                },
                                {
                                    "0": "NULL",
                                    "1": "NULL",
                                    "2": "NULL",
                                    "3": "13",
                                    "4": "551"
                                },
                                {
                                    "0": "NULL",
                                    "1": "NULL",
                                    "2": "NULL",
                                    "3": "13",
                                    "4": "560"
                                },
                                {
                                    "0": "NULL",
                                    "1": "NULL",
                                    "2": "NULL",
                                    "3": "13",
                                    "4": "610"
                                },
                                {
                                    "0": "NULL",
                                    "1": "NULL",
                                    "2": "NULL",
                                    "3": "13",
                                    "4": "678"
                                },
                                {
                                    "0": "NULL",
                                    "1": "NULL",
                                    "2": "NULL",
                                    "3": "13",
                                    "4": "979"
                                },
                                {
                                    "0": "NULL",
                                    "1": "NULL",
                                    "2": "NULL",
                                    "3": "13",
                                    "4": "1082"
                                },
                                {
                                    "0": "NULL",
                                    "1": "NULL",
                                    "2": "NULL",
                                    "3": "13",
                                    "4": "1464"
                                },
                                {
                                    "0": "NULL",
                                    "1": "NULL",
                                    "2": "NULL",
                                    "3": "13",
                                    "4": "1577"
                                },
                                {
                                    "0": "NULL",
                                    "1": "NULL",
                                    "2": "NULL",
                                    "3": "13",
                                    "4": "2018"
                                },
                                {
                                    "0": "NULL",
                                    "1": "NULL",
                                    "2": "NULL",
                                    "3": "13",
                                    "4": "2418"
                                },
                                {
                                    "0": "NULL",
                                    "1": "NULL",
                                    "2": "NULL",
                                    "3": "13",
                                    "4": "3257"
                                },
                                {
                                    "0": "NULL",
                                    "1": "NULL",
                                    "2": "NULL",
                                    "3": "13",
                                    "4": "4212"
                                },
                                {
                                    "0": "NULL",
                                    "1": "NULL",
                                    "2": "NULL",
                                    "3": "13",
                                    "4": "4635"
                                },
                                {
                                    "0": "NULL",
                                    "1": "NULL",
                                    "2": "NULL",
                                    "3": "13",
                                    "4": "4704"
                                },
                                {
                                    "0": "NULL",
                                    "1": "NULL",
                                    "2": "NULL",
                                    "3": "13",
                                    "4": "4734"
                                },
                                {
                                    "0": "NULL",
                                    "1": "NULL",
                                    "2": "NULL",
                                    "3": "13",
                                    "4": "4841"
                                },
                                {
                                    "0": "NULL",
                                    "1": "NULL",
                                    "2": "NULL",
                                    "3": "13",
                                    "4": "4848"
                                },
                                {
                                    "0": "NULL",
                                    "1": "NULL",
                                    "2": "NULL",
                                    "3": "13",
                                    "4": "4856"
                                },
                                {
                                    "0": "NULL",
                                    "1": "NULL",
                                    "2": "NULL",
                                    "3": "13",
                                    "4": "4928"
                                },
                                {
                                    "0": "NULL",
                                    "1": "NULL",
                                    "2": "NULL",
                                    "3": "13",
                                    "4": "6114"
                                },
                                {
                                    "0": "NULL",
                                    "1": "NULL",
                                    "2": "NULL",
                                    "3": "13",
                                    "4": "6793"
                                },
                                {
                                    "0": "NULL",
                                    "1": "NULL",
                                    "2": "NULL",
                                    "3": "13",
                                    "4": "6962"
                                },
                                {
                                    "0": "NULL",
                                    "1": "NULL",
                                    "2": "NULL",
                                    "3": "13",
                                    "4": "8717"
                                },
                                {
                                    "0": "NULL",
                                    "1": "NULL",
                                    "2": "NULL",
                                    "3": "14",
                                    "4": "493"
                                },
                                {
                                    "0": "NULL",
                                    "1": "NULL",
                                    "2": "NULL",
                                    "3": "14",
                                    "4": "1179"
                                },
                                {
                                    "0": "NULL",
                                    "1": "NULL",
                                    "2": "NULL",
                                    "3": "14",
                                    "4": "2693"
                                },
                                {
                                    "0": "Sherlock Holmes: The Complete Novels and Stories, Volume I",
                                    "1": "4.45",
                                    "2": "13",
                                    "3": "14",
                                    "4": "3581"
                                },
                                {
                                    "0": "NULL",
                                    "1": "NULL",
                                    "2": "NULL",
                                    "3": "14",
                                    "4": "3683"
                                },
                                {
                                    "0": "NULL",
                                    "1": "NULL",
                                    "2": "NULL",
                                    "3": "14",
                                    "4": "3953"
                                },
                                {
                                    "0": "NULL",
                                    "1": "NULL",
                                    "2": "NULL",
                                    "3": "14",
                                    "4": "4220"
                                },
                                {
                                    "0": "NULL",
                                    "1": "NULL",
                                    "2": "NULL",
                                    "3": "14",
                                    "4": "5076"
                                },
                                {
                                    "0": "NULL",
                                    "1": "NULL",
                                    "2": "NULL",
                                    "3": "14",
                                    "4": "5537"
                                },
                                {
                                    "0": "NULL",
                                    "1": "NULL",
                                    "2": "NULL",
                                    "3": "14",
                                    "4": "7777"
                                },
                                {
                                    "0": "NULL",
                                    "1": "NULL",
                                    "2": "NULL",
                                    "3": "15",
                                    "4": "191"
                                },
                                {
                                    "0": "The Lover",
                                    "1": "3.76",
                                    "2": "148",
                                    "3": "15",
                                    "4": "275"
                                },
                                {
                                    "0": "NULL",
                                    "1": "NULL",
                                    "2": "NULL",
                                    "3": "15",
                                    "4": "398"
                                },
                                {
                                    "0": "NULL",
                                    "1": "NULL",
                                    "2": "NULL",
                                    "3": "15",
                                    "4": "666"
                                },
                                {
                                    "0": "NULL",
                                    "1": "NULL",
                                    "2": "NULL",
                                    "3": "15",
                                    "4": "1491"
                                },
                                {
                                    "0": "NULL",
                                    "1": "NULL",
                                    "2": "NULL",
                                    "3": "15",
                                    "4": "5210"
                                },
                                {
                                    "0": "NULL",
                                    "1": "NULL",
                                    "2": "NULL",
                                    "3": "17",
                                    "4": "1344"
                                },
                                {
                                    "0": "The Good Soldier",
                                    "1": "3.72",
                                    "2": "362",
                                    "3": "20",
                                    "4": "7628"
                                },
                                {
                                    "0": "NULL",
                                    "1": "NULL",
                                    "2": "NULL",
                                    "3": "22",
                                    "4": "653"
                                },
                                {
                                    "0": "NULL",
                                    "1": "NULL",
                                    "2": "NULL",
                                    "3": "22",
                                    "4": "1403"
                                },
                                {
                                    "0": "NULL",
                                    "1": "NULL",
                                    "2": "NULL",
                                    "3": "22",
                                    "4": "1405"
                                },
                                {
                                    "0": "NULL",
                                    "1": "NULL",
                                    "2": "NULL",
                                    "3": "22",
                                    "4": "1645"
                                },
                                {
                                    "0": "NULL",
                                    "1": "NULL",
                                    "2": "NULL",
                                    "3": "22",
                                    "4": "2500"
                                },
                                {
                                    "0": "NULL",
                                    "1": "NULL",
                                    "2": "NULL",
                                    "3": "22",
                                    "4": "2691"
                                },
                                {
                                    "0": "NULL",
                                    "1": "NULL",
                                    "2": "NULL",
                                    "3": "22",
                                    "4": "4995"
                                },
                                {
                                    "0": "NULL",
                                    "1": "NULL",
                                    "2": "NULL",
                                    "3": "23",
                                    "4": "273"
                                },
                                {
                                    "0": "NULL",
                                    "1": "NULL",
                                    "2": "NULL",
                                    "3": "23",
                                    "4": "459"
                                },
                                {
                                    "0": "NULL",
                                    "1": "NULL",
                                    "2": "NULL",
                                    "3": "23",
                                    "4": "791"
                                },
                                {
                                    "0": "NULL",
                                    "1": "NULL",
                                    "2": "NULL",
                                    "3": "23",
                                    "4": "886"
                                },
                                {
                                    "0": "NULL",
                                    "1": "NULL",
                                    "2": "NULL",
                                    "3": "23",
                                    "4": "925"
                                },
                                {
                                    "0": "NULL",
                                    "1": "NULL",
                                    "2": "NULL",
                                    "3": "23",
                                    "4": "1198"
                                },
                                {
                                    "0": "NULL",
                                    "1": "NULL",
                                    "2": "NULL",
                                    "3": "23",
                                    "4": "1597"
                                },
                                {
                                    "0": "NULL",
                                    "1": "NULL",
                                    "2": "NULL",
                                    "3": "23",
                                    "4": "1688"
                                },
                                {
                                    "0": "NULL",
                                    "1": "NULL",
                                    "2": "NULL",
                                    "3": "23",
                                    "4": "2251"
                                },
                                {
                                    "0": "NULL",
                                    "1": "NULL",
                                    "2": "NULL",
                                    "3": "23",
                                    "4": "2350"
                                },
                                {
                                    "0": "NULL",
                                    "1": "NULL",
                                    "2": "NULL",
                                    "3": "23",
                                    "4": "2613"
                                },
                                {
                                    "0": "NULL",
                                    "1": "NULL",
                                    "2": "NULL",
                                    "3": "23",
                                    "4": "3312"
                                },
                                {
                                    "0": "NULL",
                                    "1": "NULL",
                                    "2": "NULL",
                                    "3": "23",
                                    "4": "3343"
                                },
                                {
                                    "0": "NULL",
                                    "1": "NULL",
                                    "2": "NULL",
                                    "3": "24",
                                    "4": "61"
                                },
                                {
                                    "0": "NULL",
                                    "1": "NULL",
                                    "2": "NULL",
                                    "3": "24",
                                    "4": "143"
                                },
                                {
                                    "0": "NULL",
                                    "1": "NULL",
                                    "2": "NULL",
                                    "3": "24",
                                    "4": "421"
                                },
                                {
                                    "0": "NULL",
                                    "1": "NULL",
                                    "2": "NULL",
                                    "3": "24",
                                    "4": "467"
                                },
                                {
                                    "0": "NULL",
                                    "1": "NULL",
                                    "2": "NULL",
                                    "3": "24",
                                    "4": "974"
                                },
                                {
                                    "0": "NULL",
                                    "1": "NULL",
                                    "2": "NULL",
                                    "3": "26",
                                    "4": "508"
                                },
                                {
                                    "0": "NULL",
                                    "1": "NULL",
                                    "2": "NULL",
                                    "3": "26",
                                    "4": "1796"
                                },
                                {
                                    "0": "NULL",
                                    "1": "NULL",
                                    "2": "NULL",
                                    "3": "26",
                                    "4": "2257"
                                },
                                {
                                    "0": "NULL",
                                    "1": "NULL",
                                    "2": "NULL",
                                    "3": "26",
                                    "4": "2314"
                                },
                                {
                                    "0": "NULL",
                                    "1": "NULL",
                                    "2": "NULL",
                                    "3": "26",
                                    "4": "2357"
                                },
                                {
                                    "0": "NULL",
                                    "1": "NULL",
                                    "2": "NULL",
                                    "3": "26",
                                    "4": "2738"
                                },
                                {
                                    "0": "NULL",
                                    "1": "NULL",
                                    "2": "NULL",
                                    "3": "26",
                                    "4": "2810"
                                },
                                {
                                    "0": "NULL",
                                    "1": "NULL",
                                    "2": "NULL",
                                    "3": "26",
                                    "4": "3207"
                                },
                                {
                                    "0": "The Thorn Birds",
                                    "1": "4.22",
                                    "2": "201",
                                    "3": "26",
                                    "4": "3412"
                                },
                                {
                                    "0": "The Complete Sherlock Holmes, Vol 2",
                                    "1": "4.46",
                                    "2": "117",
                                    "3": "26",
                                    "4": "3586"
                                },
                                {
                                    "0": "The Dark Tower (The Dark Tower, #7)",
                                    "1": "4.27",
                                    "2": "105",
                                    "3": "26",
                                    "4": "5091"
                                },
                                {
                                    "0": "NULL",
                                    "1": "NULL",
                                    "2": "NULL",
                                    "3": "26",
                                    "4": "5550"
                                },
                                {
                                    "0": "NULL",
                                    "1": "NULL",
                                    "2": "NULL",
                                    "3": "26",
                                    "4": "6877"
                                },
                                {
                                    "0": "NULL",
                                    "1": "NULL",
                                    "2": "NULL",
                                    "3": "26",
                                    "4": "7970"
                                },
                                {
                                    "0": "NULL",
                                    "1": "NULL",
                                    "2": "NULL",
                                    "3": "28",
                                    "4": "265"
                                },
                                {
                                    "0": "NULL",
                                    "1": "NULL",
                                    "2": "NULL",
                                    "3": "28",
                                    "4": "587"
                                },
                                {
                                    "0": "NULL",
                                    "1": "NULL",
                                    "2": "NULL",
                                    "3": "28",
                                    "4": "3543"
                                },
                                {
                                    "0": "NULL",
                                    "1": "NULL",
                                    "2": "NULL",
                                    "3": "28",
                                    "4": "5215"
                                },
                                {
                                    "0": "NULL",
                                    "1": "NULL",
                                    "2": "NULL",
                                    "3": "28",
                                    "4": "7496"
                                },
                                {
                                    "0": "NULL",
                                    "1": "NULL",
                                    "2": "NULL",
                                    "3": "28",
                                    "4": "8654"
                                },
                                {
                                    "0": "NULL",
                                    "1": "NULL",
                                    "2": "NULL",
                                    "3": "29",
                                    "4": "31"
                                },
                                {
                                    "0": "NULL",
                                    "1": "NULL",
                                    "2": "NULL",
                                    "3": "29",
                                    "4": "32"
                                },
                                {
                                    "0": "The Lord of the Rings: Weapons and Warfare",
                                    "1": "4.53",
                                    "2": "12",
                                    "3": "29",
                                    "4": "36"
                                },
                                {
                                    "0": "NULL",
                                    "1": "NULL",
                                    "2": "NULL",
                                    "3": "29",
                                    "4": "45"
                                },
                                {
                                    "0": "NULL",
                                    "1": "NULL",
                                    "2": "NULL",
                                    "3": "29",
                                    "4": "65"
                                },
                                {
                                    "0": "NULL",
                                    "1": "NULL",
                                    "2": "NULL",
                                    "3": "29",
                                    "4": "87"
                                },
                                {
                                    "0": "NULL",
                                    "1": "NULL",
                                    "2": "NULL",
                                    "3": "29",
                                    "4": "115"
                                },
                                {
                                    "0": "NULL",
                                    "1": "NULL",
                                    "2": "NULL",
                                    "3": "29",
                                    "4": "121"
                                },
                                {
                                    "0": "NULL",
                                    "1": "NULL",
                                    "2": "NULL",
                                    "3": "29",
                                    "4": "131"
                                },
                                {
                                    "0": "NULL",
                                    "1": "NULL",
                                    "2": "NULL",
                                    "3": "29",
                                    "4": "178"
                                },
                                {
                                    "0": "NULL",
                                    "1": "NULL",
                                    "2": "NULL",
                                    "3": "29",
                                    "4": "256"
                                },
                                {
                                    "0": "NULL",
                                    "1": "NULL",
                                    "2": "NULL",
                                    "3": "29",
                                    "4": "323"
                                },
                                {
                                    "0": "Slouching Towards Bethlehem",
                                    "1": "4.24",
                                    "2": "34",
                                    "3": "29",
                                    "4": "424"
                                },
                                {
                                    "0": "NULL",
                                    "1": "NULL",
                                    "2": "NULL",
                                    "3": "29",
                                    "4": "467"
                                },
                                {
                                    "0": "NULL",
                                    "1": "NULL",
                                    "2": "NULL",
                                    "3": "29",
                                    "4": "550"
                                },
                                {
                                    "0": "NULL",
                                    "1": "NULL",
                                    "2": "NULL",
                                    "3": "29",
                                    "4": "618"
                                },
                                {
                                    "0": "Atlas Shrugged",
                                    "1": "3.68",
                                    "2": "147",
                                    "3": "29",
                                    "4": "662"
                                },
                                {
                                    "0": "NULL",
                                    "1": "NULL",
                                    "2": "NULL",
                                    "3": "29",
                                    "4": "709"
                                },
                                {
                                    "0": "NULL",
                                    "1": "NULL",
                                    "2": "NULL",
                                    "3": "29",
                                    "4": "730"
                                },
                                {
                                    "0": "NULL",
                                    "1": "NULL",
                                    "2": "NULL",
                                    "3": "29",
                                    "4": "771"
                                },
                                {
                                    "0": "NULL",
                                    "1": "NULL",
                                    "2": "NULL",
                                    "3": "29",
                                    "4": "809"
                                },
                                {
                                    "0": "NULL",
                                    "1": "NULL",
                                    "2": "NULL",
                                    "3": "29",
                                    "4": "934"
                                },
                                {
                                    "0": "NULL",
                                    "1": "NULL",
                                    "2": "NULL",
                                    "3": "29",
                                    "4": "1084"
                                },
                                {
                                    "0": "NULL",
                                    "1": "NULL",
                                    "2": "NULL",
                                    "3": "29",
                                    "4": "1364"
                                },
                                {
                                    "0": "NULL",
                                    "1": "NULL",
                                    "2": "NULL",
                                    "3": "29",
                                    "4": "1642"
                                },
                                {
                                    "0": "NULL",
                                    "1": "NULL",
                                    "2": "NULL",
                                    "3": "29",
                                    "4": "1695"
                                },
                                {
                                    "0": "NULL",
                                    "1": "NULL",
                                    "2": "NULL",
                                    "3": "29",
                                    "4": "2259"
                                },
                                {
                                    "0": "NULL",
                                    "1": "NULL",
                                    "2": "NULL",
                                    "3": "29",
                                    "4": "2284"
                                },
                                {
                                    "0": "NULL",
                                    "1": "NULL",
                                    "2": "NULL",
                                    "3": "29",
                                    "4": "2304"
                                },
                                {
                                    "0": "NULL",
                                    "1": "NULL",
                                    "2": "NULL",
                                    "3": "29",
                                    "4": "2967"
                                },
                                {
                                    "0": "NULL",
                                    "1": "NULL",
                                    "2": "NULL",
                                    "3": "29",
                                    "4": "3508"
                                },
                                {
                                    "0": "NULL",
                                    "1": "NULL",
                                    "2": "NULL",
                                    "3": "29",
                                    "4": "4359"
                                },
                                {
                                    "0": "NULL",
                                    "1": "NULL",
                                    "2": "NULL",
                                    "3": "29",
                                    "4": "4394"
                                },
                                {
                                    "0": "NULL",
                                    "1": "NULL",
                                    "2": "NULL",
                                    "3": "29",
                                    "4": "4475"
                                },
                                {
                                    "0": "NULL",
                                    "1": "NULL",
                                    "2": "NULL",
                                    "3": "29",
                                    "4": "4629"
                                },
                                {
                                    "0": "NULL",
                                    "1": "NULL",
                                    "2": "NULL",
                                    "3": "29",
                                    "4": "5090"
                                },
                                {
                                    "0": "NULL",
                                    "1": "NULL",
                                    "2": "NULL",
                                    "3": "29",
                                    "4": "5596"
                                },
                                {
                                    "0": "NULL",
                                    "1": "NULL",
                                    "2": "NULL",
                                    "3": "29",
                                    "4": "5851"
                                },
                                {
                                    "0": "NULL",
                                    "1": "NULL",
                                    "2": "NULL",
                                    "3": "29",
                                    "4": "6104"
                                },
                                {
                                    "0": "NULL",
                                    "1": "NULL",
                                    "2": "NULL",
                                    "3": "30",
                                    "4": "47"
                                },
                                {
                                    "0": "The Known World",
                                    "1": "3.82",
                                    "2": "42",
                                    "3": "30",
                                    "4": "67"
                                },
                                {
                                    "0": "NULL",
                                    "1": "NULL",
                                    "2": "NULL",
                                    "3": "30",
                                    "4": "82"
                                },
                                {
                                    "0": "NULL",
                                    "1": "NULL",
                                    "2": "NULL",
                                    "3": "30",
                                    "4": "121"
                                },
                                {
                                    "0": "NULL",
                                    "1": "NULL",
                                    "2": "NULL",
                                    "3": "30",
                                    "4": "177"
                                },
                                {
                                    "0": "Tropic of Cancer",
                                    "1": "3.71",
                                    "2": "205",
                                    "3": "30",
                                    "4": "249"
                                },
                                {
                                    "0": "NULL",
                                    "1": "NULL",
                                    "2": "NULL",
                                    "3": "30",
                                    "4": "297"
                                },
                                {
                                    "0": "NULL",
                                    "1": "NULL",
                                    "2": "NULL",
                                    "3": "30",
                                    "4": "407"
                                },
                                {
                                    "0": "NULL",
                                    "1": "NULL",
                                    "2": "NULL",
                                    "3": "30",
                                    "4": "426"
                                },
                                {
                                    "0": "NULL",
                                    "1": "NULL",
                                    "2": "NULL",
                                    "3": "30",
                                    "4": "430"
                                },
                                {
                                    "0": "NULL",
                                    "1": "NULL",
                                    "2": "NULL",
                                    "3": "30",
                                    "4": "442"
                                },
                                {
                                    "0": "NULL",
                                    "1": "NULL",
                                    "2": "NULL",
                                    "3": "30",
                                    "4": "516"
                                },
                                {
                                    "0": "NULL",
                                    "1": "NULL",
                                    "2": "NULL",
                                    "3": "30",
                                    "4": "658"
                                },
                                {
                                    "0": "NULL",
                                    "1": "NULL",
                                    "2": "NULL",
                                    "3": "30",
                                    "4": "895"
                                },
                                {
                                    "0": "NULL",
                                    "1": "NULL",
                                    "2": "NULL",
                                    "3": "30",
                                    "4": "1039"
                                },
                                {
                                    "0": "NULL",
                                    "1": "NULL",
                                    "2": "NULL",
                                    "3": "30",
                                    "4": "1094"
                                },
                                {
                                    "0": "The Odyssey",
                                    "1": "3.73",
                                    "2": "1703",
                                    "3": "30",
                                    "4": "1381"
                                },
                                {
                                    "0": "NULL",
                                    "1": "NULL",
                                    "2": "NULL",
                                    "3": "30",
                                    "4": "2117"
                                },
                                {
                                    "0": "NULL",
                                    "1": "NULL",
                                    "2": "NULL",
                                    "3": "30",
                                    "4": "2426"
                                },
                                {
                                    "0": "NULL",
                                    "1": "NULL",
                                    "2": "NULL",
                                    "3": "30",
                                    "4": "3444"
                                },
                                {
                                    "0": "The Pilgrimage",
                                    "1": "3.64",
                                    "2": "171",
                                    "3": "30",
                                    "4": "4004"
                                },
                                {
                                    "0": "NULL",
                                    "1": "NULL",
                                    "2": "NULL",
                                    "3": "30",
                                    "4": "4202"
                                },
                                {
                                    "0": "NULL",
                                    "1": "NULL",
                                    "2": "NULL",
                                    "3": "30",
                                    "4": "4509"
                                },
                                {
                                    "0": "NULL",
                                    "1": "NULL",
                                    "2": "NULL",
                                    "3": "30",
                                    "4": "5880"
                                },
                                {
                                    "0": "The Hobbit",
                                    "1": "4.25",
                                    "2": "969",
                                    "3": "30",
                                    "4": "5907"
                                },
                                {
                                    "0": "NULL",
                                    "1": "NULL",
                                    "2": "NULL",
                                    "3": "30",
                                    "4": "6828"
                                },
                                {
                                    "0": "NULL",
                                    "1": "NULL",
                                    "2": "NULL",
                                    "3": "30",
                                    "4": "7563"
                                },
                                {
                                    "0": "NULL",
                                    "1": "NULL",
                                    "2": "NULL",
                                    "3": "30",
                                    "4": "8737"
                                },
                                {
                                    "0": "NULL",
                                    "1": "NULL",
                                    "2": "NULL",
                                    "3": "31",
                                    "4": "94"
                                },
                                {
                                    "0": "NULL",
                                    "1": "NULL",
                                    "2": "NULL",
                                    "3": "31",
                                    "4": "584"
                                }
                            ]
                        },
                        "text/html": [
                            "<table>",
                            "<tr><th>title</th><th>average_rating</th><th>books_count</th><th>user_id</th><th>book_id</th></tr>",
                            "<tr><td>Children of Dune (Dune Chronicles #3)</td><td>3.9</td><td>116</td><td>1</td><td>112</td></tr>",
                            "<tr><td>NULL</td><td>NULL</td><td>NULL</td><td>1</td><td>235</td></tr>",
                            "<tr><td>NULL</td><td>NULL</td><td>NULL</td><td>1</td><td>533</td></tr>",
                            "<tr><td>NULL</td><td>NULL</td><td>NULL</td><td>1</td><td>1198</td></tr>",
                            "<tr><td>NULL</td><td>NULL</td><td>NULL</td><td>1</td><td>1874</td></tr>",
                            "<tr><td>NULL</td><td>NULL</td><td>NULL</td><td>1</td><td>2058</td></tr>",
                            "<tr><td>NULL</td><td>NULL</td><td>NULL</td><td>1</td><td>3334</td></tr>",
                            "<tr><td>NULL</td><td>NULL</td><td>NULL</td><td>2</td><td>4</td></tr>",
                            "<tr><td>NULL</td><td>NULL</td><td>NULL</td><td>2</td><td>11</td></tr>",
                            "<tr><td>The Ultimate Hitchhiker's Guide to the Galaxy</td><td>4.37</td><td>32</td><td>2</td><td>13</td></tr>",
                            "<tr><td>NULL</td><td>NULL</td><td>NULL</td><td>2</td><td>16</td></tr>",
                            "<tr><td>NULL</td><td>NULL</td><td>NULL</td><td>2</td><td>92</td></tr>",
                            "<tr><td>Dune Messiah (Dune Chronicles #2)</td><td>3.86</td><td>140</td><td>2</td><td>106</td></tr>",
                            "<tr><td>NULL</td><td>NULL</td><td>NULL</td><td>2</td><td>113</td></tr>",
                            "<tr><td>NULL</td><td>NULL</td><td>NULL</td><td>2</td><td>233</td></tr>",
                            "<tr><td>NULL</td><td>NULL</td><td>NULL</td><td>2</td><td>247</td></tr>",
                            "<tr><td>NULL</td><td>NULL</td><td>NULL</td><td>2</td><td>380</td></tr>",
                            "<tr><td>NULL</td><td>NULL</td><td>NULL</td><td>2</td><td>408</td></tr>",
                            "<tr><td>NULL</td><td>NULL</td><td>NULL</td><td>2</td><td>439</td></tr>",
                            "<tr><td>NULL</td><td>NULL</td><td>NULL</td><td>2</td><td>479</td></tr>",
                            "<tr><td>NULL</td><td>NULL</td><td>NULL</td><td>2</td><td>516</td></tr>",
                            "<tr><td>NULL</td><td>NULL</td><td>NULL</td><td>2</td><td>619</td></tr>",
                            "<tr><td>NULL</td><td>NULL</td><td>NULL</td><td>2</td><td>1069</td></tr>",
                            "<tr><td>The Iliad</td><td>3.83</td><td>1726</td><td>2</td><td>1371</td></tr>",
                            "<tr><td>NULL</td><td>NULL</td><td>NULL</td><td>2</td><td>1384</td></tr>",
                            "<tr><td>NULL</td><td>NULL</td><td>NULL</td><td>2</td><td>1597</td></tr>",
                            "<tr><td>NULL</td><td>NULL</td><td>NULL</td><td>2</td><td>1926</td></tr>",
                            "<tr><td>NULL</td><td>NULL</td><td>NULL</td><td>2</td><td>1967</td></tr>",
                            "<tr><td>NULL</td><td>NULL</td><td>NULL</td><td>2</td><td>1969</td></tr>",
                            "<tr><td>NULL</td><td>NULL</td><td>NULL</td><td>2</td><td>2220</td></tr>",
                            "<tr><td>NULL</td><td>NULL</td><td>NULL</td><td>2</td><td>2388</td></tr>",
                            "<tr><td>NULL</td><td>NULL</td><td>NULL</td><td>2</td><td>3222</td></tr>",
                            "<tr><td>NULL</td><td>NULL</td><td>NULL</td><td>2</td><td>3227</td></tr>",
                            "<tr><td>NULL</td><td>NULL</td><td>NULL</td><td>2</td><td>3733</td></tr>",
                            "<tr><td>NULL</td><td>NULL</td><td>NULL</td><td>2</td><td>5418</td></tr>",
                            "<tr><td>NULL</td><td>NULL</td><td>NULL</td><td>2</td><td>6937</td></tr>",
                            "<tr><td>NULL</td><td>NULL</td><td>NULL</td><td>2</td><td>7146</td></tr>",
                            "<tr><td>NULL</td><td>NULL</td><td>NULL</td><td>2</td><td>7873</td></tr>",
                            "<tr><td>NULL</td><td>NULL</td><td>NULL</td><td>2</td><td>8417</td></tr>",
                            "<tr><td>Harry Potter Collection (Harry Potter, #1-6)</td><td>4.73</td><td>6</td><td>3</td><td>10</td></tr>",
                            "<tr><td>NULL</td><td>NULL</td><td>NULL</td><td>3</td><td>66</td></tr>",
                            "<tr><td>NULL</td><td>NULL</td><td>NULL</td><td>3</td><td>233</td></tr>",
                            "<tr><td>NULL</td><td>NULL</td><td>NULL</td><td>3</td><td>726</td></tr>",
                            "<tr><td>NULL</td><td>NULL</td><td>NULL</td><td>3</td><td>932</td></tr>",
                            "<tr><td>NULL</td><td>NULL</td><td>NULL</td><td>3</td><td>1146</td></tr>",
                            "<tr><td>NULL</td><td>NULL</td><td>NULL</td><td>3</td><td>2439</td></tr>",
                            "<tr><td>NULL</td><td>NULL</td><td>NULL</td><td>3</td><td>3566</td></tr>",
                            "<tr><td>NULL</td><td>NULL</td><td>NULL</td><td>3</td><td>4582</td></tr>",
                            "<tr><td>NULL</td><td>NULL</td><td>NULL</td><td>3</td><td>5448</td></tr>",
                            "<tr><td>NULL</td><td>NULL</td><td>NULL</td><td>3</td><td>5765</td></tr>",
                            "<tr><td>NULL</td><td>NULL</td><td>NULL</td><td>3</td><td>6274</td></tr>",
                            "<tr><td>NULL</td><td>NULL</td><td>NULL</td><td>3</td><td>8403</td></tr>",
                            "<tr><td>NULL</td><td>NULL</td><td>NULL</td><td>5</td><td>31</td></tr>",
                            "<tr><td>The Virtue of Selfishness: A New Concept of Egoism</td><td>3.47</td><td>53</td><td>5</td><td>665</td></tr>",
                            "<tr><td>NULL</td><td>NULL</td><td>NULL</td><td>5</td><td>3074</td></tr>",
                            "<tr><td>Sherlock Holmes: The Complete Novels and Stories, Volume I</td><td>4.45</td><td>13</td><td>5</td><td>3581</td></tr>",
                            "<tr><td>NULL</td><td>NULL</td><td>NULL</td><td>6</td><td>64</td></tr>",
                            "<tr><td>NULL</td><td>NULL</td><td>NULL</td><td>6</td><td>459</td></tr>",
                            "<tr><td>NULL</td><td>NULL</td><td>NULL</td><td>6</td><td>619</td></tr>",
                            "<tr><td>NULL</td><td>NULL</td><td>NULL</td><td>6</td><td>649</td></tr>",
                            "<tr><td>NULL</td><td>NULL</td><td>NULL</td><td>6</td><td>687</td></tr>",
                            "<tr><td>NULL</td><td>NULL</td><td>NULL</td><td>6</td><td>874</td></tr>",
                            "<tr><td>The War of Art: Break Through the Blocks &amp; Win Your Inner Creative Battles</td><td>4.07</td><td>29</td><td>6</td><td>1319</td></tr>",
                            "<tr><td>NULL</td><td>NULL</td><td>NULL</td><td>6</td><td>1912</td></tr>",
                            "<tr><td>NULL</td><td>NULL</td><td>NULL</td><td>6</td><td>5269</td></tr>",
                            "<tr><td>NULL</td><td>NULL</td><td>NULL</td><td>6</td><td>5537</td></tr>",
                            "<tr><td>NULL</td><td>NULL</td><td>NULL</td><td>6</td><td>5820</td></tr>",
                            "<tr><td>NULL</td><td>NULL</td><td>NULL</td><td>6</td><td>6220</td></tr>",
                            "<tr><td>NULL</td><td>NULL</td><td>NULL</td><td>6</td><td>7480</td></tr>",
                            "<tr><td>Harry Potter Collection (Harry Potter, #1-6)</td><td>4.73</td><td>6</td><td>7</td><td>10</td></tr>",
                            "<tr><td>NULL</td><td>NULL</td><td>NULL</td><td>7</td><td>215</td></tr>",
                            "<tr><td>NULL</td><td>NULL</td><td>NULL</td><td>7</td><td>225</td></tr>",
                            "<tr><td>NULL</td><td>NULL</td><td>NULL</td><td>7</td><td>233</td></tr>",
                            "<tr><td>NULL</td><td>NULL</td><td>NULL</td><td>7</td><td>1322</td></tr>",
                            "<tr><td>NULL</td><td>NULL</td><td>NULL</td><td>7</td><td>3552</td></tr>",
                            "<tr><td>NULL</td><td>NULL</td><td>NULL</td><td>7</td><td>3720</td></tr>",
                            "<tr><td>NULL</td><td>NULL</td><td>NULL</td><td>7</td><td>4468</td></tr>",
                            "<tr><td>NULL</td><td>NULL</td><td>NULL</td><td>8</td><td>19</td></tr>",
                            "<tr><td>NULL</td><td>NULL</td><td>NULL</td><td>8</td><td>498</td></tr>",
                            "<tr><td>NULL</td><td>NULL</td><td>NULL</td><td>8</td><td>1357</td></tr>",
                            "<tr><td>NULL</td><td>NULL</td><td>NULL</td><td>8</td><td>2177</td></tr>",
                            "<tr><td>NULL</td><td>NULL</td><td>NULL</td><td>8</td><td>3930</td></tr>",
                            "<tr><td>The Pilgrimage</td><td>3.64</td><td>171</td><td>8</td><td>4004</td></tr>",
                            "<tr><td>NULL</td><td>NULL</td><td>NULL</td><td>8</td><td>8792</td></tr>",
                            "<tr><td>NULL</td><td>NULL</td><td>NULL</td><td>8</td><td>9304</td></tr>",
                            "<tr><td>Harry Potter Boxed Set, Books 1-5 (Harry Potter, #1-5)</td><td>4.77</td><td>11</td><td>9</td><td>8</td></tr>",
                            "<tr><td>Children of Dune (Dune Chronicles #3)</td><td>3.9</td><td>116</td><td>9</td><td>112</td></tr>",
                            "<tr><td>NULL</td><td>NULL</td><td>NULL</td><td>9</td><td>139</td></tr>",
                            "<tr><td>NULL</td><td>NULL</td><td>NULL</td><td>9</td><td>230</td></tr>",
                            "<tr><td>NULL</td><td>NULL</td><td>NULL</td><td>9</td><td>233</td></tr>",
                            "<tr><td>NULL</td><td>NULL</td><td>NULL</td><td>9</td><td>473</td></tr>",
                            "<tr><td>NULL</td><td>NULL</td><td>NULL</td><td>9</td><td>638</td></tr>",
                            "<tr><td>NULL</td><td>NULL</td><td>NULL</td><td>9</td><td>653</td></tr>",
                            "<tr><td>NULL</td><td>NULL</td><td>NULL</td><td>9</td><td>672</td></tr>",
                            "<tr><td>NULL</td><td>NULL</td><td>NULL</td><td>9</td><td>701</td></tr>",
                            "<tr><td>NULL</td><td>NULL</td><td>NULL</td><td>9</td><td>736</td></tr>",
                            "<tr><td>NULL</td><td>NULL</td><td>NULL</td><td>9</td><td>883</td></tr>",
                            "<tr><td>NULL</td><td>NULL</td><td>NULL</td><td>9</td><td>895</td></tr>",
                            "<tr><td>NULL</td><td>NULL</td><td>NULL</td><td>9</td><td>1467</td></tr>",
                            "<tr><td>NULL</td><td>NULL</td><td>NULL</td><td>9</td><td>1582</td></tr>",
                            "<tr><td>NULL</td><td>NULL</td><td>NULL</td><td>9</td><td>1873</td></tr>",
                            "<tr><td>NULL</td><td>NULL</td><td>NULL</td><td>9</td><td>2516</td></tr>",
                            "<tr><td>NULL</td><td>NULL</td><td>NULL</td><td>9</td><td>2630</td></tr>",
                            "<tr><td>NULL</td><td>NULL</td><td>NULL</td><td>9</td><td>3210</td></tr>",
                            "<tr><td>Icy Sparks</td><td>3.68</td><td>27</td><td>9</td><td>3476</td></tr>",
                            "<tr><td>NULL</td><td>NULL</td><td>NULL</td><td>9</td><td>3560</td></tr>",
                            "<tr><td>NULL</td><td>NULL</td><td>NULL</td><td>9</td><td>3650</td></tr>",
                            "<tr><td>NULL</td><td>NULL</td><td>NULL</td><td>9</td><td>5286</td></tr>",
                            "<tr><td>NULL</td><td>NULL</td><td>NULL</td><td>9</td><td>6636</td></tr>",
                            "<tr><td>Harry Potter and the Goblet of Fire (Harry Potter, #4)</td><td>4.53</td><td>332</td><td>10</td><td>6</td></tr>",
                            "<tr><td>NULL</td><td>NULL</td><td>NULL</td><td>10</td><td>385</td></tr>",
                            "<tr><td>Atlas Shrugged</td><td>3.68</td><td>147</td><td>10</td><td>662</td></tr>",
                            "<tr><td>NULL</td><td>NULL</td><td>NULL</td><td>10</td><td>896</td></tr>",
                            "<tr><td>NULL</td><td>NULL</td><td>NULL</td><td>10</td><td>1076</td></tr>",
                            "<tr><td>NULL</td><td>NULL</td><td>NULL</td><td>10</td><td>1082</td></tr>",
                            "<tr><td>NULL</td><td>NULL</td><td>NULL</td><td>10</td><td>1220</td></tr>",
                            "<tr><td>NULL</td><td>NULL</td><td>NULL</td><td>10</td><td>1281</td></tr>",
                            "<tr><td>NULL</td><td>NULL</td><td>NULL</td><td>10</td><td>1439</td></tr>",
                            "<tr><td>NULL</td><td>NULL</td><td>NULL</td><td>10</td><td>1851</td></tr>",
                            "<tr><td>NULL</td><td>NULL</td><td>NULL</td><td>10</td><td>1920</td></tr>",
                            "<tr><td>NULL</td><td>NULL</td><td>NULL</td><td>10</td><td>2441</td></tr>",
                            "<tr><td>NULL</td><td>NULL</td><td>NULL</td><td>10</td><td>2570</td></tr>",
                            "<tr><td>NULL</td><td>NULL</td><td>NULL</td><td>10</td><td>2616</td></tr>",
                            "<tr><td>NULL</td><td>NULL</td><td>NULL</td><td>10</td><td>3059</td></tr>",
                            "<tr><td>NULL</td><td>NULL</td><td>NULL</td><td>10</td><td>3545</td></tr>",
                            "<tr><td>NULL</td><td>NULL</td><td>NULL</td><td>10</td><td>3961</td></tr>",
                            "<tr><td>NULL</td><td>NULL</td><td>NULL</td><td>10</td><td>4369</td></tr>",
                            "<tr><td>NULL</td><td>NULL</td><td>NULL</td><td>10</td><td>4510</td></tr>",
                            "<tr><td>NULL</td><td>NULL</td><td>NULL</td><td>10</td><td>5104</td></tr>",
                            "<tr><td>NULL</td><td>NULL</td><td>NULL</td><td>10</td><td>5254</td></tr>",
                            "<tr><td>NULL</td><td>NULL</td><td>NULL</td><td>10</td><td>5556</td></tr>",
                            "<tr><td>NULL</td><td>NULL</td><td>NULL</td><td>10</td><td>6114</td></tr>",
                            "<tr><td>NULL</td><td>NULL</td><td>NULL</td><td>10</td><td>6917</td></tr>",
                            "<tr><td>NULL</td><td>NULL</td><td>NULL</td><td>10</td><td>7545</td></tr>",
                            "<tr><td>NULL</td><td>NULL</td><td>NULL</td><td>10</td><td>7842</td></tr>",
                            "<tr><td>NULL</td><td>NULL</td><td>NULL</td><td>11</td><td>3643</td></tr>",
                            "<tr><td>Harry Potter and the Half-Blood Prince (Harry Potter, #6)</td><td>4.54</td><td>275</td><td>12</td><td>1</td></tr>",
                            "<tr><td>NULL</td><td>NULL</td><td>NULL</td><td>12</td><td>124</td></tr>",
                            "<tr><td>NULL</td><td>NULL</td><td>NULL</td><td>12</td><td>1471</td></tr>",
                            "<tr><td>NULL</td><td>NULL</td><td>NULL</td><td>12</td><td>2893</td></tr>",
                            "<tr><td>NULL</td><td>NULL</td><td>NULL</td><td>13</td><td>81</td></tr>",
                            "<tr><td>NULL</td><td>NULL</td><td>NULL</td><td>13</td><td>277</td></tr>",
                            "<tr><td>NULL</td><td>NULL</td><td>NULL</td><td>13</td><td>318</td></tr>",
                            "<tr><td>NULL</td><td>NULL</td><td>NULL</td><td>13</td><td>430</td></tr>",
                            "<tr><td>NULL</td><td>NULL</td><td>NULL</td><td>13</td><td>437</td></tr>",
                            "<tr><td>NULL</td><td>NULL</td><td>NULL</td><td>13</td><td>551</td></tr>",
                            "<tr><td>NULL</td><td>NULL</td><td>NULL</td><td>13</td><td>560</td></tr>",
                            "<tr><td>NULL</td><td>NULL</td><td>NULL</td><td>13</td><td>610</td></tr>",
                            "<tr><td>NULL</td><td>NULL</td><td>NULL</td><td>13</td><td>678</td></tr>",
                            "<tr><td>NULL</td><td>NULL</td><td>NULL</td><td>13</td><td>979</td></tr>",
                            "<tr><td>NULL</td><td>NULL</td><td>NULL</td><td>13</td><td>1082</td></tr>",
                            "<tr><td>NULL</td><td>NULL</td><td>NULL</td><td>13</td><td>1464</td></tr>",
                            "<tr><td>NULL</td><td>NULL</td><td>NULL</td><td>13</td><td>1577</td></tr>",
                            "<tr><td>NULL</td><td>NULL</td><td>NULL</td><td>13</td><td>2018</td></tr>",
                            "<tr><td>NULL</td><td>NULL</td><td>NULL</td><td>13</td><td>2418</td></tr>",
                            "<tr><td>NULL</td><td>NULL</td><td>NULL</td><td>13</td><td>3257</td></tr>",
                            "<tr><td>NULL</td><td>NULL</td><td>NULL</td><td>13</td><td>4212</td></tr>",
                            "<tr><td>NULL</td><td>NULL</td><td>NULL</td><td>13</td><td>4635</td></tr>",
                            "<tr><td>NULL</td><td>NULL</td><td>NULL</td><td>13</td><td>4704</td></tr>",
                            "<tr><td>NULL</td><td>NULL</td><td>NULL</td><td>13</td><td>4734</td></tr>",
                            "<tr><td>NULL</td><td>NULL</td><td>NULL</td><td>13</td><td>4841</td></tr>",
                            "<tr><td>NULL</td><td>NULL</td><td>NULL</td><td>13</td><td>4848</td></tr>",
                            "<tr><td>NULL</td><td>NULL</td><td>NULL</td><td>13</td><td>4856</td></tr>",
                            "<tr><td>NULL</td><td>NULL</td><td>NULL</td><td>13</td><td>4928</td></tr>",
                            "<tr><td>NULL</td><td>NULL</td><td>NULL</td><td>13</td><td>6114</td></tr>",
                            "<tr><td>NULL</td><td>NULL</td><td>NULL</td><td>13</td><td>6793</td></tr>",
                            "<tr><td>NULL</td><td>NULL</td><td>NULL</td><td>13</td><td>6962</td></tr>",
                            "<tr><td>NULL</td><td>NULL</td><td>NULL</td><td>13</td><td>8717</td></tr>",
                            "<tr><td>NULL</td><td>NULL</td><td>NULL</td><td>14</td><td>493</td></tr>",
                            "<tr><td>NULL</td><td>NULL</td><td>NULL</td><td>14</td><td>1179</td></tr>",
                            "<tr><td>NULL</td><td>NULL</td><td>NULL</td><td>14</td><td>2693</td></tr>",
                            "<tr><td>Sherlock Holmes: The Complete Novels and Stories, Volume I</td><td>4.45</td><td>13</td><td>14</td><td>3581</td></tr>",
                            "<tr><td>NULL</td><td>NULL</td><td>NULL</td><td>14</td><td>3683</td></tr>",
                            "<tr><td>NULL</td><td>NULL</td><td>NULL</td><td>14</td><td>3953</td></tr>",
                            "<tr><td>NULL</td><td>NULL</td><td>NULL</td><td>14</td><td>4220</td></tr>",
                            "<tr><td>NULL</td><td>NULL</td><td>NULL</td><td>14</td><td>5076</td></tr>",
                            "<tr><td>NULL</td><td>NULL</td><td>NULL</td><td>14</td><td>5537</td></tr>",
                            "<tr><td>NULL</td><td>NULL</td><td>NULL</td><td>14</td><td>7777</td></tr>",
                            "<tr><td>NULL</td><td>NULL</td><td>NULL</td><td>15</td><td>191</td></tr>",
                            "<tr><td>The Lover</td><td>3.76</td><td>148</td><td>15</td><td>275</td></tr>",
                            "<tr><td>NULL</td><td>NULL</td><td>NULL</td><td>15</td><td>398</td></tr>",
                            "<tr><td>NULL</td><td>NULL</td><td>NULL</td><td>15</td><td>666</td></tr>",
                            "<tr><td>NULL</td><td>NULL</td><td>NULL</td><td>15</td><td>1491</td></tr>",
                            "<tr><td>NULL</td><td>NULL</td><td>NULL</td><td>15</td><td>5210</td></tr>",
                            "<tr><td>NULL</td><td>NULL</td><td>NULL</td><td>17</td><td>1344</td></tr>",
                            "<tr><td>The Good Soldier</td><td>3.72</td><td>362</td><td>20</td><td>7628</td></tr>",
                            "<tr><td>NULL</td><td>NULL</td><td>NULL</td><td>22</td><td>653</td></tr>",
                            "<tr><td>NULL</td><td>NULL</td><td>NULL</td><td>22</td><td>1403</td></tr>",
                            "<tr><td>NULL</td><td>NULL</td><td>NULL</td><td>22</td><td>1405</td></tr>",
                            "<tr><td>NULL</td><td>NULL</td><td>NULL</td><td>22</td><td>1645</td></tr>",
                            "<tr><td>NULL</td><td>NULL</td><td>NULL</td><td>22</td><td>2500</td></tr>",
                            "<tr><td>NULL</td><td>NULL</td><td>NULL</td><td>22</td><td>2691</td></tr>",
                            "<tr><td>NULL</td><td>NULL</td><td>NULL</td><td>22</td><td>4995</td></tr>",
                            "<tr><td>NULL</td><td>NULL</td><td>NULL</td><td>23</td><td>273</td></tr>",
                            "<tr><td>NULL</td><td>NULL</td><td>NULL</td><td>23</td><td>459</td></tr>",
                            "<tr><td>NULL</td><td>NULL</td><td>NULL</td><td>23</td><td>791</td></tr>",
                            "<tr><td>NULL</td><td>NULL</td><td>NULL</td><td>23</td><td>886</td></tr>",
                            "<tr><td>NULL</td><td>NULL</td><td>NULL</td><td>23</td><td>925</td></tr>",
                            "<tr><td>NULL</td><td>NULL</td><td>NULL</td><td>23</td><td>1198</td></tr>",
                            "<tr><td>NULL</td><td>NULL</td><td>NULL</td><td>23</td><td>1597</td></tr>",
                            "<tr><td>NULL</td><td>NULL</td><td>NULL</td><td>23</td><td>1688</td></tr>",
                            "<tr><td>NULL</td><td>NULL</td><td>NULL</td><td>23</td><td>2251</td></tr>",
                            "<tr><td>NULL</td><td>NULL</td><td>NULL</td><td>23</td><td>2350</td></tr>",
                            "<tr><td>NULL</td><td>NULL</td><td>NULL</td><td>23</td><td>2613</td></tr>",
                            "<tr><td>NULL</td><td>NULL</td><td>NULL</td><td>23</td><td>3312</td></tr>",
                            "<tr><td>NULL</td><td>NULL</td><td>NULL</td><td>23</td><td>3343</td></tr>",
                            "<tr><td>NULL</td><td>NULL</td><td>NULL</td><td>24</td><td>61</td></tr>",
                            "<tr><td>NULL</td><td>NULL</td><td>NULL</td><td>24</td><td>143</td></tr>",
                            "<tr><td>NULL</td><td>NULL</td><td>NULL</td><td>24</td><td>421</td></tr>",
                            "<tr><td>NULL</td><td>NULL</td><td>NULL</td><td>24</td><td>467</td></tr>",
                            "<tr><td>NULL</td><td>NULL</td><td>NULL</td><td>24</td><td>974</td></tr>",
                            "<tr><td>NULL</td><td>NULL</td><td>NULL</td><td>26</td><td>508</td></tr>",
                            "<tr><td>NULL</td><td>NULL</td><td>NULL</td><td>26</td><td>1796</td></tr>",
                            "<tr><td>NULL</td><td>NULL</td><td>NULL</td><td>26</td><td>2257</td></tr>",
                            "<tr><td>NULL</td><td>NULL</td><td>NULL</td><td>26</td><td>2314</td></tr>",
                            "<tr><td>NULL</td><td>NULL</td><td>NULL</td><td>26</td><td>2357</td></tr>",
                            "<tr><td>NULL</td><td>NULL</td><td>NULL</td><td>26</td><td>2738</td></tr>",
                            "<tr><td>NULL</td><td>NULL</td><td>NULL</td><td>26</td><td>2810</td></tr>",
                            "<tr><td>NULL</td><td>NULL</td><td>NULL</td><td>26</td><td>3207</td></tr>",
                            "<tr><td>The Thorn Birds</td><td>4.22</td><td>201</td><td>26</td><td>3412</td></tr>",
                            "<tr><td>The Complete Sherlock Holmes, Vol 2</td><td>4.46</td><td>117</td><td>26</td><td>3586</td></tr>",
                            "<tr><td>The Dark Tower (The Dark Tower, #7)</td><td>4.27</td><td>105</td><td>26</td><td>5091</td></tr>",
                            "<tr><td>NULL</td><td>NULL</td><td>NULL</td><td>26</td><td>5550</td></tr>",
                            "<tr><td>NULL</td><td>NULL</td><td>NULL</td><td>26</td><td>6877</td></tr>",
                            "<tr><td>NULL</td><td>NULL</td><td>NULL</td><td>26</td><td>7970</td></tr>",
                            "<tr><td>NULL</td><td>NULL</td><td>NULL</td><td>28</td><td>265</td></tr>",
                            "<tr><td>NULL</td><td>NULL</td><td>NULL</td><td>28</td><td>587</td></tr>",
                            "<tr><td>NULL</td><td>NULL</td><td>NULL</td><td>28</td><td>3543</td></tr>",
                            "<tr><td>NULL</td><td>NULL</td><td>NULL</td><td>28</td><td>5215</td></tr>",
                            "<tr><td>NULL</td><td>NULL</td><td>NULL</td><td>28</td><td>7496</td></tr>",
                            "<tr><td>NULL</td><td>NULL</td><td>NULL</td><td>28</td><td>8654</td></tr>",
                            "<tr><td>NULL</td><td>NULL</td><td>NULL</td><td>29</td><td>31</td></tr>",
                            "<tr><td>NULL</td><td>NULL</td><td>NULL</td><td>29</td><td>32</td></tr>",
                            "<tr><td>The Lord of the Rings: Weapons and Warfare</td><td>4.53</td><td>12</td><td>29</td><td>36</td></tr>",
                            "<tr><td>NULL</td><td>NULL</td><td>NULL</td><td>29</td><td>45</td></tr>",
                            "<tr><td>NULL</td><td>NULL</td><td>NULL</td><td>29</td><td>65</td></tr>",
                            "<tr><td>NULL</td><td>NULL</td><td>NULL</td><td>29</td><td>87</td></tr>",
                            "<tr><td>NULL</td><td>NULL</td><td>NULL</td><td>29</td><td>115</td></tr>",
                            "<tr><td>NULL</td><td>NULL</td><td>NULL</td><td>29</td><td>121</td></tr>",
                            "<tr><td>NULL</td><td>NULL</td><td>NULL</td><td>29</td><td>131</td></tr>",
                            "<tr><td>NULL</td><td>NULL</td><td>NULL</td><td>29</td><td>178</td></tr>",
                            "<tr><td>NULL</td><td>NULL</td><td>NULL</td><td>29</td><td>256</td></tr>",
                            "<tr><td>NULL</td><td>NULL</td><td>NULL</td><td>29</td><td>323</td></tr>",
                            "<tr><td>Slouching Towards Bethlehem</td><td>4.24</td><td>34</td><td>29</td><td>424</td></tr>",
                            "<tr><td>NULL</td><td>NULL</td><td>NULL</td><td>29</td><td>467</td></tr>",
                            "<tr><td>NULL</td><td>NULL</td><td>NULL</td><td>29</td><td>550</td></tr>",
                            "<tr><td>NULL</td><td>NULL</td><td>NULL</td><td>29</td><td>618</td></tr>",
                            "<tr><td>Atlas Shrugged</td><td>3.68</td><td>147</td><td>29</td><td>662</td></tr>",
                            "<tr><td>NULL</td><td>NULL</td><td>NULL</td><td>29</td><td>709</td></tr>",
                            "<tr><td>NULL</td><td>NULL</td><td>NULL</td><td>29</td><td>730</td></tr>",
                            "<tr><td>NULL</td><td>NULL</td><td>NULL</td><td>29</td><td>771</td></tr>",
                            "<tr><td>NULL</td><td>NULL</td><td>NULL</td><td>29</td><td>809</td></tr>",
                            "<tr><td>NULL</td><td>NULL</td><td>NULL</td><td>29</td><td>934</td></tr>",
                            "<tr><td>NULL</td><td>NULL</td><td>NULL</td><td>29</td><td>1084</td></tr>",
                            "<tr><td>NULL</td><td>NULL</td><td>NULL</td><td>29</td><td>1364</td></tr>",
                            "<tr><td>NULL</td><td>NULL</td><td>NULL</td><td>29</td><td>1642</td></tr>",
                            "<tr><td>NULL</td><td>NULL</td><td>NULL</td><td>29</td><td>1695</td></tr>",
                            "<tr><td>NULL</td><td>NULL</td><td>NULL</td><td>29</td><td>2259</td></tr>",
                            "<tr><td>NULL</td><td>NULL</td><td>NULL</td><td>29</td><td>2284</td></tr>",
                            "<tr><td>NULL</td><td>NULL</td><td>NULL</td><td>29</td><td>2304</td></tr>",
                            "<tr><td>NULL</td><td>NULL</td><td>NULL</td><td>29</td><td>2967</td></tr>",
                            "<tr><td>NULL</td><td>NULL</td><td>NULL</td><td>29</td><td>3508</td></tr>",
                            "<tr><td>NULL</td><td>NULL</td><td>NULL</td><td>29</td><td>4359</td></tr>",
                            "<tr><td>NULL</td><td>NULL</td><td>NULL</td><td>29</td><td>4394</td></tr>",
                            "<tr><td>NULL</td><td>NULL</td><td>NULL</td><td>29</td><td>4475</td></tr>",
                            "<tr><td>NULL</td><td>NULL</td><td>NULL</td><td>29</td><td>4629</td></tr>",
                            "<tr><td>NULL</td><td>NULL</td><td>NULL</td><td>29</td><td>5090</td></tr>",
                            "<tr><td>NULL</td><td>NULL</td><td>NULL</td><td>29</td><td>5596</td></tr>",
                            "<tr><td>NULL</td><td>NULL</td><td>NULL</td><td>29</td><td>5851</td></tr>",
                            "<tr><td>NULL</td><td>NULL</td><td>NULL</td><td>29</td><td>6104</td></tr>",
                            "<tr><td>NULL</td><td>NULL</td><td>NULL</td><td>30</td><td>47</td></tr>",
                            "<tr><td>The Known World</td><td>3.82</td><td>42</td><td>30</td><td>67</td></tr>",
                            "<tr><td>NULL</td><td>NULL</td><td>NULL</td><td>30</td><td>82</td></tr>",
                            "<tr><td>NULL</td><td>NULL</td><td>NULL</td><td>30</td><td>121</td></tr>",
                            "<tr><td>NULL</td><td>NULL</td><td>NULL</td><td>30</td><td>177</td></tr>",
                            "<tr><td>Tropic of Cancer</td><td>3.71</td><td>205</td><td>30</td><td>249</td></tr>",
                            "<tr><td>NULL</td><td>NULL</td><td>NULL</td><td>30</td><td>297</td></tr>",
                            "<tr><td>NULL</td><td>NULL</td><td>NULL</td><td>30</td><td>407</td></tr>",
                            "<tr><td>NULL</td><td>NULL</td><td>NULL</td><td>30</td><td>426</td></tr>",
                            "<tr><td>NULL</td><td>NULL</td><td>NULL</td><td>30</td><td>430</td></tr>",
                            "<tr><td>NULL</td><td>NULL</td><td>NULL</td><td>30</td><td>442</td></tr>",
                            "<tr><td>NULL</td><td>NULL</td><td>NULL</td><td>30</td><td>516</td></tr>",
                            "<tr><td>NULL</td><td>NULL</td><td>NULL</td><td>30</td><td>658</td></tr>",
                            "<tr><td>NULL</td><td>NULL</td><td>NULL</td><td>30</td><td>895</td></tr>",
                            "<tr><td>NULL</td><td>NULL</td><td>NULL</td><td>30</td><td>1039</td></tr>",
                            "<tr><td>NULL</td><td>NULL</td><td>NULL</td><td>30</td><td>1094</td></tr>",
                            "<tr><td>The Odyssey</td><td>3.73</td><td>1703</td><td>30</td><td>1381</td></tr>",
                            "<tr><td>NULL</td><td>NULL</td><td>NULL</td><td>30</td><td>2117</td></tr>",
                            "<tr><td>NULL</td><td>NULL</td><td>NULL</td><td>30</td><td>2426</td></tr>",
                            "<tr><td>NULL</td><td>NULL</td><td>NULL</td><td>30</td><td>3444</td></tr>",
                            "<tr><td>The Pilgrimage</td><td>3.64</td><td>171</td><td>30</td><td>4004</td></tr>",
                            "<tr><td>NULL</td><td>NULL</td><td>NULL</td><td>30</td><td>4202</td></tr>",
                            "<tr><td>NULL</td><td>NULL</td><td>NULL</td><td>30</td><td>4509</td></tr>",
                            "<tr><td>NULL</td><td>NULL</td><td>NULL</td><td>30</td><td>5880</td></tr>",
                            "<tr><td>The Hobbit</td><td>4.25</td><td>969</td><td>30</td><td>5907</td></tr>",
                            "<tr><td>NULL</td><td>NULL</td><td>NULL</td><td>30</td><td>6828</td></tr>",
                            "<tr><td>NULL</td><td>NULL</td><td>NULL</td><td>30</td><td>7563</td></tr>",
                            "<tr><td>NULL</td><td>NULL</td><td>NULL</td><td>30</td><td>8737</td></tr>",
                            "<tr><td>NULL</td><td>NULL</td><td>NULL</td><td>31</td><td>94</td></tr>",
                            "<tr><td>NULL</td><td>NULL</td><td>NULL</td><td>31</td><td>584</td></tr>",
                            "</table>"
                        ]
                    }
                }
            ],
            "execution_count": 6
        },
        {
            "cell_type": "markdown",
            "source": [
                "## **QUESTION 3:** Exploring FULL JOINS with the **books** and **to\\_read** tables\n",
                "\n",
                "You will need to uncomment the Query to answer the question.\n",
                "\n",
                "**Part A:**  Look at the table and explore how it was populated.  Try manipulating the query to better understand how this table works.  Try adding a WHERE clause, or ORDER BY a column on the **books** table.  Based on your exploration, can you think of when you might want a FULL join rather than a LEFT, RIGHT, or INNER?\n",
                "\n",
                "> Your Answer: We might want to use a FULL join to see how much overlap there even is between two data sets. If we do a FULL join and see more Null values than the alternative, that might guide whether or not we continue comparing two tables to one another."
            ],
            "metadata": {
                "azdata_cell_guid": "8f6b8f22-3e5a-4b87-a2f2-07279f1deb94"
            },
            "attachments": {}
        },
        {
            "cell_type": "code",
            "source": [
                "\n",
                "-- FULL JOIN\n",
                "SELECT TOP 30 b.title, b.average_rating, b.books_count,tr.user_id, tr.book_id\n",
                "FROM BooksDB.dbo.books AS b\n",
                "FULL JOIN BooksDB.dbo.to_read AS tr\n",
                "ON b.book_id = tr.book_id;\n",
                ""
            ],
            "metadata": {
                "azdata_cell_guid": "7c2a3dff-ef55-4222-aef0-7c0ab4f942eb",
                "tags": [],
                "language": "sql"
            },
            "outputs": [
                {
                    "output_type": "display_data",
                    "data": {
                        "text/html": "(30 rows affected)"
                    },
                    "metadata": {}
                },
                {
                    "output_type": "display_data",
                    "data": {
                        "text/html": "Total execution time: 00:00:00.056"
                    },
                    "metadata": {}
                },
                {
                    "output_type": "execute_result",
                    "metadata": {},
                    "execution_count": 7,
                    "data": {
                        "application/vnd.dataresource+json": {
                            "schema": {
                                "fields": [
                                    {
                                        "name": "title"
                                    },
                                    {
                                        "name": "average_rating"
                                    },
                                    {
                                        "name": "books_count"
                                    },
                                    {
                                        "name": "user_id"
                                    },
                                    {
                                        "name": "book_id"
                                    }
                                ]
                            },
                            "data": [
                                {
                                    "0": "Children of Dune (Dune Chronicles #3)",
                                    "1": "3.9",
                                    "2": "116",
                                    "3": "1",
                                    "4": "112"
                                },
                                {
                                    "0": "NULL",
                                    "1": "NULL",
                                    "2": "NULL",
                                    "3": "1",
                                    "4": "235"
                                },
                                {
                                    "0": "NULL",
                                    "1": "NULL",
                                    "2": "NULL",
                                    "3": "1",
                                    "4": "533"
                                },
                                {
                                    "0": "NULL",
                                    "1": "NULL",
                                    "2": "NULL",
                                    "3": "1",
                                    "4": "1198"
                                },
                                {
                                    "0": "NULL",
                                    "1": "NULL",
                                    "2": "NULL",
                                    "3": "1",
                                    "4": "1874"
                                },
                                {
                                    "0": "NULL",
                                    "1": "NULL",
                                    "2": "NULL",
                                    "3": "1",
                                    "4": "2058"
                                },
                                {
                                    "0": "NULL",
                                    "1": "NULL",
                                    "2": "NULL",
                                    "3": "1",
                                    "4": "3334"
                                },
                                {
                                    "0": "NULL",
                                    "1": "NULL",
                                    "2": "NULL",
                                    "3": "2",
                                    "4": "4"
                                },
                                {
                                    "0": "The Hitchhiker's Guide to the Galaxy (Hitchhiker's Guide to the Galaxy, #1)",
                                    "1": "4.2",
                                    "2": "257",
                                    "3": "2",
                                    "4": "11"
                                },
                                {
                                    "0": "The Ultimate Hitchhiker's Guide to the Galaxy",
                                    "1": "4.37",
                                    "2": "32",
                                    "3": "2",
                                    "4": "13"
                                },
                                {
                                    "0": "NULL",
                                    "1": "NULL",
                                    "2": "NULL",
                                    "3": "2",
                                    "4": "16"
                                },
                                {
                                    "0": "NULL",
                                    "1": "NULL",
                                    "2": "NULL",
                                    "3": "2",
                                    "4": "92"
                                },
                                {
                                    "0": "Dune Messiah (Dune Chronicles #2)",
                                    "1": "3.86",
                                    "2": "140",
                                    "3": "2",
                                    "4": "106"
                                },
                                {
                                    "0": "NULL",
                                    "1": "NULL",
                                    "2": "NULL",
                                    "3": "2",
                                    "4": "113"
                                },
                                {
                                    "0": "NULL",
                                    "1": "NULL",
                                    "2": "NULL",
                                    "3": "2",
                                    "4": "233"
                                },
                                {
                                    "0": "NULL",
                                    "1": "NULL",
                                    "2": "NULL",
                                    "3": "2",
                                    "4": "247"
                                },
                                {
                                    "0": "NULL",
                                    "1": "NULL",
                                    "2": "NULL",
                                    "3": "2",
                                    "4": "380"
                                },
                                {
                                    "0": "NULL",
                                    "1": "NULL",
                                    "2": "NULL",
                                    "3": "2",
                                    "4": "408"
                                },
                                {
                                    "0": "NULL",
                                    "1": "NULL",
                                    "2": "NULL",
                                    "3": "2",
                                    "4": "439"
                                },
                                {
                                    "0": "NULL",
                                    "1": "NULL",
                                    "2": "NULL",
                                    "3": "2",
                                    "4": "479"
                                },
                                {
                                    "0": "NULL",
                                    "1": "NULL",
                                    "2": "NULL",
                                    "3": "2",
                                    "4": "516"
                                },
                                {
                                    "0": "NULL",
                                    "1": "NULL",
                                    "2": "NULL",
                                    "3": "2",
                                    "4": "619"
                                },
                                {
                                    "0": "NULL",
                                    "1": "NULL",
                                    "2": "NULL",
                                    "3": "2",
                                    "4": "1069"
                                },
                                {
                                    "0": "The Iliad",
                                    "1": "3.83",
                                    "2": "1726",
                                    "3": "2",
                                    "4": "1371"
                                },
                                {
                                    "0": "NULL",
                                    "1": "NULL",
                                    "2": "NULL",
                                    "3": "2",
                                    "4": "1384"
                                },
                                {
                                    "0": "NULL",
                                    "1": "NULL",
                                    "2": "NULL",
                                    "3": "2",
                                    "4": "1597"
                                },
                                {
                                    "0": "NULL",
                                    "1": "NULL",
                                    "2": "NULL",
                                    "3": "2",
                                    "4": "1926"
                                },
                                {
                                    "0": "NULL",
                                    "1": "NULL",
                                    "2": "NULL",
                                    "3": "2",
                                    "4": "1967"
                                },
                                {
                                    "0": "NULL",
                                    "1": "NULL",
                                    "2": "NULL",
                                    "3": "2",
                                    "4": "1969"
                                },
                                {
                                    "0": "NULL",
                                    "1": "NULL",
                                    "2": "NULL",
                                    "3": "2",
                                    "4": "2220"
                                }
                            ]
                        },
                        "text/html": [
                            "<table>",
                            "<tr><th>title</th><th>average_rating</th><th>books_count</th><th>user_id</th><th>book_id</th></tr>",
                            "<tr><td>Children of Dune (Dune Chronicles #3)</td><td>3.9</td><td>116</td><td>1</td><td>112</td></tr>",
                            "<tr><td>NULL</td><td>NULL</td><td>NULL</td><td>1</td><td>235</td></tr>",
                            "<tr><td>NULL</td><td>NULL</td><td>NULL</td><td>1</td><td>533</td></tr>",
                            "<tr><td>NULL</td><td>NULL</td><td>NULL</td><td>1</td><td>1198</td></tr>",
                            "<tr><td>NULL</td><td>NULL</td><td>NULL</td><td>1</td><td>1874</td></tr>",
                            "<tr><td>NULL</td><td>NULL</td><td>NULL</td><td>1</td><td>2058</td></tr>",
                            "<tr><td>NULL</td><td>NULL</td><td>NULL</td><td>1</td><td>3334</td></tr>",
                            "<tr><td>NULL</td><td>NULL</td><td>NULL</td><td>2</td><td>4</td></tr>",
                            "<tr><td>The Hitchhiker's Guide to the Galaxy (Hitchhiker's Guide to the Galaxy, #1)</td><td>4.2</td><td>257</td><td>2</td><td>11</td></tr>",
                            "<tr><td>The Ultimate Hitchhiker's Guide to the Galaxy</td><td>4.37</td><td>32</td><td>2</td><td>13</td></tr>",
                            "<tr><td>NULL</td><td>NULL</td><td>NULL</td><td>2</td><td>16</td></tr>",
                            "<tr><td>NULL</td><td>NULL</td><td>NULL</td><td>2</td><td>92</td></tr>",
                            "<tr><td>Dune Messiah (Dune Chronicles #2)</td><td>3.86</td><td>140</td><td>2</td><td>106</td></tr>",
                            "<tr><td>NULL</td><td>NULL</td><td>NULL</td><td>2</td><td>113</td></tr>",
                            "<tr><td>NULL</td><td>NULL</td><td>NULL</td><td>2</td><td>233</td></tr>",
                            "<tr><td>NULL</td><td>NULL</td><td>NULL</td><td>2</td><td>247</td></tr>",
                            "<tr><td>NULL</td><td>NULL</td><td>NULL</td><td>2</td><td>380</td></tr>",
                            "<tr><td>NULL</td><td>NULL</td><td>NULL</td><td>2</td><td>408</td></tr>",
                            "<tr><td>NULL</td><td>NULL</td><td>NULL</td><td>2</td><td>439</td></tr>",
                            "<tr><td>NULL</td><td>NULL</td><td>NULL</td><td>2</td><td>479</td></tr>",
                            "<tr><td>NULL</td><td>NULL</td><td>NULL</td><td>2</td><td>516</td></tr>",
                            "<tr><td>NULL</td><td>NULL</td><td>NULL</td><td>2</td><td>619</td></tr>",
                            "<tr><td>NULL</td><td>NULL</td><td>NULL</td><td>2</td><td>1069</td></tr>",
                            "<tr><td>The Iliad</td><td>3.83</td><td>1726</td><td>2</td><td>1371</td></tr>",
                            "<tr><td>NULL</td><td>NULL</td><td>NULL</td><td>2</td><td>1384</td></tr>",
                            "<tr><td>NULL</td><td>NULL</td><td>NULL</td><td>2</td><td>1597</td></tr>",
                            "<tr><td>NULL</td><td>NULL</td><td>NULL</td><td>2</td><td>1926</td></tr>",
                            "<tr><td>NULL</td><td>NULL</td><td>NULL</td><td>2</td><td>1967</td></tr>",
                            "<tr><td>NULL</td><td>NULL</td><td>NULL</td><td>2</td><td>1969</td></tr>",
                            "<tr><td>NULL</td><td>NULL</td><td>NULL</td><td>2</td><td>2220</td></tr>",
                            "</table>"
                        ]
                    }
                }
            ],
            "execution_count": 7
        },
        {
            "cell_type": "markdown",
            "source": [
                "## **QUESTION 4:** Exploring INNER Joins with the **books** and **to\\_read** tables\n",
                "\n",
                "You will need to uncomment the Query to answer the question.\n",
                "\n",
                "**Part A:**  What does an inner join do?\n",
                "\n",
                "> <span style=\"background-color: rgba(127, 127, 127, 0.1); font-family: -apple-system, BlinkMacSystemFont, sans-serif;\">Your Answer: An INNER join selects all rows from both tables where a certain condition is satisfied</span>\n",
                "\n",
                "<span style=\"background-color: rgba(127, 127, 127, 0.1); font-family: -apple-system, BlinkMacSystemFont, sans-serif;\"><b>Part B:</b>&nbsp;Currently this table has an <b>'IS NOT NULL'</b> in the <b>WHERE</b> clause.&nbsp; Is this necessary for this table?&nbsp; Why or Why not?&nbsp;</span> \n",
                "\n",
                "> Your Answer: No, because by definition an INNER join will not produce a table with Null values\n",
                "\n",
                "**Part C:**  When using SQL, you are usually returning much larger tables so every line of code will add to the compilation and return time.  Rewrite this inner join query so that it contains no redundant code.   \n",
                "\n",
                "> Your Answer:  Update the query in the code box below."
            ],
            "metadata": {
                "azdata_cell_guid": "4dab11ce-7995-4444-92dd-4cb2c0bc02c8"
            },
            "attachments": {}
        },
        {
            "cell_type": "code",
            "source": [
                "\n",
                "-- INNER JOIN\n",
                "SELECT TOP 30 b.title, b.average_rating, b.books_count,tr.user_id, tr.book_id\n",
                "FROM BooksDB.dbo.books AS b\n",
                "INNER JOIN BooksDB.dbo.to_read AS tr\n",
                "ON b.book_id = tr.book_id\n",
                ""
            ],
            "metadata": {
                "azdata_cell_guid": "66d430ab-18aa-4a29-a32d-0585445e417c",
                "tags": [],
                "language": "sql"
            },
            "outputs": [
                {
                    "output_type": "display_data",
                    "data": {
                        "text/html": "(30 rows affected)"
                    },
                    "metadata": {}
                },
                {
                    "output_type": "display_data",
                    "data": {
                        "text/html": "Total execution time: 00:00:00.058"
                    },
                    "metadata": {}
                },
                {
                    "output_type": "execute_result",
                    "metadata": {},
                    "execution_count": 10,
                    "data": {
                        "application/vnd.dataresource+json": {
                            "schema": {
                                "fields": [
                                    {
                                        "name": "title"
                                    },
                                    {
                                        "name": "average_rating"
                                    },
                                    {
                                        "name": "books_count"
                                    },
                                    {
                                        "name": "user_id"
                                    },
                                    {
                                        "name": "book_id"
                                    }
                                ]
                            },
                            "data": [
                                {
                                    "0": "Children of Dune (Dune Chronicles #3)",
                                    "1": "3.9",
                                    "2": "116",
                                    "3": "1",
                                    "4": "112"
                                },
                                {
                                    "0": "The Hitchhiker's Guide to the Galaxy (Hitchhiker's Guide to the Galaxy, #1)",
                                    "1": "4.2",
                                    "2": "257",
                                    "3": "2",
                                    "4": "11"
                                },
                                {
                                    "0": "The Ultimate Hitchhiker's Guide to the Galaxy",
                                    "1": "4.37",
                                    "2": "32",
                                    "3": "2",
                                    "4": "13"
                                },
                                {
                                    "0": "Dune Messiah (Dune Chronicles #2)",
                                    "1": "3.86",
                                    "2": "140",
                                    "3": "2",
                                    "4": "106"
                                },
                                {
                                    "0": "The Iliad",
                                    "1": "3.83",
                                    "2": "1726",
                                    "3": "2",
                                    "4": "1371"
                                },
                                {
                                    "0": "Harry Potter Collection (Harry Potter, #1-6)",
                                    "1": "4.73",
                                    "2": "6",
                                    "3": "3",
                                    "4": "10"
                                },
                                {
                                    "0": "The Virtue of Selfishness: A New Concept of Egoism",
                                    "1": "3.47",
                                    "2": "53",
                                    "3": "5",
                                    "4": "665"
                                },
                                {
                                    "0": "Sherlock Holmes: The Complete Novels and Stories, Volume I",
                                    "1": "4.45",
                                    "2": "13",
                                    "3": "5",
                                    "4": "3581"
                                },
                                {
                                    "0": "The War of Art: Break Through the Blocks & Win Your Inner Creative Battles",
                                    "1": "4.07",
                                    "2": "29",
                                    "3": "6",
                                    "4": "1319"
                                },
                                {
                                    "0": "Harry Potter Collection (Harry Potter, #1-6)",
                                    "1": "4.73",
                                    "2": "6",
                                    "3": "7",
                                    "4": "10"
                                },
                                {
                                    "0": "The Pilgrimage",
                                    "1": "3.64",
                                    "2": "171",
                                    "3": "8",
                                    "4": "4004"
                                },
                                {
                                    "0": "Harry Potter Boxed Set, Books 1-5 (Harry Potter, #1-5)",
                                    "1": "4.77",
                                    "2": "11",
                                    "3": "9",
                                    "4": "8"
                                },
                                {
                                    "0": "Children of Dune (Dune Chronicles #3)",
                                    "1": "3.9",
                                    "2": "116",
                                    "3": "9",
                                    "4": "112"
                                },
                                {
                                    "0": "Icy Sparks",
                                    "1": "3.68",
                                    "2": "27",
                                    "3": "9",
                                    "4": "3476"
                                },
                                {
                                    "0": "Harry Potter and the Goblet of Fire (Harry Potter, #4)",
                                    "1": "4.53",
                                    "2": "332",
                                    "3": "10",
                                    "4": "6"
                                },
                                {
                                    "0": "Atlas Shrugged",
                                    "1": "3.68",
                                    "2": "147",
                                    "3": "10",
                                    "4": "662"
                                },
                                {
                                    "0": "Harry Potter and the Half-Blood Prince (Harry Potter, #6)",
                                    "1": "4.54",
                                    "2": "275",
                                    "3": "12",
                                    "4": "1"
                                },
                                {
                                    "0": "Sherlock Holmes: The Complete Novels and Stories, Volume I",
                                    "1": "4.45",
                                    "2": "13",
                                    "3": "14",
                                    "4": "3581"
                                },
                                {
                                    "0": "The Lover",
                                    "1": "3.76",
                                    "2": "148",
                                    "3": "15",
                                    "4": "275"
                                },
                                {
                                    "0": "The Good Soldier",
                                    "1": "3.72",
                                    "2": "362",
                                    "3": "20",
                                    "4": "7628"
                                },
                                {
                                    "0": "The Thorn Birds",
                                    "1": "4.22",
                                    "2": "201",
                                    "3": "26",
                                    "4": "3412"
                                },
                                {
                                    "0": "The Complete Sherlock Holmes, Vol 2",
                                    "1": "4.46",
                                    "2": "117",
                                    "3": "26",
                                    "4": "3586"
                                },
                                {
                                    "0": "The Dark Tower (The Dark Tower, #7)",
                                    "1": "4.27",
                                    "2": "105",
                                    "3": "26",
                                    "4": "5091"
                                },
                                {
                                    "0": "The Lord of the Rings: Weapons and Warfare",
                                    "1": "4.53",
                                    "2": "12",
                                    "3": "29",
                                    "4": "36"
                                },
                                {
                                    "0": "Slouching Towards Bethlehem",
                                    "1": "4.24",
                                    "2": "34",
                                    "3": "29",
                                    "4": "424"
                                },
                                {
                                    "0": "Atlas Shrugged",
                                    "1": "3.68",
                                    "2": "147",
                                    "3": "29",
                                    "4": "662"
                                },
                                {
                                    "0": "The Elegant Universe: Superstrings, Hidden Dimensions, and the Quest for the Ultimate Theory",
                                    "1": "4.06",
                                    "2": "75",
                                    "3": "29",
                                    "4": "771"
                                },
                                {
                                    "0": "The Known World",
                                    "1": "3.82",
                                    "2": "42",
                                    "3": "30",
                                    "4": "67"
                                },
                                {
                                    "0": "Tropic of Cancer",
                                    "1": "3.71",
                                    "2": "205",
                                    "3": "30",
                                    "4": "249"
                                },
                                {
                                    "0": "The Odyssey",
                                    "1": "3.73",
                                    "2": "1703",
                                    "3": "30",
                                    "4": "1381"
                                }
                            ]
                        },
                        "text/html": [
                            "<table>",
                            "<tr><th>title</th><th>average_rating</th><th>books_count</th><th>user_id</th><th>book_id</th></tr>",
                            "<tr><td>Children of Dune (Dune Chronicles #3)</td><td>3.9</td><td>116</td><td>1</td><td>112</td></tr>",
                            "<tr><td>The Hitchhiker's Guide to the Galaxy (Hitchhiker's Guide to the Galaxy, #1)</td><td>4.2</td><td>257</td><td>2</td><td>11</td></tr>",
                            "<tr><td>The Ultimate Hitchhiker's Guide to the Galaxy</td><td>4.37</td><td>32</td><td>2</td><td>13</td></tr>",
                            "<tr><td>Dune Messiah (Dune Chronicles #2)</td><td>3.86</td><td>140</td><td>2</td><td>106</td></tr>",
                            "<tr><td>The Iliad</td><td>3.83</td><td>1726</td><td>2</td><td>1371</td></tr>",
                            "<tr><td>Harry Potter Collection (Harry Potter, #1-6)</td><td>4.73</td><td>6</td><td>3</td><td>10</td></tr>",
                            "<tr><td>The Virtue of Selfishness: A New Concept of Egoism</td><td>3.47</td><td>53</td><td>5</td><td>665</td></tr>",
                            "<tr><td>Sherlock Holmes: The Complete Novels and Stories, Volume I</td><td>4.45</td><td>13</td><td>5</td><td>3581</td></tr>",
                            "<tr><td>The War of Art: Break Through the Blocks &amp; Win Your Inner Creative Battles</td><td>4.07</td><td>29</td><td>6</td><td>1319</td></tr>",
                            "<tr><td>Harry Potter Collection (Harry Potter, #1-6)</td><td>4.73</td><td>6</td><td>7</td><td>10</td></tr>",
                            "<tr><td>The Pilgrimage</td><td>3.64</td><td>171</td><td>8</td><td>4004</td></tr>",
                            "<tr><td>Harry Potter Boxed Set, Books 1-5 (Harry Potter, #1-5)</td><td>4.77</td><td>11</td><td>9</td><td>8</td></tr>",
                            "<tr><td>Children of Dune (Dune Chronicles #3)</td><td>3.9</td><td>116</td><td>9</td><td>112</td></tr>",
                            "<tr><td>Icy Sparks</td><td>3.68</td><td>27</td><td>9</td><td>3476</td></tr>",
                            "<tr><td>Harry Potter and the Goblet of Fire (Harry Potter, #4)</td><td>4.53</td><td>332</td><td>10</td><td>6</td></tr>",
                            "<tr><td>Atlas Shrugged</td><td>3.68</td><td>147</td><td>10</td><td>662</td></tr>",
                            "<tr><td>Harry Potter and the Half-Blood Prince (Harry Potter, #6)</td><td>4.54</td><td>275</td><td>12</td><td>1</td></tr>",
                            "<tr><td>Sherlock Holmes: The Complete Novels and Stories, Volume I</td><td>4.45</td><td>13</td><td>14</td><td>3581</td></tr>",
                            "<tr><td>The Lover</td><td>3.76</td><td>148</td><td>15</td><td>275</td></tr>",
                            "<tr><td>The Good Soldier</td><td>3.72</td><td>362</td><td>20</td><td>7628</td></tr>",
                            "<tr><td>The Thorn Birds</td><td>4.22</td><td>201</td><td>26</td><td>3412</td></tr>",
                            "<tr><td>The Complete Sherlock Holmes, Vol 2</td><td>4.46</td><td>117</td><td>26</td><td>3586</td></tr>",
                            "<tr><td>The Dark Tower (The Dark Tower, #7)</td><td>4.27</td><td>105</td><td>26</td><td>5091</td></tr>",
                            "<tr><td>The Lord of the Rings: Weapons and Warfare</td><td>4.53</td><td>12</td><td>29</td><td>36</td></tr>",
                            "<tr><td>Slouching Towards Bethlehem</td><td>4.24</td><td>34</td><td>29</td><td>424</td></tr>",
                            "<tr><td>Atlas Shrugged</td><td>3.68</td><td>147</td><td>29</td><td>662</td></tr>",
                            "<tr><td>The Elegant Universe: Superstrings, Hidden Dimensions, and the Quest for the Ultimate Theory</td><td>4.06</td><td>75</td><td>29</td><td>771</td></tr>",
                            "<tr><td>The Known World</td><td>3.82</td><td>42</td><td>30</td><td>67</td></tr>",
                            "<tr><td>Tropic of Cancer</td><td>3.71</td><td>205</td><td>30</td><td>249</td></tr>",
                            "<tr><td>The Odyssey</td><td>3.73</td><td>1703</td><td>30</td><td>1381</td></tr>",
                            "</table>"
                        ]
                    }
                }
            ],
            "execution_count": 10
        },
        {
            "cell_type": "markdown",
            "source": [
                "## **QUESTION 5:**  Using joins to find the most tagged book and the most popular tag\n",
                "\n",
                "We will be writing 3 queries to find both the most tagged book and that book's most popular tag.\n",
                "\n",
                "**Part A:**  What is the most tagged book?\n",
                "\n",
                "> <span style=\"background-color: rgba(127, 127, 127, 0.1); font-family: -apple-system, BlinkMacSystemFont, sans-serif;\">Start by joining the </span> **books** <span style=\"background-color: rgba(127, 127, 127, 0.1); font-family: -apple-system, BlinkMacSystemFont, sans-serif;\">and </span> **book\\_tags**    <span style=\"background-color: rgba(127, 127, 127, 0.1); font-family: -apple-system, BlinkMacSystemFont, sans-serif;\">&nbsp;tables ON the books.best_book_id and book_tags.goodreads_book_id.&nbsp;&nbsp;<br></span>      <span style=\"background-color: rgba(127, 127, 127, 0.1); font-family: -apple-system, BlinkMacSystemFont, sans-serif;\">We want the <i>most popular</i> book, so think about ordering the table in a way that will display both the book title and the number of times a book tag has been used.</span>\n",
                "> \n",
                "> _MInimum Desired output:_  The title of the most tagged book, and the number of times the book has been tagged.\n",
                "> \n",
                "> **Title:  The Alchemist**\n",
                "\n",
                "**Part B:** How many different tags have been used for the most tagged book?\n",
                "\n",
                "> <span style=\"font-family: -apple-system, BlinkMacSystemFont, sans-serif; background-color: rgba(127, 127, 127, 0.1);\">Start by joining the&nbsp;</span>    **books** <span style=\"font-family: -apple-system, BlinkMacSystemFont, sans-serif; background-color: rgba(127, 127, 127, 0.1);\">and&nbsp;</span>    **book\\_tags**    <span style=\"font-family: -apple-system, BlinkMacSystemFont, sans-serif; background-color: rgba(127, 127, 127, 0.1);\">&nbsp;tables ON the books.best_book_id and book_tags.goodreads_book_id.&nbsp;&nbsp;<br></span>      We want to find the _most popular_ tag id, so think about ordering in a way that will display the most popular tag id.\n",
                "> \n",
                "> <span style=\"font-family: -apple-system, BlinkMacSystemFont, sans-serif; background-color: rgba(127, 127, 127, 0.1);\"><i>Minimum Desired Output:</i> The tag id for the most popular tag used for the most tagged book.&nbsp;</span>   \n",
                "> \n",
                "> <span style=\"font-family: -apple-system, BlinkMacSystemFont, sans-serif; background-color: rgba(127, 127, 127, 0.1);\"><b>Tag Id: 30574</b></span>\n",
                "\n",
                "<span style=\"font-family: -apple-system, BlinkMacSystemFont, sans-serif; background-color: rgba(127, 127, 127, 0.1);\"><b>Part C: </b>What is this particular tag?</span>\n",
                "\n",
                "> You may return this answer with a simple query.\n",
                "\n",
                "> <span style=\"font-family: -apple-system, BlinkMacSystemFont, sans-serif; background-color: rgba(127, 127, 127, 0.1);\"><i>Minimum Desired Output:</i>&nbsp;The tag name for the most popular tag used for the most tagged book.&nbsp;</span>   \n",
                "> \n",
                "> <span style=\"font-family: -apple-system, BlinkMacSystemFont, sans-serif; background-color: rgba(127, 127, 127, 0.1);\"><b>Tag Name: to-read</b></span>"
            ],
            "metadata": {
                "azdata_cell_guid": "a685e9cc-2ae2-40e8-8cc1-022c8064d66d"
            },
            "attachments": {}
        },
        {
            "cell_type": "code",
            "source": [
                "SELECT TOP 5 * FROM BooksDB.dbo.book_tags;"
            ],
            "metadata": {
                "language": "sql",
                "azdata_cell_guid": "976bca48-f5b0-4a57-9400-6e1bafcf9bd0"
            },
            "outputs": [
                {
                    "output_type": "display_data",
                    "data": {
                        "text/html": "(5 rows affected)"
                    },
                    "metadata": {}
                },
                {
                    "output_type": "display_data",
                    "data": {
                        "text/html": "Total execution time: 00:00:00.040"
                    },
                    "metadata": {}
                },
                {
                    "output_type": "execute_result",
                    "metadata": {},
                    "execution_count": 11,
                    "data": {
                        "application/vnd.dataresource+json": {
                            "schema": {
                                "fields": [
                                    {
                                        "name": "goodreads_book_id"
                                    },
                                    {
                                        "name": "tag_id"
                                    },
                                    {
                                        "name": "count"
                                    }
                                ]
                            },
                            "data": [
                                {
                                    "0": "1",
                                    "1": "30574",
                                    "2": "167697"
                                },
                                {
                                    "0": "1",
                                    "1": "11305",
                                    "2": "37174"
                                },
                                {
                                    "0": "1",
                                    "1": "11557",
                                    "2": "34173"
                                },
                                {
                                    "0": "1",
                                    "1": "8717",
                                    "2": "12986"
                                },
                                {
                                    "0": "1",
                                    "1": "33114",
                                    "2": "12716"
                                }
                            ]
                        },
                        "text/html": [
                            "<table>",
                            "<tr><th>goodreads_book_id</th><th>tag_id</th><th>count</th></tr>",
                            "<tr><td>1</td><td>30574</td><td>167697</td></tr>",
                            "<tr><td>1</td><td>11305</td><td>37174</td></tr>",
                            "<tr><td>1</td><td>11557</td><td>34173</td></tr>",
                            "<tr><td>1</td><td>8717</td><td>12986</td></tr>",
                            "<tr><td>1</td><td>33114</td><td>12716</td></tr>",
                            "</table>"
                        ]
                    }
                }
            ],
            "execution_count": 11
        },
        {
            "cell_type": "code",
            "source": [
                "SELECT TOP 5 * FROM BooksDB.dbo.books"
            ],
            "metadata": {
                "language": "sql",
                "azdata_cell_guid": "91e30bb3-9f01-4f9e-9dab-f0b6589c8cc5"
            },
            "outputs": [
                {
                    "output_type": "display_data",
                    "data": {
                        "text/html": "(5 rows affected)"
                    },
                    "metadata": {}
                },
                {
                    "output_type": "display_data",
                    "data": {
                        "text/html": "Total execution time: 00:00:00.043"
                    },
                    "metadata": {}
                },
                {
                    "output_type": "execute_result",
                    "metadata": {},
                    "execution_count": 12,
                    "data": {
                        "application/vnd.dataresource+json": {
                            "schema": {
                                "fields": [
                                    {
                                        "name": "id"
                                    },
                                    {
                                        "name": "book_id"
                                    },
                                    {
                                        "name": "best_book_id"
                                    },
                                    {
                                        "name": "work_id"
                                    },
                                    {
                                        "name": "books_count"
                                    },
                                    {
                                        "name": "isbn"
                                    },
                                    {
                                        "name": "isbn13"
                                    },
                                    {
                                        "name": "authors"
                                    },
                                    {
                                        "name": "original_publication_year"
                                    },
                                    {
                                        "name": "original_title"
                                    },
                                    {
                                        "name": "title"
                                    },
                                    {
                                        "name": "language_code"
                                    },
                                    {
                                        "name": "average_rating"
                                    },
                                    {
                                        "name": "ratings_count"
                                    },
                                    {
                                        "name": "work_ratings_count"
                                    },
                                    {
                                        "name": "work_text_reviews_count"
                                    },
                                    {
                                        "name": "ratings_1"
                                    },
                                    {
                                        "name": "ratings_2"
                                    },
                                    {
                                        "name": "ratings_3"
                                    },
                                    {
                                        "name": "ratings_4"
                                    },
                                    {
                                        "name": "ratings_5"
                                    },
                                    {
                                        "name": "image_url"
                                    },
                                    {
                                        "name": "small_image_url"
                                    }
                                ]
                            },
                            "data": [
                                {
                                    "0": "1",
                                    "1": "2767052",
                                    "2": "2767052",
                                    "3": "2792775",
                                    "4": "272",
                                    "5": "439023483",
                                    "6": "9780439023480",
                                    "7": "Suzanne Collins",
                                    "8": "2008",
                                    "9": "The Hunger Games",
                                    "10": "The Hunger Games (The Hunger Games, #1)",
                                    "11": "eng",
                                    "12": "4.34",
                                    "13": "4780653",
                                    "14": "4942365",
                                    "15": "155254",
                                    "16": "66715",
                                    "17": "127936",
                                    "18": "560092",
                                    "19": "1481305",
                                    "20": "2706317",
                                    "21": "https://images.gr-assets.com/books/1447303603m/2767052.jpg",
                                    "22": "https://images.gr-assets.com/books/1447303603s/2767052.jpg"
                                },
                                {
                                    "0": "2",
                                    "1": "3",
                                    "2": "3",
                                    "3": "4640799",
                                    "4": "491",
                                    "5": "439554934",
                                    "6": "9780439554930",
                                    "7": "J.K. Rowling, Mary GrandPré",
                                    "8": "1997",
                                    "9": "Harry Potter and the Philosopher's Stone",
                                    "10": "Harry Potter and the Sorcerer's Stone (Harry Potter, #1)",
                                    "11": "eng",
                                    "12": "4.44",
                                    "13": "4602479",
                                    "14": "4800065",
                                    "15": "75867",
                                    "16": "75504",
                                    "17": "101676",
                                    "18": "455024",
                                    "19": "1156318",
                                    "20": "3011543",
                                    "21": "https://images.gr-assets.com/books/1474154022m/3.jpg",
                                    "22": "https://images.gr-assets.com/books/1474154022s/3.jpg"
                                },
                                {
                                    "0": "3",
                                    "1": "41865",
                                    "2": "41865",
                                    "3": "3212258",
                                    "4": "226",
                                    "5": "316015849",
                                    "6": "9780316015840",
                                    "7": "Stephenie Meyer",
                                    "8": "2005",
                                    "9": "Twilight",
                                    "10": "Twilight (Twilight, #1)",
                                    "11": "en-US",
                                    "12": "3.57",
                                    "13": "3866839",
                                    "14": "3916824",
                                    "15": "95009",
                                    "16": "456191",
                                    "17": "436802",
                                    "18": "793319",
                                    "19": "875073",
                                    "20": "1355439",
                                    "21": "https://images.gr-assets.com/books/1361039443m/41865.jpg",
                                    "22": "https://images.gr-assets.com/books/1361039443s/41865.jpg"
                                },
                                {
                                    "0": "4",
                                    "1": "2657",
                                    "2": "2657",
                                    "3": "3275794",
                                    "4": "487",
                                    "5": "61120081",
                                    "6": "9780061120080",
                                    "7": "Harper Lee",
                                    "8": "1960",
                                    "9": "To Kill a Mockingbird",
                                    "10": "To Kill a Mockingbird",
                                    "11": "eng",
                                    "12": "4.25",
                                    "13": "3198671",
                                    "14": "3340896",
                                    "15": "72586",
                                    "16": "60427",
                                    "17": "117415",
                                    "18": "446835",
                                    "19": "1001952",
                                    "20": "1714267",
                                    "21": "https://images.gr-assets.com/books/1361975680m/2657.jpg",
                                    "22": "https://images.gr-assets.com/books/1361975680s/2657.jpg"
                                },
                                {
                                    "0": "5",
                                    "1": "4671",
                                    "2": "4671",
                                    "3": "245494",
                                    "4": "1356",
                                    "5": "743273567",
                                    "6": "9780743273560",
                                    "7": "F. Scott Fitzgerald",
                                    "8": "1925",
                                    "9": "The Great Gatsby",
                                    "10": "The Great Gatsby",
                                    "11": "eng",
                                    "12": "3.89",
                                    "13": "2683664",
                                    "14": "2773745",
                                    "15": "51992",
                                    "16": "86236",
                                    "17": "197621",
                                    "18": "606158",
                                    "19": "936012",
                                    "20": "947718",
                                    "21": "https://images.gr-assets.com/books/1490528560m/4671.jpg",
                                    "22": "https://images.gr-assets.com/books/1490528560s/4671.jpg"
                                }
                            ]
                        },
                        "text/html": [
                            "<table>",
                            "<tr><th>id</th><th>book_id</th><th>best_book_id</th><th>work_id</th><th>books_count</th><th>isbn</th><th>isbn13</th><th>authors</th><th>original_publication_year</th><th>original_title</th><th>title</th><th>language_code</th><th>average_rating</th><th>ratings_count</th><th>work_ratings_count</th><th>work_text_reviews_count</th><th>ratings_1</th><th>ratings_2</th><th>ratings_3</th><th>ratings_4</th><th>ratings_5</th><th>image_url</th><th>small_image_url</th></tr>",
                            "<tr><td>1</td><td>2767052</td><td>2767052</td><td>2792775</td><td>272</td><td>439023483</td><td>9780439023480</td><td>Suzanne Collins</td><td>2008</td><td>The Hunger Games</td><td>The Hunger Games (The Hunger Games, #1)</td><td>eng</td><td>4.34</td><td>4780653</td><td>4942365</td><td>155254</td><td>66715</td><td>127936</td><td>560092</td><td>1481305</td><td>2706317</td><td>https://images.gr-assets.com/books/1447303603m/2767052.jpg</td><td>https://images.gr-assets.com/books/1447303603s/2767052.jpg</td></tr>",
                            "<tr><td>2</td><td>3</td><td>3</td><td>4640799</td><td>491</td><td>439554934</td><td>9780439554930</td><td>J.K. Rowling, Mary GrandPré</td><td>1997</td><td>Harry Potter and the Philosopher's Stone</td><td>Harry Potter and the Sorcerer's Stone (Harry Potter, #1)</td><td>eng</td><td>4.44</td><td>4602479</td><td>4800065</td><td>75867</td><td>75504</td><td>101676</td><td>455024</td><td>1156318</td><td>3011543</td><td>https://images.gr-assets.com/books/1474154022m/3.jpg</td><td>https://images.gr-assets.com/books/1474154022s/3.jpg</td></tr>",
                            "<tr><td>3</td><td>41865</td><td>41865</td><td>3212258</td><td>226</td><td>316015849</td><td>9780316015840</td><td>Stephenie Meyer</td><td>2005</td><td>Twilight</td><td>Twilight (Twilight, #1)</td><td>en-US</td><td>3.57</td><td>3866839</td><td>3916824</td><td>95009</td><td>456191</td><td>436802</td><td>793319</td><td>875073</td><td>1355439</td><td>https://images.gr-assets.com/books/1361039443m/41865.jpg</td><td>https://images.gr-assets.com/books/1361039443s/41865.jpg</td></tr>",
                            "<tr><td>4</td><td>2657</td><td>2657</td><td>3275794</td><td>487</td><td>61120081</td><td>9780061120080</td><td>Harper Lee</td><td>1960</td><td>To Kill a Mockingbird</td><td>To Kill a Mockingbird</td><td>eng</td><td>4.25</td><td>3198671</td><td>3340896</td><td>72586</td><td>60427</td><td>117415</td><td>446835</td><td>1001952</td><td>1714267</td><td>https://images.gr-assets.com/books/1361975680m/2657.jpg</td><td>https://images.gr-assets.com/books/1361975680s/2657.jpg</td></tr>",
                            "<tr><td>5</td><td>4671</td><td>4671</td><td>245494</td><td>1356</td><td>743273567</td><td>9780743273560</td><td>F. Scott Fitzgerald</td><td>1925</td><td>The Great Gatsby</td><td>The Great Gatsby</td><td>eng</td><td>3.89</td><td>2683664</td><td>2773745</td><td>51992</td><td>86236</td><td>197621</td><td>606158</td><td>936012</td><td>947718</td><td>https://images.gr-assets.com/books/1490528560m/4671.jpg</td><td>https://images.gr-assets.com/books/1490528560s/4671.jpg</td></tr>",
                            "</table>"
                        ]
                    }
                }
            ],
            "execution_count": 12
        },
        {
            "cell_type": "code",
            "source": [
                "-- Code Here:\r\n",
                "SELECT TOP 100 b.title, b.best_book_id, bt.goodreads_book_id, bt.tag_id, bt.count \r\n",
                "FROM BooksDB.dbo.books AS b \r\n",
                "INNER JOIN BooksDB.dbo.book_tags AS bt \r\n",
                "ON b.best_book_id = bt.goodreads_book_id\r\n",
                "ORDER BY bt.count DESC"
            ],
            "metadata": {
                "azdata_cell_guid": "de3ac253-6b47-4740-8c6e-5f9d1b0ce36b",
                "language": "sql",
                "tags": []
            },
            "outputs": [
                {
                    "output_type": "display_data",
                    "data": {
                        "text/html": "(100 rows affected)"
                    },
                    "metadata": {}
                },
                {
                    "output_type": "display_data",
                    "data": {
                        "text/html": "Total execution time: 00:00:00.507"
                    },
                    "metadata": {}
                },
                {
                    "output_type": "execute_result",
                    "metadata": {},
                    "execution_count": 31,
                    "data": {
                        "application/vnd.dataresource+json": {
                            "schema": {
                                "fields": [
                                    {
                                        "name": "title"
                                    },
                                    {
                                        "name": "best_book_id"
                                    },
                                    {
                                        "name": "goodreads_book_id"
                                    },
                                    {
                                        "name": "tag_id"
                                    },
                                    {
                                        "name": "count"
                                    }
                                ]
                            },
                            "data": [
                                {
                                    "0": "The Alchemist",
                                    "1": "865",
                                    "2": "865",
                                    "3": "30574",
                                    "4": "596234"
                                },
                                {
                                    "0": "The Girl with the Dragon Tattoo (Millennium, #1)",
                                    "1": "2429135",
                                    "2": "2429135",
                                    "3": "30574",
                                    "4": "586235"
                                },
                                {
                                    "0": "All the Light We Cannot See",
                                    "1": "18143977",
                                    "2": "18143977",
                                    "3": "30574",
                                    "4": "505884"
                                },
                                {
                                    "0": "Harry Potter and the Sorcerer's Stone (Harry Potter, #1)",
                                    "1": "3",
                                    "2": "3",
                                    "3": "30574",
                                    "4": "496107"
                                },
                                {
                                    "0": "Les Misérables",
                                    "1": "24280",
                                    "2": "24280",
                                    "3": "30574",
                                    "4": "488469"
                                },
                                {
                                    "0": "Cinder (The Lunar Chronicles, #1)",
                                    "1": "11235712",
                                    "2": "11235712",
                                    "3": "30574",
                                    "4": "474954"
                                },
                                {
                                    "0": "Catch-22",
                                    "1": "168668",
                                    "2": "168668",
                                    "3": "30574",
                                    "4": "465640"
                                },
                                {
                                    "0": "Gone with the Wind",
                                    "1": "18405",
                                    "2": "18405",
                                    "3": "30574",
                                    "4": "454565"
                                },
                                {
                                    "0": "Slaughterhouse-Five",
                                    "1": "4981",
                                    "2": "4981",
                                    "3": "30574",
                                    "4": "443942"
                                },
                                {
                                    "0": "A Tale of Two Cities",
                                    "1": "1953",
                                    "2": "1953",
                                    "3": "30574",
                                    "4": "402942"
                                },
                                {
                                    "0": "The Maze Runner (Maze Runner, #1)",
                                    "1": "6186357",
                                    "2": "6186357",
                                    "3": "30574",
                                    "4": "380255"
                                },
                                {
                                    "0": "If I Stay (If I Stay, #1)",
                                    "1": "4374400",
                                    "2": "4374400",
                                    "3": "30574",
                                    "4": "378509"
                                },
                                {
                                    "0": "The Picture of Dorian Gray",
                                    "1": "5297",
                                    "2": "5297",
                                    "3": "30574",
                                    "4": "358381"
                                },
                                {
                                    "0": "The Handmaid's Tale",
                                    "1": "38447",
                                    "2": "38447",
                                    "3": "30574",
                                    "4": "348218"
                                },
                                {
                                    "0": "Little Women (Little Women, #1)",
                                    "1": "1934",
                                    "2": "1934",
                                    "3": "30574",
                                    "4": "345105"
                                },
                                {
                                    "0": "Bossypants",
                                    "1": "9418327",
                                    "2": "9418327",
                                    "3": "30574",
                                    "4": "332278"
                                },
                                {
                                    "0": "The Tipping Point: How Little Things Can Make a Big Difference",
                                    "1": "2612",
                                    "2": "2612",
                                    "3": "30574",
                                    "4": "320295"
                                },
                                {
                                    "0": "Room",
                                    "1": "7937843",
                                    "2": "7937843",
                                    "3": "30574",
                                    "4": "302652"
                                },
                                {
                                    "0": "Middlesex",
                                    "1": "2187",
                                    "2": "2187",
                                    "3": "30574",
                                    "4": "299006"
                                },
                                {
                                    "0": "Dracula",
                                    "1": "17245",
                                    "2": "17245",
                                    "3": "30574",
                                    "4": "287576"
                                },
                                {
                                    "0": "The Secret Life of Bees",
                                    "1": "37435",
                                    "2": "37435",
                                    "3": "30574",
                                    "4": "286899"
                                },
                                {
                                    "0": "Yes Please",
                                    "1": "20910157",
                                    "2": "20910157",
                                    "3": "30574",
                                    "4": "286059"
                                },
                                {
                                    "0": "The Name of the Wind (The Kingkiller Chronicle, #1)",
                                    "1": "186074",
                                    "2": "186074",
                                    "3": "30574",
                                    "4": "283253"
                                },
                                {
                                    "0": "The 7 Habits of Highly Effective People: Powerful Lessons in Personal Change",
                                    "1": "36072",
                                    "2": "36072",
                                    "3": "30574",
                                    "4": "283148"
                                },
                                {
                                    "0": "Romeo and Juliet",
                                    "1": "18135",
                                    "2": "18135",
                                    "3": "30574",
                                    "4": "279627"
                                },
                                {
                                    "0": "Ender's Game (Ender's Saga, #1)",
                                    "1": "375802",
                                    "2": "375802",
                                    "3": "30574",
                                    "4": "277113"
                                },
                                {
                                    "0": "The Golden Compass (His Dark Materials, #1)",
                                    "1": "119322",
                                    "2": "119322",
                                    "3": "30574",
                                    "4": "276683"
                                },
                                {
                                    "0": "The Nightingale",
                                    "1": "21853621",
                                    "2": "21853621",
                                    "3": "30574",
                                    "4": "275551"
                                },
                                {
                                    "0": "The 5th Wave (The 5th Wave, #1)",
                                    "1": "16101128",
                                    "2": "16101128",
                                    "3": "30574",
                                    "4": "271738"
                                },
                                {
                                    "0": "War and Peace",
                                    "1": "656",
                                    "2": "656",
                                    "3": "30574",
                                    "4": "271642"
                                },
                                {
                                    "0": "The Glass Castle",
                                    "1": "7445",
                                    "2": "7445",
                                    "3": "30574",
                                    "4": "260535"
                                },
                                {
                                    "0": "Daughter of Smoke & Bone (Daughter of Smoke & Bone, #1)",
                                    "1": "8490112",
                                    "2": "8490112",
                                    "3": "30574",
                                    "4": "255961"
                                },
                                {
                                    "0": "Moby-Dick or, The Whale",
                                    "1": "153747",
                                    "2": "153747",
                                    "3": "30574",
                                    "4": "255686"
                                },
                                {
                                    "0": "In the Woods (Dublin Murder Squad, #1)",
                                    "1": "237209",
                                    "2": "237209",
                                    "3": "30574",
                                    "4": "249532"
                                },
                                {
                                    "0": "Harry Potter and the Cursed Child - Parts One and Two (Harry Potter, #8)",
                                    "1": "29056083",
                                    "2": "29056083",
                                    "3": "30574",
                                    "4": "248603"
                                },
                                {
                                    "0": "Wonder",
                                    "1": "11387515",
                                    "2": "11387515",
                                    "3": "30574",
                                    "4": "248197"
                                },
                                {
                                    "0": "Ready Player One",
                                    "1": "9969571",
                                    "2": "9969571",
                                    "3": "30574",
                                    "4": "244228"
                                },
                                {
                                    "0": "The Cuckoo's Calling (Cormoran Strike, #1)",
                                    "1": "16160797",
                                    "2": "16160797",
                                    "3": "30574",
                                    "4": "241339"
                                },
                                {
                                    "0": "Is Everyone Hanging Out Without Me? (And Other Concerns)",
                                    "1": "10335308",
                                    "2": "10335308",
                                    "3": "30574",
                                    "4": "240537"
                                },
                                {
                                    "0": "And Then There Were None",
                                    "1": "16299",
                                    "2": "16299",
                                    "3": "30574",
                                    "4": "238965"
                                },
                                {
                                    "0": "The Odyssey",
                                    "1": "1381",
                                    "2": "1381",
                                    "3": "30574",
                                    "4": "238730"
                                },
                                {
                                    "0": "Dune (Dune Chronicles #1)",
                                    "1": "234225",
                                    "2": "234225",
                                    "3": "30574",
                                    "4": "232155"
                                },
                                {
                                    "0": "In Cold Blood",
                                    "1": "168642",
                                    "2": "168642",
                                    "3": "30574",
                                    "4": "231340"
                                },
                                {
                                    "0": "A Wrinkle in Time (A Wrinkle in Time Quintet, #1)",
                                    "1": "18131",
                                    "2": "18131",
                                    "3": "30574",
                                    "4": "228455"
                                },
                                {
                                    "0": "Great Expectations",
                                    "1": "2623",
                                    "2": "2623",
                                    "3": "30574",
                                    "4": "227548"
                                },
                                {
                                    "0": "Allegiant (Divergent, #3)",
                                    "1": "18710190",
                                    "2": "18710190",
                                    "3": "30574",
                                    "4": "225359"
                                },
                                {
                                    "0": "Graceling (Graceling Realm, #1)",
                                    "1": "3236307",
                                    "2": "3236307",
                                    "3": "30574",
                                    "4": "222895"
                                },
                                {
                                    "0": "The Secret Garden",
                                    "1": "2998",
                                    "2": "2998",
                                    "3": "30574",
                                    "4": "222156"
                                },
                                {
                                    "0": "A Tree Grows in Brooklyn",
                                    "1": "14891",
                                    "2": "14891",
                                    "3": "30574",
                                    "4": "220839"
                                },
                                {
                                    "0": "Persuasion",
                                    "1": "2156",
                                    "2": "2156",
                                    "3": "30574",
                                    "4": "220502"
                                },
                                {
                                    "0": "Across the Universe (Across the Universe, #1)",
                                    "1": "8235178",
                                    "2": "8235178",
                                    "3": "30574",
                                    "4": "211797"
                                },
                                {
                                    "0": "The Raven Boys (The Raven Cycle, #1)",
                                    "1": "17675462",
                                    "2": "17675462",
                                    "3": "30574",
                                    "4": "208617"
                                },
                                {
                                    "0": "11/22/63",
                                    "1": "10644930",
                                    "2": "10644930",
                                    "3": "30574",
                                    "4": "206727"
                                },
                                {
                                    "0": "The Light Between Oceans",
                                    "1": "13158800",
                                    "2": "13158800",
                                    "3": "30574",
                                    "4": "205604"
                                },
                                {
                                    "0": "Insurgent (Divergent, #2)",
                                    "1": "11735983",
                                    "2": "11735983",
                                    "3": "30574",
                                    "4": "204393"
                                },
                                {
                                    "0": "Perfect Chemistry (Perfect Chemistry, #1)",
                                    "1": "4268157",
                                    "2": "4268157",
                                    "3": "30574",
                                    "4": "203586"
                                },
                                {
                                    "0": "It's Kind of a Funny Story",
                                    "1": "248704",
                                    "2": "248704",
                                    "3": "30574",
                                    "4": "202218"
                                },
                                {
                                    "0": "Will Grayson, Will Grayson",
                                    "1": "6567017",
                                    "2": "6567017",
                                    "3": "30574",
                                    "4": "201350"
                                },
                                {
                                    "0": "Six of Crows (Six of Crows, #1)",
                                    "1": "23437156",
                                    "2": "23437156",
                                    "3": "30574",
                                    "4": "198698"
                                },
                                {
                                    "0": "Man's Search for Meaning",
                                    "1": "4069",
                                    "2": "4069",
                                    "3": "30574",
                                    "4": "198532"
                                },
                                {
                                    "0": "My Sister's Keeper",
                                    "1": "10917",
                                    "2": "10917",
                                    "3": "30574",
                                    "4": "197630"
                                },
                                {
                                    "0": "Red Rising (Red Rising, #1)",
                                    "1": "15839976",
                                    "2": "15839976",
                                    "3": "30574",
                                    "4": "191615"
                                },
                                {
                                    "0": "The Shadow of the Wind (The Cemetery of Forgotten Books,  #1)",
                                    "1": "1232",
                                    "2": "1232",
                                    "3": "30574",
                                    "4": "190891"
                                },
                                {
                                    "0": "A Court of Thorns and Roses (A Court of Thorns and Roses, #1)",
                                    "1": "16096824",
                                    "2": "16096824",
                                    "3": "30574",
                                    "4": "188981"
                                },
                                {
                                    "0": "Unwind (Unwind, #1)",
                                    "1": "764347",
                                    "2": "764347",
                                    "3": "30574",
                                    "4": "187025"
                                },
                                {
                                    "0": "When Breath Becomes Air",
                                    "1": "25899336",
                                    "2": "25899336",
                                    "3": "30574",
                                    "4": "184635"
                                },
                                {
                                    "0": "The Boy in the Striped Pajamas",
                                    "1": "39999",
                                    "2": "39999",
                                    "3": "30574",
                                    "4": "182087"
                                },
                                {
                                    "0": "The Giving Tree",
                                    "1": "370493",
                                    "2": "370493",
                                    "3": "30574",
                                    "4": "181787"
                                },
                                {
                                    "0": "The Underground Railroad",
                                    "1": "30555488",
                                    "2": "30555488",
                                    "3": "30574",
                                    "4": "177759"
                                },
                                {
                                    "0": "Girl with a Pearl Earring",
                                    "1": "2865",
                                    "2": "2865",
                                    "3": "30574",
                                    "4": "177278"
                                },
                                {
                                    "0": "Stardust",
                                    "1": "16793",
                                    "2": "16793",
                                    "3": "30574",
                                    "4": "177061"
                                },
                                {
                                    "0": "Everything, Everything",
                                    "1": "18692431",
                                    "2": "18692431",
                                    "3": "30574",
                                    "4": "175234"
                                },
                                {
                                    "0": "Speak",
                                    "1": "439288",
                                    "2": "439288",
                                    "3": "30574",
                                    "4": "175206"
                                },
                                {
                                    "0": "The Devil Wears Prada (The Devil Wears Prada, #1)",
                                    "1": "5139",
                                    "2": "5139",
                                    "3": "30574",
                                    "4": "173514"
                                },
                                {
                                    "0": "John Adams",
                                    "1": "2203",
                                    "2": "2203",
                                    "3": "30574",
                                    "4": "172823"
                                },
                                {
                                    "0": "Three Cups of Tea: One Man's Mission to Promote Peace ... One School at a Time",
                                    "1": "49436",
                                    "2": "49436",
                                    "3": "30574",
                                    "4": "171855"
                                },
                                {
                                    "0": "City of Heavenly Fire (The Mortal Instruments, #6)",
                                    "1": "8755785",
                                    "2": "8755785",
                                    "3": "30574",
                                    "4": "171251"
                                },
                                {
                                    "0": "The Unbearable Lightness of Being",
                                    "1": "9717",
                                    "2": "9717",
                                    "3": "30574",
                                    "4": "170503"
                                },
                                {
                                    "0": "Easy (Contours of the Heart, #1)",
                                    "1": "16056408",
                                    "2": "16056408",
                                    "3": "30574",
                                    "4": "170119"
                                },
                                {
                                    "0": "The Stand",
                                    "1": "149267",
                                    "2": "149267",
                                    "3": "30574",
                                    "4": "168898"
                                },
                                {
                                    "0": "Harry Potter and the Half-Blood Prince (Harry Potter, #6)",
                                    "1": "1",
                                    "2": "1",
                                    "3": "30574",
                                    "4": "167697"
                                },
                                {
                                    "0": "Attachments",
                                    "1": "8909152",
                                    "2": "8909152",
                                    "3": "30574",
                                    "4": "167644"
                                },
                                {
                                    "0": "A People's History of the United States",
                                    "1": "2767",
                                    "2": "2767",
                                    "3": "30574",
                                    "4": "166850"
                                },
                                {
                                    "0": "Siddhartha",
                                    "1": "52036",
                                    "2": "52036",
                                    "3": "30574",
                                    "4": "166101"
                                },
                                {
                                    "0": "Station Eleven",
                                    "1": "20170404",
                                    "2": "20170404",
                                    "3": "30574",
                                    "4": "165591"
                                },
                                {
                                    "0": "A Dance with Dragons (A Song of Ice and Fire, #5)",
                                    "1": "10664113",
                                    "2": "10664113",
                                    "3": "30574",
                                    "4": "163132"
                                },
                                {
                                    "0": "Cat's Cradle",
                                    "1": "135479",
                                    "2": "135479",
                                    "3": "30574",
                                    "4": "161030"
                                },
                                {
                                    "0": "House of Leaves",
                                    "1": "24800",
                                    "2": "24800",
                                    "3": "30574",
                                    "4": "160824"
                                },
                                {
                                    "0": "My Life Next Door",
                                    "1": "12294652",
                                    "2": "12294652",
                                    "3": "30574",
                                    "4": "160518"
                                },
                                {
                                    "0": "All the Ugly and Wonderful Things",
                                    "1": "26114135",
                                    "2": "26114135",
                                    "3": "30574",
                                    "4": "159524"
                                },
                                {
                                    "0": "1Q84",
                                    "1": "10357575",
                                    "2": "10357575",
                                    "3": "30574",
                                    "4": "158754"
                                },
                                {
                                    "0": "Dear John",
                                    "1": "5526",
                                    "2": "5526",
                                    "3": "30574",
                                    "4": "158655"
                                },
                                {
                                    "0": "Clockwork Prince (The Infernal Devices, #2)",
                                    "1": "10025305",
                                    "2": "10025305",
                                    "3": "30574",
                                    "4": "156839"
                                },
                                {
                                    "0": "Inferno (Robert Langdon, #4)",
                                    "1": "17212231",
                                    "2": "17212231",
                                    "3": "30574",
                                    "4": "155961"
                                },
                                {
                                    "0": "On the Road",
                                    "1": "70401",
                                    "2": "70401",
                                    "3": "30574",
                                    "4": "155810"
                                },
                                {
                                    "0": "The Time Machine",
                                    "1": "2493",
                                    "2": "2493",
                                    "3": "30574",
                                    "4": "155806"
                                },
                                {
                                    "0": "City of Ashes (The Mortal Instruments, #2)",
                                    "1": "1582996",
                                    "2": "1582996",
                                    "3": "30574",
                                    "4": "149747"
                                },
                                {
                                    "0": "Orphan Train",
                                    "1": "15818107",
                                    "2": "15818107",
                                    "3": "30574",
                                    "4": "147588"
                                },
                                {
                                    "0": "Running with Scissors",
                                    "1": "242006",
                                    "2": "242006",
                                    "3": "30574",
                                    "4": "147245"
                                },
                                {
                                    "0": "Dark Lover (Black Dagger Brotherhood, #1)",
                                    "1": "42899",
                                    "2": "42899",
                                    "3": "30574",
                                    "4": "147190"
                                }
                            ]
                        },
                        "text/html": [
                            "<table>",
                            "<tr><th>title</th><th>best_book_id</th><th>goodreads_book_id</th><th>tag_id</th><th>count</th></tr>",
                            "<tr><td>The Alchemist</td><td>865</td><td>865</td><td>30574</td><td>596234</td></tr>",
                            "<tr><td>The Girl with the Dragon Tattoo (Millennium, #1)</td><td>2429135</td><td>2429135</td><td>30574</td><td>586235</td></tr>",
                            "<tr><td>All the Light We Cannot See</td><td>18143977</td><td>18143977</td><td>30574</td><td>505884</td></tr>",
                            "<tr><td>Harry Potter and the Sorcerer's Stone (Harry Potter, #1)</td><td>3</td><td>3</td><td>30574</td><td>496107</td></tr>",
                            "<tr><td>Les Misérables</td><td>24280</td><td>24280</td><td>30574</td><td>488469</td></tr>",
                            "<tr><td>Cinder (The Lunar Chronicles, #1)</td><td>11235712</td><td>11235712</td><td>30574</td><td>474954</td></tr>",
                            "<tr><td>Catch-22</td><td>168668</td><td>168668</td><td>30574</td><td>465640</td></tr>",
                            "<tr><td>Gone with the Wind</td><td>18405</td><td>18405</td><td>30574</td><td>454565</td></tr>",
                            "<tr><td>Slaughterhouse-Five</td><td>4981</td><td>4981</td><td>30574</td><td>443942</td></tr>",
                            "<tr><td>A Tale of Two Cities</td><td>1953</td><td>1953</td><td>30574</td><td>402942</td></tr>",
                            "<tr><td>The Maze Runner (Maze Runner, #1)</td><td>6186357</td><td>6186357</td><td>30574</td><td>380255</td></tr>",
                            "<tr><td>If I Stay (If I Stay, #1)</td><td>4374400</td><td>4374400</td><td>30574</td><td>378509</td></tr>",
                            "<tr><td>The Picture of Dorian Gray</td><td>5297</td><td>5297</td><td>30574</td><td>358381</td></tr>",
                            "<tr><td>The Handmaid's Tale</td><td>38447</td><td>38447</td><td>30574</td><td>348218</td></tr>",
                            "<tr><td>Little Women (Little Women, #1)</td><td>1934</td><td>1934</td><td>30574</td><td>345105</td></tr>",
                            "<tr><td>Bossypants</td><td>9418327</td><td>9418327</td><td>30574</td><td>332278</td></tr>",
                            "<tr><td>The Tipping Point: How Little Things Can Make a Big Difference</td><td>2612</td><td>2612</td><td>30574</td><td>320295</td></tr>",
                            "<tr><td>Room</td><td>7937843</td><td>7937843</td><td>30574</td><td>302652</td></tr>",
                            "<tr><td>Middlesex</td><td>2187</td><td>2187</td><td>30574</td><td>299006</td></tr>",
                            "<tr><td>Dracula</td><td>17245</td><td>17245</td><td>30574</td><td>287576</td></tr>",
                            "<tr><td>The Secret Life of Bees</td><td>37435</td><td>37435</td><td>30574</td><td>286899</td></tr>",
                            "<tr><td>Yes Please</td><td>20910157</td><td>20910157</td><td>30574</td><td>286059</td></tr>",
                            "<tr><td>The Name of the Wind (The Kingkiller Chronicle, #1)</td><td>186074</td><td>186074</td><td>30574</td><td>283253</td></tr>",
                            "<tr><td>The 7 Habits of Highly Effective People: Powerful Lessons in Personal Change</td><td>36072</td><td>36072</td><td>30574</td><td>283148</td></tr>",
                            "<tr><td>Romeo and Juliet</td><td>18135</td><td>18135</td><td>30574</td><td>279627</td></tr>",
                            "<tr><td>Ender's Game (Ender's Saga, #1)</td><td>375802</td><td>375802</td><td>30574</td><td>277113</td></tr>",
                            "<tr><td>The Golden Compass (His Dark Materials, #1)</td><td>119322</td><td>119322</td><td>30574</td><td>276683</td></tr>",
                            "<tr><td>The Nightingale</td><td>21853621</td><td>21853621</td><td>30574</td><td>275551</td></tr>",
                            "<tr><td>The 5th Wave (The 5th Wave, #1)</td><td>16101128</td><td>16101128</td><td>30574</td><td>271738</td></tr>",
                            "<tr><td>War and Peace</td><td>656</td><td>656</td><td>30574</td><td>271642</td></tr>",
                            "<tr><td>The Glass Castle</td><td>7445</td><td>7445</td><td>30574</td><td>260535</td></tr>",
                            "<tr><td>Daughter of Smoke &amp; Bone (Daughter of Smoke &amp; Bone, #1)</td><td>8490112</td><td>8490112</td><td>30574</td><td>255961</td></tr>",
                            "<tr><td>Moby-Dick or, The Whale</td><td>153747</td><td>153747</td><td>30574</td><td>255686</td></tr>",
                            "<tr><td>In the Woods (Dublin Murder Squad, #1)</td><td>237209</td><td>237209</td><td>30574</td><td>249532</td></tr>",
                            "<tr><td>Harry Potter and the Cursed Child - Parts One and Two (Harry Potter, #8)</td><td>29056083</td><td>29056083</td><td>30574</td><td>248603</td></tr>",
                            "<tr><td>Wonder</td><td>11387515</td><td>11387515</td><td>30574</td><td>248197</td></tr>",
                            "<tr><td>Ready Player One</td><td>9969571</td><td>9969571</td><td>30574</td><td>244228</td></tr>",
                            "<tr><td>The Cuckoo's Calling (Cormoran Strike, #1)</td><td>16160797</td><td>16160797</td><td>30574</td><td>241339</td></tr>",
                            "<tr><td>Is Everyone Hanging Out Without Me? (And Other Concerns)</td><td>10335308</td><td>10335308</td><td>30574</td><td>240537</td></tr>",
                            "<tr><td>And Then There Were None</td><td>16299</td><td>16299</td><td>30574</td><td>238965</td></tr>",
                            "<tr><td>The Odyssey</td><td>1381</td><td>1381</td><td>30574</td><td>238730</td></tr>",
                            "<tr><td>Dune (Dune Chronicles #1)</td><td>234225</td><td>234225</td><td>30574</td><td>232155</td></tr>",
                            "<tr><td>In Cold Blood</td><td>168642</td><td>168642</td><td>30574</td><td>231340</td></tr>",
                            "<tr><td>A Wrinkle in Time (A Wrinkle in Time Quintet, #1)</td><td>18131</td><td>18131</td><td>30574</td><td>228455</td></tr>",
                            "<tr><td>Great Expectations</td><td>2623</td><td>2623</td><td>30574</td><td>227548</td></tr>",
                            "<tr><td>Allegiant (Divergent, #3)</td><td>18710190</td><td>18710190</td><td>30574</td><td>225359</td></tr>",
                            "<tr><td>Graceling (Graceling Realm, #1)</td><td>3236307</td><td>3236307</td><td>30574</td><td>222895</td></tr>",
                            "<tr><td>The Secret Garden</td><td>2998</td><td>2998</td><td>30574</td><td>222156</td></tr>",
                            "<tr><td>A Tree Grows in Brooklyn</td><td>14891</td><td>14891</td><td>30574</td><td>220839</td></tr>",
                            "<tr><td>Persuasion</td><td>2156</td><td>2156</td><td>30574</td><td>220502</td></tr>",
                            "<tr><td>Across the Universe (Across the Universe, #1)</td><td>8235178</td><td>8235178</td><td>30574</td><td>211797</td></tr>",
                            "<tr><td>The Raven Boys (The Raven Cycle, #1)</td><td>17675462</td><td>17675462</td><td>30574</td><td>208617</td></tr>",
                            "<tr><td>11/22/63</td><td>10644930</td><td>10644930</td><td>30574</td><td>206727</td></tr>",
                            "<tr><td>The Light Between Oceans</td><td>13158800</td><td>13158800</td><td>30574</td><td>205604</td></tr>",
                            "<tr><td>Insurgent (Divergent, #2)</td><td>11735983</td><td>11735983</td><td>30574</td><td>204393</td></tr>",
                            "<tr><td>Perfect Chemistry (Perfect Chemistry, #1)</td><td>4268157</td><td>4268157</td><td>30574</td><td>203586</td></tr>",
                            "<tr><td>It's Kind of a Funny Story</td><td>248704</td><td>248704</td><td>30574</td><td>202218</td></tr>",
                            "<tr><td>Will Grayson, Will Grayson</td><td>6567017</td><td>6567017</td><td>30574</td><td>201350</td></tr>",
                            "<tr><td>Six of Crows (Six of Crows, #1)</td><td>23437156</td><td>23437156</td><td>30574</td><td>198698</td></tr>",
                            "<tr><td>Man's Search for Meaning</td><td>4069</td><td>4069</td><td>30574</td><td>198532</td></tr>",
                            "<tr><td>My Sister's Keeper</td><td>10917</td><td>10917</td><td>30574</td><td>197630</td></tr>",
                            "<tr><td>Red Rising (Red Rising, #1)</td><td>15839976</td><td>15839976</td><td>30574</td><td>191615</td></tr>",
                            "<tr><td>The Shadow of the Wind (The Cemetery of Forgotten Books,  #1)</td><td>1232</td><td>1232</td><td>30574</td><td>190891</td></tr>",
                            "<tr><td>A Court of Thorns and Roses (A Court of Thorns and Roses, #1)</td><td>16096824</td><td>16096824</td><td>30574</td><td>188981</td></tr>",
                            "<tr><td>Unwind (Unwind, #1)</td><td>764347</td><td>764347</td><td>30574</td><td>187025</td></tr>",
                            "<tr><td>When Breath Becomes Air</td><td>25899336</td><td>25899336</td><td>30574</td><td>184635</td></tr>",
                            "<tr><td>The Boy in the Striped Pajamas</td><td>39999</td><td>39999</td><td>30574</td><td>182087</td></tr>",
                            "<tr><td>The Giving Tree</td><td>370493</td><td>370493</td><td>30574</td><td>181787</td></tr>",
                            "<tr><td>The Underground Railroad</td><td>30555488</td><td>30555488</td><td>30574</td><td>177759</td></tr>",
                            "<tr><td>Girl with a Pearl Earring</td><td>2865</td><td>2865</td><td>30574</td><td>177278</td></tr>",
                            "<tr><td>Stardust</td><td>16793</td><td>16793</td><td>30574</td><td>177061</td></tr>",
                            "<tr><td>Everything, Everything</td><td>18692431</td><td>18692431</td><td>30574</td><td>175234</td></tr>",
                            "<tr><td>Speak</td><td>439288</td><td>439288</td><td>30574</td><td>175206</td></tr>",
                            "<tr><td>The Devil Wears Prada (The Devil Wears Prada, #1)</td><td>5139</td><td>5139</td><td>30574</td><td>173514</td></tr>",
                            "<tr><td>John Adams</td><td>2203</td><td>2203</td><td>30574</td><td>172823</td></tr>",
                            "<tr><td>Three Cups of Tea: One Man's Mission to Promote Peace ... One School at a Time</td><td>49436</td><td>49436</td><td>30574</td><td>171855</td></tr>",
                            "<tr><td>City of Heavenly Fire (The Mortal Instruments, #6)</td><td>8755785</td><td>8755785</td><td>30574</td><td>171251</td></tr>",
                            "<tr><td>The Unbearable Lightness of Being</td><td>9717</td><td>9717</td><td>30574</td><td>170503</td></tr>",
                            "<tr><td>Easy (Contours of the Heart, #1)</td><td>16056408</td><td>16056408</td><td>30574</td><td>170119</td></tr>",
                            "<tr><td>The Stand</td><td>149267</td><td>149267</td><td>30574</td><td>168898</td></tr>",
                            "<tr><td>Harry Potter and the Half-Blood Prince (Harry Potter, #6)</td><td>1</td><td>1</td><td>30574</td><td>167697</td></tr>",
                            "<tr><td>Attachments</td><td>8909152</td><td>8909152</td><td>30574</td><td>167644</td></tr>",
                            "<tr><td>A People's History of the United States</td><td>2767</td><td>2767</td><td>30574</td><td>166850</td></tr>",
                            "<tr><td>Siddhartha</td><td>52036</td><td>52036</td><td>30574</td><td>166101</td></tr>",
                            "<tr><td>Station Eleven</td><td>20170404</td><td>20170404</td><td>30574</td><td>165591</td></tr>",
                            "<tr><td>A Dance with Dragons (A Song of Ice and Fire, #5)</td><td>10664113</td><td>10664113</td><td>30574</td><td>163132</td></tr>",
                            "<tr><td>Cat's Cradle</td><td>135479</td><td>135479</td><td>30574</td><td>161030</td></tr>",
                            "<tr><td>House of Leaves</td><td>24800</td><td>24800</td><td>30574</td><td>160824</td></tr>",
                            "<tr><td>My Life Next Door</td><td>12294652</td><td>12294652</td><td>30574</td><td>160518</td></tr>",
                            "<tr><td>All the Ugly and Wonderful Things</td><td>26114135</td><td>26114135</td><td>30574</td><td>159524</td></tr>",
                            "<tr><td>1Q84</td><td>10357575</td><td>10357575</td><td>30574</td><td>158754</td></tr>",
                            "<tr><td>Dear John</td><td>5526</td><td>5526</td><td>30574</td><td>158655</td></tr>",
                            "<tr><td>Clockwork Prince (The Infernal Devices, #2)</td><td>10025305</td><td>10025305</td><td>30574</td><td>156839</td></tr>",
                            "<tr><td>Inferno (Robert Langdon, #4)</td><td>17212231</td><td>17212231</td><td>30574</td><td>155961</td></tr>",
                            "<tr><td>On the Road</td><td>70401</td><td>70401</td><td>30574</td><td>155810</td></tr>",
                            "<tr><td>The Time Machine</td><td>2493</td><td>2493</td><td>30574</td><td>155806</td></tr>",
                            "<tr><td>City of Ashes (The Mortal Instruments, #2)</td><td>1582996</td><td>1582996</td><td>30574</td><td>149747</td></tr>",
                            "<tr><td>Orphan Train</td><td>15818107</td><td>15818107</td><td>30574</td><td>147588</td></tr>",
                            "<tr><td>Running with Scissors</td><td>242006</td><td>242006</td><td>30574</td><td>147245</td></tr>",
                            "<tr><td>Dark Lover (Black Dagger Brotherhood, #1)</td><td>42899</td><td>42899</td><td>30574</td><td>147190</td></tr>",
                            "</table>"
                        ]
                    }
                }
            ],
            "execution_count": 31
        },
        {
            "cell_type": "code",
            "source": [
                "SELECT tag_name FROM BooksDB.dbo.tags WHERE tag_id = 30574"
            ],
            "metadata": {
                "language": "sql",
                "azdata_cell_guid": "055a9cfc-080f-4c69-804b-aac39998ed4d"
            },
            "outputs": [
                {
                    "output_type": "display_data",
                    "data": {
                        "text/html": "(1 row affected)"
                    },
                    "metadata": {}
                },
                {
                    "output_type": "display_data",
                    "data": {
                        "text/html": "Total execution time: 00:00:00.039"
                    },
                    "metadata": {}
                },
                {
                    "output_type": "execute_result",
                    "metadata": {},
                    "execution_count": 32,
                    "data": {
                        "application/vnd.dataresource+json": {
                            "schema": {
                                "fields": [
                                    {
                                        "name": "tag_name"
                                    }
                                ]
                            },
                            "data": [
                                {
                                    "0": "to-read"
                                }
                            ]
                        },
                        "text/html": [
                            "<table>",
                            "<tr><th>tag_name</th></tr>",
                            "<tr><td>to-read</td></tr>",
                            "</table>"
                        ]
                    }
                }
            ],
            "execution_count": 32
        },
        {
            "cell_type": "markdown",
            "source": [
                "## **QUESTION 6:** Find a book based on a tag of your choice using joins.\n",
                "\n",
                "Some suggestions: any hobbies you like? baking, drawing, etc. how about favorite holidays, subjects, animals, etc?\n",
                "\n",
                "**Part A:** Explore the tags table for a tag of your choice.  Suggested ideas, try searching for one of your hobbies, a favorite time of year, favorite animal, etc.  Start by querying the tag table for your chosen tag.  (_Hint:_ in order to make sure you find all combinations of your tags, use the wildcard).  If your query returns more than one result, pick your favorite.\n",
                "\n",
                "> > _Here is an example.  Alyce wanted to search for halloween books.  She used the wildcard, '%halloween%' and 8 different combinations were found.  Alyce selected '**halloween-storytime**', with a tag id of 13877._\n",
                "\n",
                "> _Minimum Desired Output:_ <span style=\"font-family: -apple-system, BlinkMacSystemFont, sans-serif; background-color: rgba(127, 127, 127, 0.1);\">tag name and tag id</span>\n",
                "\n",
                "> **Your Tag and Tag Id: 22439, opera**\n",
                "\n",
                "**Part B:** Now that you have the **tag id**, find the title that was tagged the most with this tag by joining the books and books\\_tags tables.\n",
                "\n",
                "> > _Alyce joined the book table with the tags table and discovered that <u>The Little Old Lady Who Was Not Afraid of Anything</u> was tagged as '**halloween-storytime**' the most._\n",
                "\n",
                "> _Minimum Desired Output:_ <span style=\"background-color: rgba(127, 127, 127, 0.1); font-family: -apple-system, BlinkMacSystemFont, sans-serif;\">title and tag count</span>\n",
                "\n",
                "> **Your Title and Number of times the tag was used: Bel Canto, 61**"
            ],
            "metadata": {
                "azdata_cell_guid": "df783e7e-3aff-4e63-9edb-f2e729c7d1c8"
            },
            "attachments": {}
        },
        {
            "cell_type": "code",
            "source": [
                "-- Code Here:\r\n",
                "SELECT TOP 100 *\r\n",
                "FROM BooksDB.dbo.tags\r\n",
                "WHERE tag_name LIKE '%opera%'\r\n",
                "ORDER BY tag_id ASC;"
            ],
            "metadata": {
                "azdata_cell_guid": "c4b0b67c-7cfa-4f52-be97-ffe5cc28ed54",
                "tags": [],
                "language": "sql"
            },
            "outputs": [
                {
                    "output_type": "display_data",
                    "data": {
                        "text/html": "(20 rows affected)"
                    },
                    "metadata": {}
                },
                {
                    "output_type": "display_data",
                    "data": {
                        "text/html": "Total execution time: 00:00:00.112"
                    },
                    "metadata": {}
                },
                {
                    "output_type": "execute_result",
                    "metadata": {},
                    "execution_count": 37,
                    "data": {
                        "application/vnd.dataresource+json": {
                            "schema": {
                                "fields": [
                                    {
                                        "name": "tag_id"
                                    },
                                    {
                                        "name": "tag_name"
                                    }
                                ]
                            },
                            "data": [
                                {
                                    "0": "5374",
                                    "1": "books-space-opera-7"
                                },
                                {
                                    "0": "7985",
                                    "1": "conjoined-twins-operation"
                                },
                                {
                                    "0": "8266",
                                    "1": "cooperate"
                                },
                                {
                                    "0": "8267",
                                    "1": "cooperation"
                                },
                                {
                                    "0": "8416",
                                    "1": "covert-operation"
                                },
                                {
                                    "0": "11472",
                                    "1": "fav-sf-opera"
                                },
                                {
                                    "0": "19851",
                                    "1": "metropolitan-opera"
                                },
                                {
                                    "0": "20032",
                                    "1": "mil-scifi-or-space-opera"
                                },
                                {
                                    "0": "20060",
                                    "1": "military-operations"
                                },
                                {
                                    "0": "22439",
                                    "1": "opera"
                                },
                                {
                                    "0": "22440",
                                    "1": "operation"
                                },
                                {
                                    "0": "22441",
                                    "1": "operations"
                                },
                                {
                                    "0": "22442",
                                    "1": "operations-management"
                                },
                                {
                                    "0": "22443",
                                    "1": "operative"
                                },
                                {
                                    "0": "23424",
                                    "1": "phantom-of-the-opera"
                                },
                                {
                                    "0": "26803",
                                    "1": "sci-fi-space-opera"
                                },
                                {
                                    "0": "26848",
                                    "1": "science-fiction-space-opera"
                                },
                                {
                                    "0": "27409",
                                    "1": "sf-space-opera"
                                },
                                {
                                    "0": "28247",
                                    "1": "space-opera"
                                },
                                {
                                    "0": "30013",
                                    "1": "the-phantom-of-the-opera"
                                }
                            ]
                        },
                        "text/html": [
                            "<table>",
                            "<tr><th>tag_id</th><th>tag_name</th></tr>",
                            "<tr><td>5374</td><td>books-space-opera-7</td></tr>",
                            "<tr><td>7985</td><td>conjoined-twins-operation</td></tr>",
                            "<tr><td>8266</td><td>cooperate</td></tr>",
                            "<tr><td>8267</td><td>cooperation</td></tr>",
                            "<tr><td>8416</td><td>covert-operation</td></tr>",
                            "<tr><td>11472</td><td>fav-sf-opera</td></tr>",
                            "<tr><td>19851</td><td>metropolitan-opera</td></tr>",
                            "<tr><td>20032</td><td>mil-scifi-or-space-opera</td></tr>",
                            "<tr><td>20060</td><td>military-operations</td></tr>",
                            "<tr><td>22439</td><td>opera</td></tr>",
                            "<tr><td>22440</td><td>operation</td></tr>",
                            "<tr><td>22441</td><td>operations</td></tr>",
                            "<tr><td>22442</td><td>operations-management</td></tr>",
                            "<tr><td>22443</td><td>operative</td></tr>",
                            "<tr><td>23424</td><td>phantom-of-the-opera</td></tr>",
                            "<tr><td>26803</td><td>sci-fi-space-opera</td></tr>",
                            "<tr><td>26848</td><td>science-fiction-space-opera</td></tr>",
                            "<tr><td>27409</td><td>sf-space-opera</td></tr>",
                            "<tr><td>28247</td><td>space-opera</td></tr>",
                            "<tr><td>30013</td><td>the-phantom-of-the-opera</td></tr>",
                            "</table>"
                        ]
                    }
                }
            ],
            "execution_count": 37
        },
        {
            "cell_type": "code",
            "source": [
                "SELECT TOP 100 b.title, b.best_book_id, bt.goodreads_book_id, bt.tag_id, bt.count \r\n",
                "FROM BooksDB.dbo.books AS b \r\n",
                "FULL JOIN BooksDB.dbo.book_tags AS bt \r\n",
                "ON b.best_book_id = bt.goodreads_book_id\r\n",
                "WHERE bt.tag_id = 22439\r\n",
                "ORDER BY bt.count DESC"
            ],
            "metadata": {
                "azdata_cell_guid": "32358ac5-cfc5-424c-86b0-d488f3e66293",
                "language": "sql"
            },
            "outputs": [
                {
                    "output_type": "display_data",
                    "data": {
                        "text/html": "(69 rows affected)"
                    },
                    "metadata": {}
                },
                {
                    "output_type": "display_data",
                    "data": {
                        "text/html": "Total execution time: 00:00:00.121"
                    },
                    "metadata": {}
                },
                {
                    "output_type": "execute_result",
                    "metadata": {},
                    "execution_count": 39,
                    "data": {
                        "application/vnd.dataresource+json": {
                            "schema": {
                                "fields": [
                                    {
                                        "name": "title"
                                    },
                                    {
                                        "name": "best_book_id"
                                    },
                                    {
                                        "name": "goodreads_book_id"
                                    },
                                    {
                                        "name": "tag_id"
                                    },
                                    {
                                        "name": "count"
                                    }
                                ]
                            },
                            "data": [
                                {
                                    "0": "Bel Canto",
                                    "1": "5826",
                                    "2": "5826",
                                    "3": "22439",
                                    "4": "61"
                                },
                                {
                                    "0": "Consider Phlebas (Culture, #1)",
                                    "1": "8935689",
                                    "2": "8935689",
                                    "3": "22439",
                                    "4": "30"
                                },
                                {
                                    "0": "The Phantom of the Opera",
                                    "1": "480204",
                                    "2": "480204",
                                    "3": "22439",
                                    "4": "28"
                                },
                                {
                                    "0": "Maskerade (Discworld, #18; Witches #5)",
                                    "1": "78876",
                                    "2": "78876",
                                    "3": "22439",
                                    "4": "28"
                                },
                                {
                                    "0": "Use of Weapons (Culture, #3)",
                                    "1": "12007",
                                    "2": "12007",
                                    "3": "22439",
                                    "4": "27"
                                },
                                {
                                    "0": "Look to Windward (Culture, #7)",
                                    "1": "12016",
                                    "2": "12016",
                                    "3": "22439",
                                    "4": "25"
                                },
                                {
                                    "0": "The Player of Games (Culture, #2)",
                                    "1": "18630",
                                    "2": "18630",
                                    "3": "22439",
                                    "4": "25"
                                },
                                {
                                    "0": "Hyperion (Hyperion Cantos, #1)",
                                    "1": "77566",
                                    "2": "77566",
                                    "3": "22439",
                                    "4": "23"
                                },
                                {
                                    "0": "Burning Chrome (Sprawl, #0)",
                                    "1": "22323",
                                    "2": "22323",
                                    "3": "22439",
                                    "4": "19"
                                },
                                {
                                    "0": "Childhood's End",
                                    "1": "414999",
                                    "2": "414999",
                                    "3": "22439",
                                    "4": "18"
                                },
                                {
                                    "0": "Matter (Culture, #8)",
                                    "1": "886066",
                                    "2": "886066",
                                    "3": "22439",
                                    "4": "17"
                                },
                                {
                                    "0": "Death at La Fenice (Commissario Brunetti, #1)",
                                    "1": "68099",
                                    "2": "68099",
                                    "3": "22439",
                                    "4": "15"
                                },
                                {
                                    "0": "The Algebraist",
                                    "1": "12009",
                                    "2": "12009",
                                    "3": "22439",
                                    "4": "14"
                                },
                                {
                                    "0": "Magician: Apprentice (The Riftwar Saga, #1)",
                                    "1": "13812",
                                    "2": "13812",
                                    "3": "22439",
                                    "4": "12"
                                },
                                {
                                    "0": "Revelation Space",
                                    "1": "89187",
                                    "2": "89187",
                                    "3": "22439",
                                    "4": "12"
                                },
                                {
                                    "0": "The Demolished Man",
                                    "1": "76740",
                                    "2": "76740",
                                    "3": "22439",
                                    "4": "11"
                                },
                                {
                                    "0": "Chasm City",
                                    "1": "89185",
                                    "2": "89185",
                                    "3": "22439",
                                    "4": "11"
                                },
                                {
                                    "0": "Flag in Exile (Honor Harrington, #5)",
                                    "1": "77738",
                                    "2": "77738",
                                    "3": "22439",
                                    "4": "10"
                                },
                                {
                                    "0": "Pushing Ice",
                                    "1": "89186",
                                    "2": "89186",
                                    "3": "22439",
                                    "4": "10"
                                },
                                {
                                    "0": "Pandora's Star",
                                    "1": "45252",
                                    "2": "45252",
                                    "3": "22439",
                                    "4": "10"
                                },
                                {
                                    "0": "The Puppet Masters",
                                    "1": "7171856",
                                    "2": "7171856",
                                    "3": "22439",
                                    "4": "9"
                                },
                                {
                                    "0": "The Honor of the Queen (Honor Harrington, #2)",
                                    "1": "77735",
                                    "2": "77735",
                                    "3": "22439",
                                    "4": "9"
                                },
                                {
                                    "0": "3001: The Final Odyssey (Space Odyssey, #4)",
                                    "1": "63432",
                                    "2": "63432",
                                    "3": "22439",
                                    "4": "9"
                                },
                                {
                                    "0": "Crystal Singer (Crystal Singer, #1)",
                                    "1": "653711",
                                    "2": "653711",
                                    "3": "22439",
                                    "4": "8"
                                },
                                {
                                    "0": "Surface Detail (Culture #9)",
                                    "1": "7937744",
                                    "2": "7937744",
                                    "3": "22439",
                                    "4": "8"
                                },
                                {
                                    "0": "The Last Command",
                                    "1": "216422",
                                    "2": "216422",
                                    "3": "22439",
                                    "4": "7"
                                },
                                {
                                    "0": "Redemption Ark",
                                    "1": "89190",
                                    "2": "89190",
                                    "3": "22439",
                                    "4": "7"
                                },
                                {
                                    "0": "2061: Odyssey Three (Space Odyssey, #3)",
                                    "1": "35816",
                                    "2": "35816",
                                    "3": "22439",
                                    "4": "7"
                                },
                                {
                                    "0": "The Dreaming Void",
                                    "1": "866136",
                                    "2": "866136",
                                    "3": "22439",
                                    "4": "6"
                                },
                                {
                                    "0": "The Door Into Summer",
                                    "1": "348",
                                    "2": "348",
                                    "3": "22439",
                                    "4": "6"
                                },
                                {
                                    "0": "Endymion (Hyperion Cantos, #3)",
                                    "1": "3977",
                                    "2": "3977",
                                    "3": "22439",
                                    "4": "6"
                                },
                                {
                                    "0": "The Rise of Endymion (Hyperion Cantos, #4)",
                                    "1": "11289",
                                    "2": "11289",
                                    "3": "22439",
                                    "4": "6"
                                },
                                {
                                    "0": "Judas Unchained",
                                    "1": "45244",
                                    "2": "45244",
                                    "3": "22439",
                                    "4": "6"
                                },
                                {
                                    "0": "Friday",
                                    "1": "17208",
                                    "2": "17208",
                                    "3": "22439",
                                    "4": "6"
                                },
                                {
                                    "0": "Jedi Search (Star Wars: The Jedi Academy Trilogy, #1)",
                                    "1": "760110",
                                    "2": "760110",
                                    "3": "22439",
                                    "4": "6"
                                },
                                {
                                    "0": "A Civil Campaign (Vorkosigan Saga, #12)",
                                    "1": "61899",
                                    "2": "61899",
                                    "3": "22439",
                                    "4": "6"
                                },
                                {
                                    "0": "The Short Victorious War (Honor Harrington, #3)",
                                    "1": "77736",
                                    "2": "77736",
                                    "3": "22439",
                                    "4": "6"
                                },
                                {
                                    "0": "Vision of the Future (Star Wars: The Hand of Thrawn, #2)",
                                    "1": "77786",
                                    "2": "77786",
                                    "3": "22439",
                                    "4": "6"
                                },
                                {
                                    "0": "Mirror Dance (Vorkosigan Saga, #8)",
                                    "1": "61909",
                                    "2": "61909",
                                    "3": "22439",
                                    "4": "6"
                                },
                                {
                                    "0": "Field of Dishonor (Honor Harrington, #4)",
                                    "1": "504369",
                                    "2": "504369",
                                    "3": "22439",
                                    "4": "6"
                                },
                                {
                                    "0": "Falling Free (Vorkosigan Saga, #4)",
                                    "1": "61915",
                                    "2": "61915",
                                    "3": "22439",
                                    "4": "5"
                                },
                                {
                                    "0": "The Renegades of Pern (Pern, #10)",
                                    "1": "20082",
                                    "2": "20082",
                                    "3": "22439",
                                    "4": "5"
                                },
                                {
                                    "0": "Absolution Gap",
                                    "1": "89184",
                                    "2": "89184",
                                    "3": "22439",
                                    "4": "5"
                                },
                                {
                                    "0": "Champions of the Force (Star Wars: The Jedi Academy Trilogy, #3)",
                                    "1": "513207",
                                    "2": "513207",
                                    "3": "22439",
                                    "4": "5"
                                },
                                {
                                    "0": "Startide Rising (The Uplift Saga, #2)",
                                    "1": "234501",
                                    "2": "234501",
                                    "3": "22439",
                                    "4": "5"
                                },
                                {
                                    "0": "Excession (Culture, #5)",
                                    "1": "12013",
                                    "2": "12013",
                                    "3": "22439",
                                    "4": "5"
                                },
                                {
                                    "0": "The Uplift War (The Uplift Saga, #3)",
                                    "1": "234489",
                                    "2": "234489",
                                    "3": "22439",
                                    "4": "5"
                                },
                                {
                                    "0": "Blue Mars (Mars Trilogy, #3)",
                                    "1": "77504",
                                    "2": "77504",
                                    "3": "22439",
                                    "4": "5"
                                },
                                {
                                    "0": "All the Weyrs of Pern (Pern, #11)",
                                    "1": "61926",
                                    "2": "61926",
                                    "3": "22439",
                                    "4": "5"
                                },
                                {
                                    "0": "Cry to Heaven",
                                    "1": "31335",
                                    "2": "31335",
                                    "3": "22439",
                                    "4": "4"
                                },
                                {
                                    "0": "The Butlerian Jihad (Legends of Dune, #1)",
                                    "1": "99219",
                                    "2": "99219",
                                    "3": "22439",
                                    "4": "4"
                                },
                                {
                                    "0": "Path of Destruction (Star Wars: Darth Bane, #1)",
                                    "1": "35430",
                                    "2": "35430",
                                    "3": "22439",
                                    "4": "4"
                                },
                                {
                                    "0": "The Temporal Void",
                                    "1": "3437328",
                                    "2": "3437328",
                                    "3": "22439",
                                    "4": "4"
                                },
                                {
                                    "0": "The Evolutionary Void",
                                    "1": "7438179",
                                    "2": "7438179",
                                    "3": "22439",
                                    "4": "4"
                                },
                                {
                                    "0": "The Chronicles of Pern: First Fall (Pern, #12)",
                                    "1": "96463",
                                    "2": "96463",
                                    "3": "22439",
                                    "4": "4"
                                },
                                {
                                    "0": "Honor Among Enemies (Honor Harrington, #6)",
                                    "1": "77739",
                                    "2": "77739",
                                    "3": "22439",
                                    "4": "4"
                                },
                                {
                                    "0": "Job: A Comedy of Justice",
                                    "1": "355",
                                    "2": "355",
                                    "3": "22439",
                                    "4": "4"
                                },
                                {
                                    "0": "Specter of the Past (Star Wars: The Hand of Thrawn, #1)",
                                    "1": "77787",
                                    "2": "77787",
                                    "3": "22439",
                                    "4": "4"
                                },
                                {
                                    "0": "Battlefield Earth: A Saga of the Year 3000",
                                    "1": "769658",
                                    "2": "769658",
                                    "3": "22439",
                                    "4": "4"
                                },
                                {
                                    "0": "Rule of Two (Star Wars: Darth Bane, #2)",
                                    "1": "1347837",
                                    "2": "1347837",
                                    "3": "22439",
                                    "4": "4"
                                },
                                {
                                    "0": "Vector Prime (Star Wars: The New Jedi Order, #1)",
                                    "1": "192214",
                                    "2": "192214",
                                    "3": "22439",
                                    "4": "4"
                                },
                                {
                                    "0": "Against a Dark Background",
                                    "1": "422452",
                                    "2": "422452",
                                    "3": "22439",
                                    "4": "3"
                                },
                                {
                                    "0": "The Neutronium Alchemist (Night's Dawn, #2)",
                                    "1": "479561",
                                    "2": "479561",
                                    "3": "22439",
                                    "4": "3"
                                },
                                {
                                    "0": "The Naked God (Night's Dawn, #3)",
                                    "1": "45260",
                                    "2": "45260",
                                    "3": "22439",
                                    "4": "3"
                                },
                                {
                                    "0": "Hunters of Dune (Dune Chronicles #7)",
                                    "1": "20249",
                                    "2": "20249",
                                    "3": "22439",
                                    "4": "3"
                                },
                                {
                                    "0": "The Prefect (Prefect Dreyfus Emergency, #1)",
                                    "1": "89195",
                                    "2": "89195",
                                    "3": "22439",
                                    "4": "3"
                                },
                                {
                                    "0": "Dynasty of Evil (Star Wars: Darth Bane, #3)",
                                    "1": "6351910",
                                    "2": "6351910",
                                    "3": "22439",
                                    "4": "3"
                                },
                                {
                                    "0": "Relentless (The Lost Fleet, #5)",
                                    "1": "5292173",
                                    "2": "5292173",
                                    "3": "22439",
                                    "4": "3"
                                },
                                {
                                    "0": "The Stainless Steel Rat (Stainless Steel Rat, #4)",
                                    "1": "64394",
                                    "2": "64394",
                                    "3": "22439",
                                    "4": "2"
                                }
                            ]
                        },
                        "text/html": [
                            "<table>",
                            "<tr><th>title</th><th>best_book_id</th><th>goodreads_book_id</th><th>tag_id</th><th>count</th></tr>",
                            "<tr><td>Bel Canto</td><td>5826</td><td>5826</td><td>22439</td><td>61</td></tr>",
                            "<tr><td>Consider Phlebas (Culture, #1)</td><td>8935689</td><td>8935689</td><td>22439</td><td>30</td></tr>",
                            "<tr><td>The Phantom of the Opera</td><td>480204</td><td>480204</td><td>22439</td><td>28</td></tr>",
                            "<tr><td>Maskerade (Discworld, #18; Witches #5)</td><td>78876</td><td>78876</td><td>22439</td><td>28</td></tr>",
                            "<tr><td>Use of Weapons (Culture, #3)</td><td>12007</td><td>12007</td><td>22439</td><td>27</td></tr>",
                            "<tr><td>Look to Windward (Culture, #7)</td><td>12016</td><td>12016</td><td>22439</td><td>25</td></tr>",
                            "<tr><td>The Player of Games (Culture, #2)</td><td>18630</td><td>18630</td><td>22439</td><td>25</td></tr>",
                            "<tr><td>Hyperion (Hyperion Cantos, #1)</td><td>77566</td><td>77566</td><td>22439</td><td>23</td></tr>",
                            "<tr><td>Burning Chrome (Sprawl, #0)</td><td>22323</td><td>22323</td><td>22439</td><td>19</td></tr>",
                            "<tr><td>Childhood's End</td><td>414999</td><td>414999</td><td>22439</td><td>18</td></tr>",
                            "<tr><td>Matter (Culture, #8)</td><td>886066</td><td>886066</td><td>22439</td><td>17</td></tr>",
                            "<tr><td>Death at La Fenice (Commissario Brunetti, #1)</td><td>68099</td><td>68099</td><td>22439</td><td>15</td></tr>",
                            "<tr><td>The Algebraist</td><td>12009</td><td>12009</td><td>22439</td><td>14</td></tr>",
                            "<tr><td>Magician: Apprentice (The Riftwar Saga, #1)</td><td>13812</td><td>13812</td><td>22439</td><td>12</td></tr>",
                            "<tr><td>Revelation Space</td><td>89187</td><td>89187</td><td>22439</td><td>12</td></tr>",
                            "<tr><td>The Demolished Man</td><td>76740</td><td>76740</td><td>22439</td><td>11</td></tr>",
                            "<tr><td>Chasm City</td><td>89185</td><td>89185</td><td>22439</td><td>11</td></tr>",
                            "<tr><td>Flag in Exile (Honor Harrington, #5)</td><td>77738</td><td>77738</td><td>22439</td><td>10</td></tr>",
                            "<tr><td>Pushing Ice</td><td>89186</td><td>89186</td><td>22439</td><td>10</td></tr>",
                            "<tr><td>Pandora's Star</td><td>45252</td><td>45252</td><td>22439</td><td>10</td></tr>",
                            "<tr><td>The Puppet Masters</td><td>7171856</td><td>7171856</td><td>22439</td><td>9</td></tr>",
                            "<tr><td>The Honor of the Queen (Honor Harrington, #2)</td><td>77735</td><td>77735</td><td>22439</td><td>9</td></tr>",
                            "<tr><td>3001: The Final Odyssey (Space Odyssey, #4)</td><td>63432</td><td>63432</td><td>22439</td><td>9</td></tr>",
                            "<tr><td>Crystal Singer (Crystal Singer, #1)</td><td>653711</td><td>653711</td><td>22439</td><td>8</td></tr>",
                            "<tr><td>Surface Detail (Culture #9)</td><td>7937744</td><td>7937744</td><td>22439</td><td>8</td></tr>",
                            "<tr><td>The Last Command</td><td>216422</td><td>216422</td><td>22439</td><td>7</td></tr>",
                            "<tr><td>Redemption Ark</td><td>89190</td><td>89190</td><td>22439</td><td>7</td></tr>",
                            "<tr><td>2061: Odyssey Three (Space Odyssey, #3)</td><td>35816</td><td>35816</td><td>22439</td><td>7</td></tr>",
                            "<tr><td>The Dreaming Void</td><td>866136</td><td>866136</td><td>22439</td><td>6</td></tr>",
                            "<tr><td>The Door Into Summer</td><td>348</td><td>348</td><td>22439</td><td>6</td></tr>",
                            "<tr><td>Endymion (Hyperion Cantos, #3)</td><td>3977</td><td>3977</td><td>22439</td><td>6</td></tr>",
                            "<tr><td>The Rise of Endymion (Hyperion Cantos, #4)</td><td>11289</td><td>11289</td><td>22439</td><td>6</td></tr>",
                            "<tr><td>Judas Unchained</td><td>45244</td><td>45244</td><td>22439</td><td>6</td></tr>",
                            "<tr><td>Friday</td><td>17208</td><td>17208</td><td>22439</td><td>6</td></tr>",
                            "<tr><td>Jedi Search (Star Wars: The Jedi Academy Trilogy, #1)</td><td>760110</td><td>760110</td><td>22439</td><td>6</td></tr>",
                            "<tr><td>A Civil Campaign (Vorkosigan Saga, #12)</td><td>61899</td><td>61899</td><td>22439</td><td>6</td></tr>",
                            "<tr><td>The Short Victorious War (Honor Harrington, #3)</td><td>77736</td><td>77736</td><td>22439</td><td>6</td></tr>",
                            "<tr><td>Vision of the Future (Star Wars: The Hand of Thrawn, #2)</td><td>77786</td><td>77786</td><td>22439</td><td>6</td></tr>",
                            "<tr><td>Mirror Dance (Vorkosigan Saga, #8)</td><td>61909</td><td>61909</td><td>22439</td><td>6</td></tr>",
                            "<tr><td>Field of Dishonor (Honor Harrington, #4)</td><td>504369</td><td>504369</td><td>22439</td><td>6</td></tr>",
                            "<tr><td>Falling Free (Vorkosigan Saga, #4)</td><td>61915</td><td>61915</td><td>22439</td><td>5</td></tr>",
                            "<tr><td>The Renegades of Pern (Pern, #10)</td><td>20082</td><td>20082</td><td>22439</td><td>5</td></tr>",
                            "<tr><td>Absolution Gap</td><td>89184</td><td>89184</td><td>22439</td><td>5</td></tr>",
                            "<tr><td>Champions of the Force (Star Wars: The Jedi Academy Trilogy, #3)</td><td>513207</td><td>513207</td><td>22439</td><td>5</td></tr>",
                            "<tr><td>Startide Rising (The Uplift Saga, #2)</td><td>234501</td><td>234501</td><td>22439</td><td>5</td></tr>",
                            "<tr><td>Excession (Culture, #5)</td><td>12013</td><td>12013</td><td>22439</td><td>5</td></tr>",
                            "<tr><td>The Uplift War (The Uplift Saga, #3)</td><td>234489</td><td>234489</td><td>22439</td><td>5</td></tr>",
                            "<tr><td>Blue Mars (Mars Trilogy, #3)</td><td>77504</td><td>77504</td><td>22439</td><td>5</td></tr>",
                            "<tr><td>All the Weyrs of Pern (Pern, #11)</td><td>61926</td><td>61926</td><td>22439</td><td>5</td></tr>",
                            "<tr><td>Cry to Heaven</td><td>31335</td><td>31335</td><td>22439</td><td>4</td></tr>",
                            "<tr><td>The Butlerian Jihad (Legends of Dune, #1)</td><td>99219</td><td>99219</td><td>22439</td><td>4</td></tr>",
                            "<tr><td>Path of Destruction (Star Wars: Darth Bane, #1)</td><td>35430</td><td>35430</td><td>22439</td><td>4</td></tr>",
                            "<tr><td>The Temporal Void</td><td>3437328</td><td>3437328</td><td>22439</td><td>4</td></tr>",
                            "<tr><td>The Evolutionary Void</td><td>7438179</td><td>7438179</td><td>22439</td><td>4</td></tr>",
                            "<tr><td>The Chronicles of Pern: First Fall (Pern, #12)</td><td>96463</td><td>96463</td><td>22439</td><td>4</td></tr>",
                            "<tr><td>Honor Among Enemies (Honor Harrington, #6)</td><td>77739</td><td>77739</td><td>22439</td><td>4</td></tr>",
                            "<tr><td>Job: A Comedy of Justice</td><td>355</td><td>355</td><td>22439</td><td>4</td></tr>",
                            "<tr><td>Specter of the Past (Star Wars: The Hand of Thrawn, #1)</td><td>77787</td><td>77787</td><td>22439</td><td>4</td></tr>",
                            "<tr><td>Battlefield Earth: A Saga of the Year 3000</td><td>769658</td><td>769658</td><td>22439</td><td>4</td></tr>",
                            "<tr><td>Rule of Two (Star Wars: Darth Bane, #2)</td><td>1347837</td><td>1347837</td><td>22439</td><td>4</td></tr>",
                            "<tr><td>Vector Prime (Star Wars: The New Jedi Order, #1)</td><td>192214</td><td>192214</td><td>22439</td><td>4</td></tr>",
                            "<tr><td>Against a Dark Background</td><td>422452</td><td>422452</td><td>22439</td><td>3</td></tr>",
                            "<tr><td>The Neutronium Alchemist (Night's Dawn, #2)</td><td>479561</td><td>479561</td><td>22439</td><td>3</td></tr>",
                            "<tr><td>The Naked God (Night's Dawn, #3)</td><td>45260</td><td>45260</td><td>22439</td><td>3</td></tr>",
                            "<tr><td>Hunters of Dune (Dune Chronicles #7)</td><td>20249</td><td>20249</td><td>22439</td><td>3</td></tr>",
                            "<tr><td>The Prefect (Prefect Dreyfus Emergency, #1)</td><td>89195</td><td>89195</td><td>22439</td><td>3</td></tr>",
                            "<tr><td>Dynasty of Evil (Star Wars: Darth Bane, #3)</td><td>6351910</td><td>6351910</td><td>22439</td><td>3</td></tr>",
                            "<tr><td>Relentless (The Lost Fleet, #5)</td><td>5292173</td><td>5292173</td><td>22439</td><td>3</td></tr>",
                            "<tr><td>The Stainless Steel Rat (Stainless Steel Rat, #4)</td><td>64394</td><td>64394</td><td>22439</td><td>2</td></tr>",
                            "</table>"
                        ]
                    }
                }
            ],
            "execution_count": 39
        },
        {
            "cell_type": "markdown",
            "source": [
                "## **QUESTION 7:** What are the top 10 most popular book titles on the 'to read' list?\n",
                "\n",
                "**Part A:**  Explore how the **to\\_read** and **books** tables are organized, and then join them.  What will you use as a key?\n",
                "\n",
                "> Your Answer:\n",
                "\n",
                "**Part B:** Organize your newly joined table in a way that groups popularity based on the title based on users.\n",
                "\n",
                "> _Hint:_ Suggest using an alias for the aggregation you will need to run on the **user\\_id**\n",
                "\n",
                "> _Minimum Desired Output:_ title and aliased column"
            ],
            "metadata": {
                "azdata_cell_guid": "4e5349b7-24f6-481a-9d88-bb4f86abc624"
            },
            "attachments": {}
        },
        {
            "cell_type": "code",
            "source": [
                "-- Code Here:\r\n",
                "SELECT TOP 10 * FROM BooksDB.dbo.to_read"
            ],
            "metadata": {
                "azdata_cell_guid": "8af25df1-ce61-4152-8198-0b53c17642d0",
                "language": "sql"
            },
            "outputs": [
                {
                    "output_type": "display_data",
                    "data": {
                        "text/html": "(10 rows affected)"
                    },
                    "metadata": {}
                },
                {
                    "output_type": "display_data",
                    "data": {
                        "text/html": "Total execution time: 00:00:00.040"
                    },
                    "metadata": {}
                },
                {
                    "output_type": "execute_result",
                    "metadata": {},
                    "execution_count": 40,
                    "data": {
                        "application/vnd.dataresource+json": {
                            "schema": {
                                "fields": [
                                    {
                                        "name": "user_id"
                                    },
                                    {
                                        "name": "book_id"
                                    }
                                ]
                            },
                            "data": [
                                {
                                    "0": "1",
                                    "1": "112"
                                },
                                {
                                    "0": "1",
                                    "1": "235"
                                },
                                {
                                    "0": "1",
                                    "1": "533"
                                },
                                {
                                    "0": "1",
                                    "1": "1198"
                                },
                                {
                                    "0": "1",
                                    "1": "1874"
                                },
                                {
                                    "0": "1",
                                    "1": "2058"
                                },
                                {
                                    "0": "1",
                                    "1": "3334"
                                },
                                {
                                    "0": "2",
                                    "1": "4"
                                },
                                {
                                    "0": "2",
                                    "1": "11"
                                },
                                {
                                    "0": "2",
                                    "1": "13"
                                }
                            ]
                        },
                        "text/html": [
                            "<table>",
                            "<tr><th>user_id</th><th>book_id</th></tr>",
                            "<tr><td>1</td><td>112</td></tr>",
                            "<tr><td>1</td><td>235</td></tr>",
                            "<tr><td>1</td><td>533</td></tr>",
                            "<tr><td>1</td><td>1198</td></tr>",
                            "<tr><td>1</td><td>1874</td></tr>",
                            "<tr><td>1</td><td>2058</td></tr>",
                            "<tr><td>1</td><td>3334</td></tr>",
                            "<tr><td>2</td><td>4</td></tr>",
                            "<tr><td>2</td><td>11</td></tr>",
                            "<tr><td>2</td><td>13</td></tr>",
                            "</table>"
                        ]
                    }
                }
            ],
            "execution_count": 40
        },
        {
            "cell_type": "code",
            "source": [
                "SELECT TOP 100 b.title, b.best_book_id, bt.goodreads_book_id, bt.tag_id, bt.count \r\n",
                "FROM BooksDB.dbo.books AS b \r\n",
                "INNER JOIN BooksDB.dbo.book_tags AS bt \r\n",
                "ON b.best_book_id = bt.goodreads_book_id\r\n",
                "ORDER BY bt.count DESC"
            ],
            "metadata": {
                "language": "sql",
                "azdata_cell_guid": "dd765cca-8285-4db9-89b9-3d3ca190ad82"
            },
            "outputs": [],
            "execution_count": null
        },
        {
            "cell_type": "markdown",
            "source": [
                "## **QUESTION 8:** Largest 'To Read' Lists\n",
                "\n",
                "**Part A:**  Create a query that returns a table that contains the top 10 users with the most number of titles on their 'to read' list.    Group all the entries by user\\_id.  \n",
                "\n",
                "> _Hint:_ You might want an alias for the titles.\n",
                "> \n",
                "> _Minimum Desired Output:_  user\\_id and your aliased column of titles.\n",
                "\n",
                "**Part B:**  The longest list length is 15 titles total, and is shared by 4 different users.  Select one of the uses and print out their entire '**to read**' list."
            ],
            "metadata": {
                "azdata_cell_guid": "0b0090b0-2b28-44c6-8bb6-06b4c03c3ff1"
            },
            "attachments": {}
        },
        {
            "cell_type": "code",
            "source": [
                "-- Code Here:"
            ],
            "metadata": {
                "azdata_cell_guid": "c6c815f8-890d-4163-be63-3d300e320597",
                "tags": [],
                "language": "sql"
            },
            "outputs": [
                {
                    "output_type": "display_data",
                    "data": {
                        "text/html": "Commands completed successfully."
                    },
                    "metadata": {}
                },
                {
                    "output_type": "display_data",
                    "data": {
                        "text/html": "Total execution time: 00:00:00.055"
                    },
                    "metadata": {}
                }
            ],
            "execution_count": 30
        }
    ]
}